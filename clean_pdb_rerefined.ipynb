{
 "cells": [
  {
   "cell_type": "code",
   "execution_count": 3,
   "metadata": {},
   "outputs": [],
   "source": [
    "import pdbfixer\n",
    "import mdtraj as md\n",
    "from simtk.openmm.app import PDBFile\n",
    "from simtk.openmm.app.topology import Topology"
   ]
  },
  {
   "cell_type": "markdown",
   "metadata": {},
   "source": [
    "# 5UDC"
   ]
  },
  {
   "cell_type": "code",
   "execution_count": 26,
   "metadata": {},
   "outputs": [],
   "source": [
    "# Load the file into PDBFixer\n",
    "fixer = pdbfixer.PDBFixer(filename='../data/rerefinement_gyorgy/5udc_final_v2_refmac1_splitchain_capped.pdb')"
   ]
  },
  {
   "cell_type": "code",
   "execution_count": 18,
   "metadata": {},
   "outputs": [
    {
     "data": {
      "text/plain": [
       "{(0, 0): ['GLN'],\n",
       " (0, 139): ['SER', 'LYS', 'SER', 'THR', 'SER', 'GLY'],\n",
       " (0, 217): ['GLU', 'PRO', 'LYS', 'SER'],\n",
       " (1, 211): ['GLY', 'GLU', 'CYS'],\n",
       " (2, 0): ['MET',\n",
       "  'GLU',\n",
       "  'LEU',\n",
       "  'LEU',\n",
       "  'ILE',\n",
       "  'LEU',\n",
       "  'LYS',\n",
       "  'ALA',\n",
       "  'ASN',\n",
       "  'ALA',\n",
       "  'ILE',\n",
       "  'THR',\n",
       "  'THR',\n",
       "  'ILE',\n",
       "  'LEU',\n",
       "  'THR',\n",
       "  'ALA',\n",
       "  'VAL',\n",
       "  'THR',\n",
       "  'PHE',\n",
       "  'CYS',\n",
       "  'PHE',\n",
       "  'ALA',\n",
       "  'SER',\n",
       "  'GLY',\n",
       "  'GLN'],\n",
       " (4, 0): ['GLN'],\n",
       " (4, 139): ['SER', 'LYS', 'SER', 'THR', 'SER', 'GLY', 'GLY'],\n",
       " (4, 218): ['LYS', 'SER'],\n",
       " (5, 211): ['GLY', 'GLU', 'CYS'],\n",
       " (6, 0): ['MET',\n",
       "  'GLU',\n",
       "  'LEU',\n",
       "  'LEU',\n",
       "  'ILE',\n",
       "  'LEU',\n",
       "  'LYS',\n",
       "  'ALA',\n",
       "  'ASN',\n",
       "  'ALA',\n",
       "  'ILE',\n",
       "  'THR',\n",
       "  'THR',\n",
       "  'ILE',\n",
       "  'LEU',\n",
       "  'THR',\n",
       "  'ALA',\n",
       "  'VAL',\n",
       "  'THR',\n",
       "  'PHE',\n",
       "  'CYS',\n",
       "  'PHE',\n",
       "  'ALA',\n",
       "  'SER',\n",
       "  'GLY',\n",
       "  'GLN'],\n",
       " (8, 139): ['SER', 'SER', 'LYS', 'SER', 'THR', 'SER', 'GLY', 'GLY'],\n",
       " (9, 213): ['CYS'],\n",
       " (10, 0): ['MET',\n",
       "  'GLU',\n",
       "  'LEU',\n",
       "  'LEU',\n",
       "  'ILE',\n",
       "  'LEU',\n",
       "  'LYS',\n",
       "  'ALA',\n",
       "  'ASN',\n",
       "  'ALA',\n",
       "  'ILE',\n",
       "  'THR',\n",
       "  'THR',\n",
       "  'ILE',\n",
       "  'LEU',\n",
       "  'THR',\n",
       "  'ALA',\n",
       "  'VAL',\n",
       "  'THR',\n",
       "  'PHE',\n",
       "  'CYS',\n",
       "  'PHE',\n",
       "  'ALA',\n",
       "  'SER',\n",
       "  'GLY',\n",
       "  'GLN'],\n",
       " (10, 71): ['GLN']}"
      ]
     },
     "execution_count": 18,
     "metadata": {},
     "output_type": "execute_result"
    }
   ],
   "source": [
    "# Identify missing residues\n",
    "fixer.findMissingResidues()\n",
    "fixer.missingResidues"
   ]
  },
  {
   "cell_type": "code",
   "execution_count": 19,
   "metadata": {},
   "outputs": [],
   "source": [
    "# Remove missing residues if they are part of terminal fragments \n",
    "chains = list(fixer.topology.chains())\n",
    "keys = fixer.missingResidues.keys()\n",
    "for key in list(keys): # Declare as list because makes a copy of the dict keys\n",
    "    chain = chains[key[0]]\n",
    "    if key[1] == 0 or key[1] == len(list(chain.residues())):\n",
    "        if len(fixer.missingResidues[key]) > 10: # Do not add back terminal fragment if its longer than 10 residues\n",
    "            if fixer.missingResidues[key][0] == 'LEU':\n",
    "                fixer.missingResidues[key] = ['LEU'] # Add LEU back in even though loop will not be added back in\n",
    "            elif fixer.missingResidues[key][-1] == 'GLN':\n",
    "                fixer.missingResidues[key] = ['GLN'] # Add GLN back in even though loop will not be added back in\n",
    "            else:\n",
    "                print(key, chain, fixer.missingResidues[key])\n",
    "                del fixer.missingResidues[key]"
   ]
  },
  {
   "cell_type": "code",
   "execution_count": 20,
   "metadata": {},
   "outputs": [
    {
     "data": {
      "text/plain": [
       "{(0, 0): ['GLN'],\n",
       " (0, 139): ['SER', 'LYS', 'SER', 'THR', 'SER', 'GLY'],\n",
       " (0, 217): ['GLU', 'PRO', 'LYS', 'SER'],\n",
       " (1, 211): ['GLY', 'GLU', 'CYS'],\n",
       " (2, 0): ['GLN'],\n",
       " (4, 0): ['GLN'],\n",
       " (4, 139): ['SER', 'LYS', 'SER', 'THR', 'SER', 'GLY', 'GLY'],\n",
       " (4, 218): ['LYS', 'SER'],\n",
       " (5, 211): ['GLY', 'GLU', 'CYS'],\n",
       " (6, 0): ['GLN'],\n",
       " (8, 139): ['SER', 'SER', 'LYS', 'SER', 'THR', 'SER', 'GLY', 'GLY'],\n",
       " (9, 213): ['CYS'],\n",
       " (10, 0): ['GLN'],\n",
       " (10, 71): ['GLN']}"
      ]
     },
     "execution_count": 20,
     "metadata": {},
     "output_type": "execute_result"
    }
   ],
   "source": [
    "fixer.missingResidues"
   ]
  },
  {
   "cell_type": "code",
   "execution_count": 21,
   "metadata": {},
   "outputs": [
    {
     "data": {
      "text/plain": [
       "[]"
      ]
     },
     "execution_count": 21,
     "metadata": {},
     "output_type": "execute_result"
    }
   ],
   "source": [
    "# Identify nonstandard residues\n",
    "fixer.findNonstandardResidues()\n",
    "fixer.nonstandardResidues"
   ]
  },
  {
   "cell_type": "code",
   "execution_count": 22,
   "metadata": {},
   "outputs": [],
   "source": [
    "# Remove heterogens\n",
    "\n",
    "# The argument specifies whether to keep water molecules. \n",
    "# False removes all heterogens including water. \n",
    "# True keeps water molecules while removing all other heterogens.\n",
    "\n",
    "fixer.removeHeterogens(False)\n"
   ]
  },
  {
   "cell_type": "code",
   "execution_count": 23,
   "metadata": {},
   "outputs": [],
   "source": [
    "# findMissingAtoms() identifies all missing heavy atoms \n",
    "# and stores them into two fields called missingAtoms and missingTerminals. \n",
    "# Each of these is a dictionary whose keys are Residue objects and whose values are lists of atom names. \n",
    "# missingAtoms contains standard atoms that should be present in any residue of that type, \n",
    "# while missingTerminals contains missing terminal atoms that should be present at the start or end of a chain. \n",
    "# You are free to remove atoms from these dictionaries before continuing, if you want to prevent certain atoms \n",
    "# from being added.\n",
    "\n",
    "fixer.findMissingAtoms()"
   ]
  },
  {
   "cell_type": "code",
   "execution_count": 24,
   "metadata": {},
   "outputs": [],
   "source": [
    "# addMissingAtoms() is the point at which all heavy atoms get added. \n",
    "# This includes the ones identified by findMissingAtoms() as well \n",
    "# as the missing residues identified by findMissingResidues(). \n",
    "# Also, if you used replaceNonstandardResidues() to modify any residues, \n",
    "# that will have removed any atoms that do not belong in the replacement residue, \n",
    "# but it will not have added ones that are missing from the original residue. \n",
    "# addMissingAtoms() is the point when those get added.\n",
    "\n",
    "fixer.addMissingAtoms()"
   ]
  },
  {
   "cell_type": "code",
   "execution_count": 25,
   "metadata": {},
   "outputs": [],
   "source": [
    "PDBFile.writeFile(fixer.topology, fixer.positions, open('../data/rerefinement_gyorgy/5udc_final_v2_refmac1_clean.pdb', 'w'))\n"
   ]
  },
  {
   "cell_type": "markdown",
   "metadata": {},
   "source": [
    "# 4JHW"
   ]
  },
  {
   "cell_type": "code",
   "execution_count": 8,
   "metadata": {},
   "outputs": [],
   "source": [
    "# Load the file into PDBFixer\n",
    "fixer = pdbfixer.PDBFixer(filename=\"../data/rerefinement_gyorgy/4jhw_final_v2_refmac1_splitchain_capped.pdb\")\n"
   ]
  },
  {
   "cell_type": "code",
   "execution_count": 9,
   "metadata": {},
   "outputs": [
    {
     "data": {
      "text/plain": [
       "{(0, 224): ['GLU', 'PRO', 'LYS', 'SER', 'CYS', 'ASP'],\n",
       " (1, 211): ['GLY', 'GLU', 'CYS'],\n",
       " (2, 72): ['GLN']}"
      ]
     },
     "execution_count": 9,
     "metadata": {},
     "output_type": "execute_result"
    }
   ],
   "source": [
    "# Identify missing residues\n",
    "fixer.findMissingResidues()\n",
    "fixer.missingResidues"
   ]
  },
  {
   "cell_type": "code",
   "execution_count": 10,
   "metadata": {},
   "outputs": [],
   "source": [
    "# Remove missing residues if they are part of terminal fragments \n",
    "chains = list(fixer.topology.chains())\n",
    "keys = fixer.missingResidues.keys()\n",
    "for key in list(keys): # Declare as list because makes a copy of the dict keys\n",
    "    chain = chains[key[0]]\n",
    "    if chain.index == 0: # Do not add back KS at the c-term of chain 0\n",
    "        fixer.missingResidues[key] = ['LYS', 'SER']\n",
    "    if key[1] == 0 or key[1] == len(list(chain.residues())):\n",
    "        if len(fixer.missingResidues[key]) > 10: # Do not add back terminal fragment if its longer than 10 residues\n",
    "            print(key, chain)\n",
    "            del fixer.missingResidues[key]"
   ]
  },
  {
   "cell_type": "code",
   "execution_count": 11,
   "metadata": {},
   "outputs": [
    {
     "data": {
      "text/plain": [
       "{(0, 224): ['LYS', 'SER'], (1, 211): ['GLY', 'GLU', 'CYS'], (2, 72): ['GLN']}"
      ]
     },
     "execution_count": 11,
     "metadata": {},
     "output_type": "execute_result"
    }
   ],
   "source": [
    "fixer.missingResidues"
   ]
  },
  {
   "cell_type": "code",
   "execution_count": 12,
   "metadata": {},
   "outputs": [
    {
     "data": {
      "text/plain": [
       "[]"
      ]
     },
     "execution_count": 12,
     "metadata": {},
     "output_type": "execute_result"
    }
   ],
   "source": [
    "# Identify nonstandard residues\n",
    "fixer.findNonstandardResidues()\n",
    "fixer.nonstandardResidues\n",
    "# fixer.replaceNonstandardResidues()"
   ]
  },
  {
   "cell_type": "code",
   "execution_count": 13,
   "metadata": {},
   "outputs": [],
   "source": [
    "# Remove heterogens\n",
    "\n",
    "# The argument specifies whether to keep water molecules. \n",
    "# False removes all heterogens including water. \n",
    "# True keeps water molecules while removing all other heterogens.\n",
    "\n",
    "fixer.removeHeterogens(False)\n"
   ]
  },
  {
   "cell_type": "code",
   "execution_count": 14,
   "metadata": {},
   "outputs": [],
   "source": [
    "# findMissingAtoms() identifies all missing heavy atoms \n",
    "# and stores them into two fields called missingAtoms and missingTerminals. \n",
    "# Each of these is a dictionary whose keys are Residue objects and whose values are lists of atom names. \n",
    "# missingAtoms contains standard atoms that should be present in any residue of that type, \n",
    "# while missingTerminals contains missing terminal atoms that should be present at the start or end of a chain. \n",
    "# You are free to remove atoms from these dictionaries before continuing, if you want to prevent certain atoms \n",
    "# from being added.\n",
    "\n",
    "fixer.findMissingAtoms()\n"
   ]
  },
  {
   "cell_type": "code",
   "execution_count": 15,
   "metadata": {},
   "outputs": [],
   "source": [
    "# addMissingAtoms() is the point at which all heavy atoms get added. \n",
    "# This includes the ones identified by findMissingAtoms() as well \n",
    "# as the missing residues identified by findMissingResidues(). \n",
    "# Also, if you used replaceNonstandardResidues() to modify any residues, \n",
    "# that will have removed any atoms that do not belong in the replacement residue, \n",
    "# but it will not have added ones that are missing from the original residue. \n",
    "# addMissingAtoms() is the point when those get added.\n",
    "\n",
    "fixer.addMissingAtoms()"
   ]
  },
  {
   "cell_type": "code",
   "execution_count": 16,
   "metadata": {},
   "outputs": [],
   "source": [
    "PDBFile.writeFile(fixer.topology, fixer.positions, open(\"../data/rerefinement_gyorgy/4jhw_final_v2_refmac1_clean.pdb\", 'w'))\n"
   ]
  },
  {
   "cell_type": "code",
   "execution_count": null,
   "metadata": {},
   "outputs": [],
   "source": []
  }
 ],
 "metadata": {
  "kernelspec": {
   "display_name": "Python 3",
   "language": "python",
   "name": "python3"
  },
  "language_info": {
   "codemirror_mode": {
    "name": "ipython",
    "version": 3
   },
   "file_extension": ".py",
   "mimetype": "text/x-python",
   "name": "python",
   "nbconvert_exporter": "python",
   "pygments_lexer": "ipython3",
   "version": "3.5.5"
  }
 },
 "nbformat": 4,
 "nbformat_minor": 2
}
