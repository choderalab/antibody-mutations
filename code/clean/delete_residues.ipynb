{
 "cells": [
  {
   "cell_type": "code",
   "execution_count": 1,
   "metadata": {},
   "outputs": [],
   "source": [
    "from simtk.openmm.app import PDBFile\n",
    "from simtk.openmm.app.topology import Topology\n",
    "import pdbfixer\n",
    "import string"
   ]
  },
  {
   "cell_type": "markdown",
   "metadata": {},
   "source": [
    "# Cut head off - 5udc"
   ]
  },
  {
   "cell_type": "code",
   "execution_count": 9,
   "metadata": {},
   "outputs": [
    {
     "name": "stdout",
     "output_type": "stream",
     "text": [
      "missing residues:  {(2, 0): ['ACE'], (6, 0): ['ACE'], (10, 0): ['ACE']}\n",
      "missing residues:  {(3, 167): ['NME'], (7, 167): ['NME'], (11, 167): ['NME']}\n"
     ]
    }
   ],
   "source": [
    "# Delete n-term residues in first half of F protein\n",
    "chains = [2, 6, 10] # Index(es) of chain(s) to split\n",
    "# cutoff_resid =  18 # ID of last residue to include in chain before deleting\n",
    "cutoff_resid =  43 # ID of last residue to include in chain before deleting -- maintaining res numbers\n",
    "input_filename = '../data/renumbered/keep_chain_id_res_num/5udc_final_v2_refmac1_clean.pdb'\n",
    "output_filename = '../data/renumbered/keep_chain_id_res_num/5udc_final_v2_refmac1_clean_tail.pdb'\n",
    "\n",
    "delete_residues(chains, cutoff_resid, False, input_filename, output_filename)\n",
    "\n",
    "# Delete c-term rsidues in second half of F protein\n",
    "chains = [3, 7, 11] # Index(es) of chain(s) to split\n",
    "# cutoff_resid =  167 # ID of last residue to include in chain before deleting\n",
    "cutoff_resid =  311 # ID of last residue to include in chain before deleting -- maintaining res numbers\n",
    "input_filename = '../data/renumbered/keep_chain_id_res_num/5udc_final_v2_refmac1_clean_tail.pdb'\n",
    "output_filename = '../data/renumbered/keep_chain_id_res_num/5udc_final_v2_refmac1_clean_tail.pdb'\n",
    "\n",
    "delete_residues(chains, cutoff_resid, True, input_filename, output_filename)\n"
   ]
  },
  {
   "cell_type": "markdown",
   "metadata": {},
   "source": [
    "# Cut head off -- 4jhw"
   ]
  },
  {
   "cell_type": "code",
   "execution_count": 10,
   "metadata": {},
   "outputs": [
    {
     "name": "stdout",
     "output_type": "stream",
     "text": [
      "missing residues:  {(2, 0): ['ACE']}\n",
      "missing residues:  {(3, 167): ['NME']}\n"
     ]
    }
   ],
   "source": [
    "# Delete n-term residues in first half of F protein\n",
    "chains = [2] # Index(es) of chain(s) to split\n",
    "# cutoff_resid =  18 # ID of last residue to include in chain before deleting\n",
    "cutoff_resid =  43 # ID of last residue to include in chain before deleting -- maintaining res numbers\n",
    "input_filename = '../data/renumbered/keep_chain_id_res_num/4jhw_final_v2_refmac1_clean.pdb'\n",
    "output_filename = '../data/renumbered/keep_chain_id_res_num/4jhw_final_v2_refmac1_clean_tail.pdb'\n",
    "\n",
    "delete_residues(chains, cutoff_resid, False, input_filename, output_filename)\n",
    "\n",
    "# Delete c-term rsidues in second half of F protein\n",
    "chains = [3] # Index(es) of chain(s) to split\n",
    "# cutoff_resid =  167 # ID of last residue to include in chain before deleting\n",
    "cutoff_resid =  311 # ID of last residue to include in chain before deleting -- maintaining res numbers\n",
    "input_filename = '../data/renumbered/keep_chain_id_res_num/4jhw_final_v2_refmac1_clean_tail.pdb'\n",
    "output_filename = '../data/renumbered/keep_chain_id_res_num/4jhw_final_v2_refmac1_clean_tail.pdb'\n",
    "\n",
    "delete_residues(chains, cutoff_resid, True, input_filename, output_filename)\n"
   ]
  },
  {
   "cell_type": "markdown",
   "metadata": {},
   "source": [
    "# Cut head off -- 5k6f"
   ]
  },
  {
   "cell_type": "code",
   "execution_count": 11,
   "metadata": {},
   "outputs": [
    {
     "name": "stdout",
     "output_type": "stream",
     "text": [
      "missing residues:  {(0, 0): ['ACE']}\n",
      "missing residues:  {(1, 167): ['NME']}\n"
     ]
    }
   ],
   "source": [
    "# Delete n-term residues in first half of F protein\n",
    "chains = [0] # Index(es) of chain(s) to split\n",
    "# cutoff_resid =  18 # ID of last residue to include in chain before deleting\n",
    "cutoff_resid =  43 # ID of last residue to include in chain before deleting -- maintaining res numbers\n",
    "input_filename = '../data/renumbered/keep_chain_id_res_num/5k6f_splitchain_capped.pdb'\n",
    "output_filename = '../data/renumbered/keep_chain_id_res_num/5k6f_splitchain_capped_tail.pdb'\n",
    "\n",
    "delete_residues(chains, cutoff_resid, False, input_filename, output_filename)\n",
    "\n",
    "# Delete c-term rsidues in second half of F protein\n",
    "chains = [1] # Index(es) of chain(s) to split\n",
    "# cutoff_resid =  167 # ID of last residue to include in chain before deleting\n",
    "cutoff_resid =  311 # ID of last residue to include in chain before deleting -- maintaining res numbers\n",
    "input_filename = '../data/renumbered/keep_chain_id_res_num/5k6f_splitchain_capped_tail.pdb'\n",
    "output_filename = '../data/renumbered/keep_chain_id_res_num/5k6f_splitchain_capped_tail.pdb'\n",
    "\n",
    "delete_residues(chains, cutoff_resid, True, input_filename, output_filename)\n"
   ]
  },
  {
   "cell_type": "markdown",
   "metadata": {},
   "source": [
    "# Cut constant off -- 5udc"
   ]
  },
  {
   "cell_type": "code",
   "execution_count": 12,
   "metadata": {},
   "outputs": [
    {
     "name": "stdout",
     "output_type": "stream",
     "text": [
      "missing residues:  {(4, 127): ['NME'], (8, 127): ['NME'], (0, 127): ['NME']}\n",
      "missing residues:  {(1, 109): ['NME'], (5, 109): ['NME'], (9, 109): ['NME']}\n"
     ]
    }
   ],
   "source": [
    "# Delete c-term residues in heavy chain\n",
    "chains = [0, 4, 8] # Index(es) of chain(s) to split\n",
    "# cutoff_resid =  127 # ID of last residue to include in chain before deleting\n",
    "cutoff_resid =  114 # ID of last residue to include in chain before deleting -- maintaining res numbers\n",
    "\n",
    "input_filename = '../data/renumbered/keep_chain_id_res_num/5udc_final_v2_refmac1_clean.pdb'\n",
    "output_filename = '../data/renumbered/keep_chain_id_res_num/5udc_final_v2_refmac1_clean_variable.pdb'\n",
    "\n",
    "delete_residues(chains, cutoff_resid, True, input_filename, output_filename)\n",
    "\n",
    "# Delete c-term rsidues in light chain\n",
    "chains = [1, 5, 9] # Index(es) of chain(s) to split\n",
    "cutoff_resid =  109 # ID of last residue to include in chain before deleting\n",
    "input_filename = '../data/renumbered/keep_chain_id_res_num/5udc_final_v2_refmac1_clean_variable.pdb'\n",
    "output_filename = '../data/renumbered/keep_chain_id_res_num/5udc_final_v2_refmac1_clean_variable.pdb'\n",
    "\n",
    "delete_residues(chains, cutoff_resid, True, input_filename, output_filename)\n"
   ]
  },
  {
   "cell_type": "markdown",
   "metadata": {},
   "source": [
    "# Cut constant off -- 5udc trimer single ab"
   ]
  },
  {
   "cell_type": "code",
   "execution_count": 23,
   "metadata": {},
   "outputs": [
    {
     "name": "stdout",
     "output_type": "stream",
     "text": [
      "missing residues:  {(4, 127): ['NME']}\n",
      "1  \n",
      "2  \n",
      "3  \n",
      "4  \n",
      "5  \n",
      "6  \n",
      "7  \n",
      "8  \n",
      "9  \n",
      "10  \n",
      "11  \n",
      "12  \n",
      "13  \n",
      "14  \n",
      "15  \n",
      "16  \n",
      "17  \n",
      "18  \n",
      "19  \n",
      "20  \n",
      "21  \n",
      "22  \n",
      "23  \n",
      "24  \n",
      "25  \n",
      "26  \n",
      "27  \n",
      "28  \n",
      "29  \n",
      "30  \n",
      "31  \n",
      "32  \n",
      "33  \n",
      "34  \n",
      "35  \n",
      "36  \n",
      "37  \n",
      "38  \n",
      "39  \n",
      "40  \n",
      "41  \n",
      "42  \n",
      "43  \n",
      "44  \n",
      "45  \n",
      "46  \n",
      "47  \n",
      "48  \n",
      "49  \n",
      "50  \n",
      "51  \n",
      "52  \n",
      "52 A\n",
      "53  \n",
      "54  \n",
      "55  \n",
      "56  \n",
      "57  \n",
      "58  \n",
      "59  \n",
      "60  \n",
      "61  \n",
      "62  \n",
      "63  \n",
      "64  \n",
      "65  \n",
      "66  \n",
      "67  \n",
      "68  \n",
      "69  \n",
      "70  \n",
      "71  \n",
      "72  \n",
      "73  \n",
      "74  \n",
      "75  \n",
      "76  \n",
      "77  \n",
      "78  \n",
      "79  \n",
      "80  \n",
      "81  \n",
      "82  \n",
      "82 A\n",
      "82 B\n",
      "82 C\n",
      "83  \n",
      "84  \n",
      "85  \n",
      "86  \n",
      "87  \n",
      "88  \n",
      "89  \n",
      "90  \n",
      "91  \n",
      "92  \n",
      "93  \n",
      "94  \n",
      "95  \n",
      "96  \n",
      "97  \n",
      "98  \n",
      "99  \n",
      "100  \n",
      "100 A\n",
      "100 B\n",
      "100 C\n",
      "100 D\n",
      "100 E\n",
      "100 F\n",
      "100 G\n",
      "100 H\n",
      "100 I\n",
      "101  \n",
      "102  \n",
      "103  \n",
      "104  \n",
      "105  \n",
      "106  \n",
      "107  \n",
      "108  \n",
      "109  \n",
      "110  \n",
      "111  \n",
      "112  \n",
      "113  \n",
      "114  \n",
      "115 \n",
      "missing residues:  {(5, 109): ['NME']}\n",
      "1  \n",
      "2  \n",
      "3  \n",
      "4  \n",
      "5  \n",
      "6  \n",
      "7  \n",
      "8  \n",
      "9  \n",
      "10  \n",
      "11  \n",
      "12  \n",
      "13  \n",
      "14  \n",
      "15  \n",
      "16  \n",
      "17  \n",
      "18  \n",
      "19  \n",
      "20  \n",
      "21  \n",
      "22  \n",
      "23  \n",
      "24  \n",
      "25  \n",
      "26  \n",
      "27  \n",
      "28  \n",
      "29  \n",
      "30  \n",
      "31  \n",
      "32  \n",
      "33  \n",
      "34  \n",
      "35  \n",
      "36  \n",
      "37  \n",
      "38  \n",
      "39  \n",
      "40  \n",
      "41  \n",
      "42  \n",
      "43  \n",
      "44  \n",
      "45  \n",
      "46  \n",
      "47  \n",
      "48  \n",
      "49  \n",
      "50  \n",
      "51  \n",
      "52  \n",
      "52 A\n",
      "53  \n",
      "54  \n",
      "55  \n",
      "56  \n",
      "57  \n",
      "58  \n",
      "59  \n",
      "60  \n",
      "61  \n",
      "62  \n",
      "63  \n",
      "64  \n",
      "65  \n",
      "66  \n",
      "67  \n",
      "68  \n",
      "69  \n",
      "70  \n",
      "71  \n",
      "72  \n",
      "73  \n",
      "74  \n",
      "75  \n",
      "76  \n",
      "77  \n",
      "78  \n",
      "79  \n",
      "80  \n",
      "81  \n",
      "82  \n",
      "82 A\n",
      "82 B\n",
      "82 C\n",
      "83  \n",
      "84  \n",
      "85  \n",
      "86  \n",
      "87  \n",
      "88  \n",
      "89  \n",
      "90  \n",
      "91  \n",
      "92  \n",
      "93  \n",
      "94  \n",
      "95  \n",
      "96  \n",
      "97  \n",
      "98  \n",
      "99  \n",
      "100  \n",
      "100 A\n",
      "100 B\n",
      "100 C\n",
      "100 D\n",
      "100 E\n",
      "100 F\n",
      "100 G\n",
      "100 H\n",
      "100 I\n",
      "101  \n",
      "102  \n",
      "103  \n",
      "104  \n",
      "105  \n",
      "106  \n",
      "107  \n",
      "108  \n",
      "109  \n",
      "110  \n",
      "111  \n",
      "112  \n",
      "113  \n",
      "114  \n",
      "115  \n"
     ]
    }
   ],
   "source": [
    "# Delete c-term residues in heavy chain\n",
    "chains = [4] # Index(es) of chain(s) to split\n",
    "# cutoff_resid =  127 # ID of last residue to include in chain before deleting\n",
    "cutoff_resid =  114 # ID of last residue to include in chain before deleting -- maintaining res numbers\n",
    "\n",
    "input_filename = '../data/renumbered/keep_chain_id_res_num/5udc_final_v2_refmac1_clean_single_ab.pdb'\n",
    "output_filename = '../data/renumbered/keep_chain_id_res_num/5udc_final_v2_refmac1_clean_single_ab_variable.pdb'\n",
    "\n",
    "delete_residues(chains, cutoff_resid, True, input_filename, output_filename)\n",
    "\n",
    "# Delete c-term rsidues in light chain\n",
    "chains = [5] # Index(es) of chain(s) to split\n",
    "cutoff_resid =  109 # ID of last residue to include in chain before deleting\n",
    "input_filename = '../data/renumbered/keep_chain_id_res_num/5udc_final_v2_refmac1_clean_single_ab_variable.pdb'\n",
    "output_filename = '../data/renumbered/keep_chain_id_res_num/5udc_final_v2_refmac1_clean_single_ab_variable.pdb'\n",
    "\n",
    "delete_residues(chains, cutoff_resid, True, input_filename, output_filename)\n"
   ]
  },
  {
   "cell_type": "markdown",
   "metadata": {},
   "source": [
    "# Cut constant off -- 4jhw"
   ]
  },
  {
   "cell_type": "code",
   "execution_count": 13,
   "metadata": {},
   "outputs": [
    {
     "name": "stdout",
     "output_type": "stream",
     "text": [
      "missing residues:  {(0, 127): ['NME']}\n",
      "missing residues:  {(1, 109): ['NME']}\n"
     ]
    }
   ],
   "source": [
    "# Delete c-term residues in heavy chain\n",
    "chains = [0] # Index(es) of chain(s) to split\n",
    "# cutoff_resid =  127 # ID of last residue to include in chain before deleting\n",
    "cutoff_resid =  114 # ID of last residue to include in chain before deleting -- maintaining res numbers\n",
    "input_filename = '../data/renumbered/keep_chain_id_res_num/4jhw_final_v2_refmac1_clean.pdb'\n",
    "output_filename = '../data/renumbered/keep_chain_id_res_num/4jhw_final_v2_refmac1_clean_variable.pdb'\n",
    "\n",
    "delete_residues(chains, cutoff_resid, True, input_filename, output_filename)\n",
    "\n",
    "# Delete c-term rsidues in light chain\n",
    "chains = [1] # Index(es) of chain(s) to split\n",
    "cutoff_resid =  109 # ID of last residue to include in chain before deleting\n",
    "input_filename = '../data/renumbered/keep_chain_id_res_num/4jhw_final_v2_refmac1_clean_variable.pdb'\n",
    "output_filename = '../data/renumbered/keep_chain_id_res_num/4jhw_final_v2_refmac1_clean_variable.pdb'\n",
    "\n",
    "delete_residues(chains, cutoff_resid, True, input_filename, output_filename)\n"
   ]
  },
  {
   "cell_type": "markdown",
   "metadata": {},
   "source": [
    "# Cut constant off -- 4jhw trimer single ab"
   ]
  },
  {
   "cell_type": "code",
   "execution_count": 24,
   "metadata": {},
   "outputs": [
    {
     "name": "stdout",
     "output_type": "stream",
     "text": [
      "missing residues:  {(0, 127): ['NME']}\n",
      "missing residues:  {(1, 109): ['NME']}\n"
     ]
    }
   ],
   "source": [
    "# Delete c-term residues in heavy chain\n",
    "chains = [0] # Index(es) of chain(s) to split\n",
    "# cutoff_resid =  127 # ID of last residue to include in chain before deleting\n",
    "cutoff_resid =  114 # ID of last residue to include in chain before deleting -- maintaining res numbers\n",
    "input_filename = '../data/renumbered/keep_chain_id_res_num/4jhw_final_v2_refmac1_clean_trimer_single_ab.pdb'\n",
    "output_filename = '../data/renumbered/keep_chain_id_res_num/4jhw_final_v2_refmac1_clean_trimer_single_ab_variable.pdb'\n",
    "\n",
    "delete_residues(chains, cutoff_resid, True, input_filename, output_filename)\n",
    "\n",
    "# Delete c-term rsidues in light chain\n",
    "chains = [1] # Index(es) of chain(s) to split\n",
    "cutoff_resid =  109 # ID of last residue to include in chain before deleting\n",
    "input_filename = '../data/renumbered/keep_chain_id_res_num/4jhw_final_v2_refmac1_clean_trimer_single_ab_variable.pdb'\n",
    "output_filename = '../data/renumbered/keep_chain_id_res_num/4jhw_final_v2_refmac1_clean_trimer_single_ab_variable.pdb'\n",
    "\n",
    "delete_residues(chains, cutoff_resid, True, input_filename, output_filename)\n"
   ]
  },
  {
   "cell_type": "markdown",
   "metadata": {},
   "source": [
    "# Cut constant off -- 4jha"
   ]
  },
  {
   "cell_type": "code",
   "execution_count": 14,
   "metadata": {},
   "outputs": [
    {
     "name": "stdout",
     "output_type": "stream",
     "text": [
      "missing residues:  {(0, 127): ['NME']}\n",
      "missing residues:  {(1, 109): ['NME']}\n"
     ]
    }
   ],
   "source": [
    "# Delete c-term residues in heavy chain\n",
    "chains = [0] # Index(es) of chain(s) to split\n",
    "# cutoff_resid =  127 # ID of last residue to include in chain before deleting\n",
    "cutoff_resid =  114 # ID of last residue to include in chain before deleting -- maintaining res numbers\n",
    "input_filename = '../data/renumbered/keep_chain_id_res_num/4jha_clean.pdb'\n",
    "output_filename = '../data/renumbered/keep_chain_id_res_num/4jha_clean_variable.pdb'\n",
    "\n",
    "delete_residues(chains, cutoff_resid, True, input_filename, output_filename)\n",
    "\n",
    "# Delete c-term rsidues in light chain\n",
    "chains = [1] # Index(es) of chain(s) to split\n",
    "cutoff_resid =  109 # ID of last residue to include in chain before deleting\n",
    "input_filename = '../data/renumbered/keep_chain_id_res_num/4jha_clean_variable.pdb'\n",
    "output_filename = '../data/renumbered/keep_chain_id_res_num/4jha_clean_variable.pdb'\n",
    "\n",
    "delete_residues(chains, cutoff_resid, True, input_filename, output_filename)\n"
   ]
  },
  {
   "cell_type": "markdown",
   "metadata": {},
   "source": [
    "# Cut head and constant off - 5udc"
   ]
  },
  {
   "cell_type": "code",
   "execution_count": 15,
   "metadata": {},
   "outputs": [
    {
     "name": "stdout",
     "output_type": "stream",
     "text": [
      "missing residues:  {(4, 127): ['NME'], (8, 127): ['NME'], (0, 127): ['NME']}\n",
      "missing residues:  {(1, 109): ['NME'], (5, 109): ['NME'], (9, 109): ['NME']}\n"
     ]
    }
   ],
   "source": [
    "# Delete c-term residues in heavy chain\n",
    "chains = [0, 4, 8] # Index(es) of chain(s) to split\n",
    "# cutoff_resid =  127 # ID of last residue to include in chain before deleting\n",
    "cutoff_resid =  114 # ID of last residue to include in chain before deleting -- maintaining res numbers\n",
    "input_filename = '../data/renumbered/keep_chain_id_res_num/5udc_final_v2_refmac1_clean_tail.pdb'\n",
    "output_filename = '../data/renumbered/keep_chain_id_res_num/5udc_final_v2_refmac1_clean_tail_variable.pdb'\n",
    "\n",
    "delete_residues(chains, cutoff_resid, True, input_filename, output_filename)\n",
    "\n",
    "# Delete c-term rsidues in light chain\n",
    "chains = [1, 5, 9] # Index(es) of chain(s) to split\n",
    "cutoff_resid =  109 # ID of last residue to include in chain before deleting\n",
    "input_filename = '../data/renumbered/keep_chain_id_res_num/5udc_final_v2_refmac1_clean_tail_variable.pdb'\n",
    "output_filename = '../data/renumbered/keep_chain_id_res_num/5udc_final_v2_refmac1_clean_tail_variable.pdb'\n",
    "\n",
    "delete_residues(chains, cutoff_resid, True, input_filename, output_filename)\n"
   ]
  },
  {
   "cell_type": "markdown",
   "metadata": {},
   "source": [
    "# Cut head and constant off - 4jhw"
   ]
  },
  {
   "cell_type": "code",
   "execution_count": 16,
   "metadata": {},
   "outputs": [
    {
     "name": "stdout",
     "output_type": "stream",
     "text": [
      "missing residues:  {(0, 127): ['NME']}\n",
      "missing residues:  {(1, 109): ['NME']}\n"
     ]
    }
   ],
   "source": [
    "# Delete c-term residues in heavy chain\n",
    "chains = [0] # Index(es) of chain(s) to split\n",
    "# cutoff_resid =  127 # ID of last residue to include in chain before deleting\n",
    "cutoff_resid =  114 # ID of last residue to include in chain before deleting -- maintaining res numbers\n",
    "input_filename = '../data/renumbered/keep_chain_id_res_num/4jhw_final_v2_refmac1_clean_tail.pdb'\n",
    "output_filename = '../data/renumbered/keep_chain_id_res_num/4jhw_final_v2_refmac1_clean_tail_variable.pdb'\n",
    "\n",
    "delete_residues(chains, cutoff_resid, True, input_filename, output_filename)\n",
    "\n",
    "# Delete c-term rsidues in light chain\n",
    "chains = [1] # Index(es) of chain(s) to split\n",
    "cutoff_resid =  109 # ID of last residue to include in chain before deleting\n",
    "input_filename = '../data/renumbered/keep_chain_id_res_num/4jhw_final_v2_refmac1_clean_tail_variable.pdb'\n",
    "output_filename = '../data/renumbered/keep_chain_id_res_num/4jhw_final_v2_refmac1_clean_tail_variable.pdb'\n",
    "\n",
    "delete_residues(chains, cutoff_resid, True, input_filename, output_filename)\n"
   ]
  },
  {
   "cell_type": "markdown",
   "metadata": {},
   "source": [
    "# Cut head off - 5udd"
   ]
  },
  {
   "cell_type": "code",
   "execution_count": 9,
   "metadata": {},
   "outputs": [
    {
     "name": "stdout",
     "output_type": "stream",
     "text": [
      "missing residues:  {(0, 0): ['ACE'], (2, 0): ['ACE'], (4, 0): ['ACE']}\n",
      "missing residues:  {(1, 167): ['NME'], (3, 167): ['NME'], (5, 167): ['NME']}\n"
     ]
    }
   ],
   "source": [
    "# Delete n-term residues in first half of F protein\n",
    "chains = [0, 2, 4] # Index(es) of chain(s) to split\n",
    "# cutoff_resid =  18 # ID of last residue to include in chain before deleting\n",
    "cutoff_resid =  43 # ID of last residue to include in chain before deleting -- maintaining res numbers\n",
    "input_filename = '../data/5udd/5udd_trimer_single_ab_clean.pdb'\n",
    "output_filename = '../data/5udd/5udd_trimer_single_ab_clean_tail.pdb'\n",
    "\n",
    "delete_residues(chains, cutoff_resid, False, input_filename, output_filename)\n",
    "\n",
    "# Delete c-term rsidues in second half of F protein\n",
    "chains = [1, 3, 5] # Index(es) of chain(s) to split\n",
    "# cutoff_resid =  167 # ID of last residue to include in chain before deleting\n",
    "cutoff_resid =  311 # ID of last residue to include in chain before deleting -- maintaining res numbers\n",
    "input_filename = '../data/5udd/5udd_trimer_single_ab_clean_tail.pdb'\n",
    "output_filename = '../data/5udd/5udd_trimer_single_ab_clean_tail.pdb'\n",
    "\n",
    "delete_residues(chains, cutoff_resid, True, input_filename, output_filename)\n"
   ]
  },
  {
   "cell_type": "markdown",
   "metadata": {},
   "source": [
    "# Cut head off - 5ude"
   ]
  },
  {
   "cell_type": "code",
   "execution_count": 14,
   "metadata": {},
   "outputs": [
    {
     "name": "stdout",
     "output_type": "stream",
     "text": [
      "missing residues:  {(0, 0): ['ACE'], (2, 0): ['ACE'], (4, 0): ['ACE']}\n",
      "missing residues:  {(1, 167): ['NME'], (3, 167): ['NME'], (5, 167): ['NME']}\n"
     ]
    }
   ],
   "source": [
    "# Delete n-term residues in first half of F protein\n",
    "chains = [0, 2, 4] # Index(es) of chain(s) to split\n",
    "# cutoff_resid =  18 # ID of last residue to include in chain before deleting\n",
    "cutoff_resid =  43 # ID of last residue to include in chain before deleting -- maintaining res numbers\n",
    "input_filename = '../data/5ude/5ude_clean_trimer.pdb'\n",
    "output_filename = '../data/5ude/5ude_clean_trimer_tail.pdb'\n",
    "delete_residues(chains, cutoff_resid, False, input_filename, output_filename)\n",
    "\n",
    "# Delete c-term rsidues in second half of F protein\n",
    "chains = [1, 3, 5] # Index(es) of chain(s) to split\n",
    "# cutoff_resid =  167 # ID of last residue to include in chain before deleting\n",
    "cutoff_resid =  311 # ID of last residue to include in chain before deleting -- maintaining res numbers\n",
    "input_filename = '../data/5ude/5ude_clean_trimer_tail.pdb'\n",
    "output_filename = '../data/5ude/5ude_clean_trimer_tail.pdb'\n",
    "delete_residues(chains, cutoff_resid, True, input_filename, output_filename)\n"
   ]
  },
  {
   "cell_type": "markdown",
   "metadata": {},
   "source": [
    "# Cut head off -- 5udd/5ude overlay"
   ]
  },
  {
   "cell_type": "code",
   "execution_count": 11,
   "metadata": {},
   "outputs": [
    {
     "name": "stdout",
     "output_type": "stream",
     "text": [
      "missing residues:  {(2, 0): ['ACE'], (4, 0): ['ACE'], (6, 0): ['ACE']}\n",
      "missing residues:  {(3, 167): ['NME'], (5, 167): ['NME'], (7, 167): ['NME']}\n"
     ]
    }
   ],
   "source": [
    "# Delete n-term residues in first half of F protein\n",
    "chains = [2, 4, 6] # Index(es) of chain(s) to split\n",
    "# cutoff_resid =  18 # ID of last residue to include in chain before deleting\n",
    "cutoff_resid =  43 # ID of last residue to include in chain before deleting -- maintaining res numbers\n",
    "input_filename = '../data/5ude/5udd_5ude.pdb'\n",
    "output_filename = '../data/5ude/5udd_5ude_tail.pdb'\n",
    "delete_residues(chains, cutoff_resid, False, input_filename, output_filename)\n",
    "\n",
    "# Delete c-term rsidues in second half of F protein\n",
    "chains = [3, 5, 7] # Index(es) of chain(s) to split\n",
    "# cutoff_resid =  167 # ID of last residue to include in chain before deleting\n",
    "cutoff_resid =  311 # ID of last residue to include in chain before deleting -- maintaining res numbers\n",
    "input_filename = '../data/5ude/5udd_5ude_tail.pdb'\n",
    "output_filename = '../data/5ude/5udd_5ude_tail.pdb'\n",
    "delete_residues(chains, cutoff_resid, True, input_filename, output_filename)\n"
   ]
  },
  {
   "cell_type": "markdown",
   "metadata": {},
   "source": [
    "# Cut head off -- 5udc/5ude overlay"
   ]
  },
  {
   "cell_type": "code",
   "execution_count": 15,
   "metadata": {},
   "outputs": [
    {
     "name": "stdout",
     "output_type": "stream",
     "text": [
      "missing residues:  {(2, 0): ['ACE'], (4, 0): ['ACE'], (6, 0): ['ACE']}\n",
      "missing residues:  {(3, 167): ['NME'], (5, 167): ['NME'], (7, 167): ['NME']}\n"
     ]
    }
   ],
   "source": [
    "# Delete n-term residues in first half of F protein\n",
    "chains = [2, 4, 6] # Index(es) of chain(s) to split\n",
    "# cutoff_resid =  18 # ID of last residue to include in chain before deleting\n",
    "cutoff_resid =  43 # ID of last residue to include in chain before deleting -- maintaining res numbers\n",
    "input_filename = '../data/5ude/5udc_5ude.pdb'\n",
    "output_filename = '../data/5ude/5udc_5ude_tail.pdb'\n",
    "delete_residues(chains, cutoff_resid, False, input_filename, output_filename)\n",
    "\n",
    "# Delete c-term rsidues in second half of F protein\n",
    "chains = [3, 5, 7] # Index(es) of chain(s) to split\n",
    "# cutoff_resid =  167 # ID of last residue to include in chain before deleting\n",
    "cutoff_resid =  311 # ID of last residue to include in chain before deleting -- maintaining res numbers\n",
    "input_filename = '../data/5ude/5udc_5ude_tail.pdb'\n",
    "output_filename = '../data/5ude/5udc_5ude_tail.pdb'\n",
    "delete_residues(chains, cutoff_resid, True, input_filename, output_filename)\n"
   ]
  },
  {
   "cell_type": "markdown",
   "metadata": {},
   "source": [
    "# Cut head off -- mutated 5udc"
   ]
  },
  {
   "cell_type": "code",
   "execution_count": 18,
   "metadata": {},
   "outputs": [
    {
     "name": "stdout",
     "output_type": "stream",
     "text": [
      "missing residues:  {(0, 0): ['ACE'], (2, 0): ['ACE'], (6, 0): ['ACE']}\n",
      "missing residues:  {(1, 167): ['NME'], (3, 167): ['NME'], (7, 167): ['NME']}\n"
     ]
    }
   ],
   "source": [
    "# Delete n-term residues in first half of F protein\n",
    "chains = [0, 2, 6] # Index(es) of chain(s) to split\n",
    "# cutoff_resid =  18 # ID of last residue to include in chain before deleting\n",
    "cutoff_resid =  43 # ID of last residue to include in chain before deleting -- maintaining res numbers\n",
    "input_filename = \"../data/5udd/5udc_final_v2_refmac1_clean_mutated_EG.pdb\"\n",
    "output_filename = \"../data/5udd/5udc_final_v2_refmac1_clean_mutated_EG_tail.pdb\"\n",
    "delete_residues(chains, cutoff_resid, False, input_filename, output_filename)\n",
    "\n",
    "# Delete c-term rsidues in second half of F protein\n",
    "chains = [1, 3, 7] # Index(es) of chain(s) to split\n",
    "# cutoff_resid =  167 # ID of last residue to include in chain before deleting\n",
    "cutoff_resid =  311 # ID of last residue to include in chain before deleting -- maintaining res numbers\n",
    "input_filename = \"../data/5udd/5udc_final_v2_refmac1_clean_mutated_EG_tail.pdb\"\n",
    "output_filename = \"../data/5udd/5udc_final_v2_refmac1_clean_mutated_EG_tail.pdb\"\n",
    "delete_residues(chains, cutoff_resid, True, input_filename, output_filename)\n"
   ]
  },
  {
   "cell_type": "markdown",
   "metadata": {},
   "source": [
    "# Cut constant off -- 5udd"
   ]
  },
  {
   "cell_type": "code",
   "execution_count": 20,
   "metadata": {},
   "outputs": [
    {
     "name": "stdout",
     "output_type": "stream",
     "text": [
      "missing residues:  {(6, 127): ['NME']}\n",
      "missing residues:  {(7, 109): ['NME']}\n"
     ]
    }
   ],
   "source": [
    "# Delete c-term residues in heavy chain\n",
    "chains = [6] # Index(es) of chain(s) to split\n",
    "# cutoff_resid =  127 # ID of last residue to include in chain before deleting\n",
    "cutoff_resid =  114 # ID of last residue to include in chain before deleting -- maintaining res numbers\n",
    "\n",
    "input_filename = '../data/5udd/5udd_trimer_single_ab_clean.pdb'\n",
    "output_filename = '../data/5udd/5udd_trimer_single_ab_clean_variable.pdb'\n",
    "\n",
    "delete_residues(chains, cutoff_resid, True, input_filename, output_filename)\n",
    "\n",
    "# Delete c-term rsidues in light chain\n",
    "chains = [7] # Index(es) of chain(s) to split\n",
    "cutoff_resid =  109 # ID of last residue to include in chain before deleting\n",
    "input_filename = '../data/5udd/5udd_trimer_single_ab_clean_variable.pdb'\n",
    "output_filename = '../data/5udd/5udd_trimer_single_ab_clean_variable.pdb'\n",
    "\n",
    "delete_residues(chains, cutoff_resid, True, input_filename, output_filename)\n"
   ]
  },
  {
   "cell_type": "markdown",
   "metadata": {},
   "source": [
    "# Cut constant off -- 5udd/5ude overlay"
   ]
  },
  {
   "cell_type": "code",
   "execution_count": 25,
   "metadata": {},
   "outputs": [
    {
     "name": "stdout",
     "output_type": "stream",
     "text": [
      "missing residues:  {(0, 127): ['NME']}\n",
      "missing residues:  {(1, 109): ['NME']}\n"
     ]
    }
   ],
   "source": [
    "# Delete c-term residues in heavy chain\n",
    "chains = [0] # Index(es) of chain(s) to split\n",
    "# cutoff_resid =  127 # ID of last residue to include in chain before deleting\n",
    "cutoff_resid =  114 # ID of last residue to include in chain before deleting -- maintaining res numbers\n",
    "\n",
    "input_filename = '../data/5ude/5udd_5ude.pdb'\n",
    "output_filename = '../data/5ude/5udd_5ude_variable.pdb'\n",
    "\n",
    "delete_residues(chains, cutoff_resid, True, input_filename, output_filename)\n",
    "\n",
    "# Delete c-term rsidues in light chain\n",
    "chains = [1] # Index(es) of chain(s) to split\n",
    "cutoff_resid =  109 # ID of last residue to include in chain before deleting\n",
    "input_filename = '../data/5ude/5udd_5ude_variable.pdb'\n",
    "output_filename = '../data/5ude/5udd_5ude_variable.pdb'\n",
    "\n",
    "delete_residues(chains, cutoff_resid, True, input_filename, output_filename)\n"
   ]
  },
  {
   "cell_type": "markdown",
   "metadata": {},
   "source": [
    "# Cut constant off -- 5udc/5ude overlay"
   ]
  },
  {
   "cell_type": "code",
   "execution_count": 26,
   "metadata": {},
   "outputs": [
    {
     "name": "stdout",
     "output_type": "stream",
     "text": [
      "missing residues:  {(0, 127): ['NME']}\n",
      "missing residues:  {(1, 109): ['NME']}\n"
     ]
    }
   ],
   "source": [
    "# Delete c-term residues in heavy chain\n",
    "chains = [0] # Index(es) of chain(s) to split\n",
    "# cutoff_resid =  127 # ID of last residue to include in chain before deleting\n",
    "cutoff_resid =  114 # ID of last residue to include in chain before deleting -- maintaining res numbers\n",
    "\n",
    "input_filename = '../data/5ude/5udc_5ude.pdb'\n",
    "output_filename = '../data/5ude/5udc_5ude_variable.pdb'\n",
    "\n",
    "delete_residues(chains, cutoff_resid, True, input_filename, output_filename)\n",
    "\n",
    "# Delete c-term rsidues in light chain\n",
    "chains = [1] # Index(es) of chain(s) to split\n",
    "cutoff_resid =  109 # ID of last residue to include in chain before deleting\n",
    "input_filename = '../data/5ude/5udc_5ude_variable.pdb'\n",
    "output_filename = '../data/5ude/5udc_5ude_variable.pdb'\n",
    "\n",
    "delete_residues(chains, cutoff_resid, True, input_filename, output_filename)\n"
   ]
  },
  {
   "cell_type": "markdown",
   "metadata": {},
   "source": [
    "# Cut constant off -- mutated 5udc"
   ]
  },
  {
   "cell_type": "code",
   "execution_count": 29,
   "metadata": {},
   "outputs": [
    {
     "name": "stdout",
     "output_type": "stream",
     "text": [
      "missing residues:  {(4, 127): ['NME']}\n",
      "missing residues:  {(5, 109): ['NME']}\n"
     ]
    }
   ],
   "source": [
    "# Delete c-term residues in heavy chain\n",
    "chains = [4] # Index(es) of chain(s) to split\n",
    "# cutoff_resid =  127 # ID of last residue to include in chain before deleting\n",
    "cutoff_resid =  114 # ID of last residue to include in chain before deleting -- maintaining res numbers\n",
    "\n",
    "input_filename = '../data/5udd/5udc_final_v2_refmac1_clean_mutated_EG.pdb'\n",
    "output_filename = '../data/5udd/5udc_final_v2_refmac1_clean_mutated_EG_variable.pdb'\n",
    "\n",
    "delete_residues(chains, cutoff_resid, True, input_filename, output_filename)\n",
    "\n",
    "# Delete c-term rsidues in light chain\n",
    "chains = [5] # Index(es) of chain(s) to split\n",
    "cutoff_resid =  109 # ID of last residue to include in chain before deleting\n",
    "input_filename = '../data/5udd/5udc_final_v2_refmac1_clean_mutated_EG_variable.pdb'\n",
    "output_filename = '../data/5udd/5udc_final_v2_refmac1_clean_mutated_EG_variable.pdb'\n",
    "\n",
    "delete_residues(chains, cutoff_resid, True, input_filename, output_filename)\n"
   ]
  },
  {
   "cell_type": "markdown",
   "metadata": {},
   "source": [
    "# Cut head and constant off -- 5udd"
   ]
  },
  {
   "cell_type": "code",
   "execution_count": 30,
   "metadata": {},
   "outputs": [
    {
     "name": "stdout",
     "output_type": "stream",
     "text": [
      "missing residues:  {(6, 127): ['NME']}\n",
      "missing residues:  {(7, 109): ['NME']}\n"
     ]
    }
   ],
   "source": [
    "# Delete c-term residues in heavy chain\n",
    "chains = [6] # Index(es) of chain(s) to split\n",
    "# cutoff_resid =  127 # ID of last residue to include in chain before deleting\n",
    "cutoff_resid =  114 # ID of last residue to include in chain before deleting -- maintaining res numbers\n",
    "\n",
    "input_filename = '../data/5udd/5udd_trimer_single_ab_clean_tail.pdb'\n",
    "output_filename = '../data/5udd/5udd_trimer_single_ab_clean_tail_variable.pdb'\n",
    "\n",
    "delete_residues(chains, cutoff_resid, True, input_filename, output_filename)\n",
    "\n",
    "# Delete c-term rsidues in light chain\n",
    "chains = [7] # Index(es) of chain(s) to split\n",
    "cutoff_resid =  109 # ID of last residue to include in chain before deleting\n",
    "input_filename = '../data/5udd/5udd_trimer_single_ab_clean_tail_variable.pdb'\n",
    "output_filename = '../data/5udd/5udd_trimer_single_ab_clean_tail_variable.pdb'\n",
    "\n",
    "delete_residues(chains, cutoff_resid, True, input_filename, output_filename)\n"
   ]
  },
  {
   "cell_type": "markdown",
   "metadata": {},
   "source": [
    "# Cut head and constant off -- 5udd/5ude overlay"
   ]
  },
  {
   "cell_type": "code",
   "execution_count": 31,
   "metadata": {},
   "outputs": [
    {
     "name": "stdout",
     "output_type": "stream",
     "text": [
      "missing residues:  {(0, 127): ['NME']}\n",
      "missing residues:  {(1, 109): ['NME']}\n"
     ]
    }
   ],
   "source": [
    "# Delete c-term residues in heavy chain\n",
    "chains = [0] # Index(es) of chain(s) to split\n",
    "# cutoff_resid =  127 # ID of last residue to include in chain before deleting\n",
    "cutoff_resid =  114 # ID of last residue to include in chain before deleting -- maintaining res numbers\n",
    "\n",
    "input_filename = '../data/5ude/5udd_5ude_tail.pdb'\n",
    "output_filename = '../data/5ude/5udd_5ude_tail_variable.pdb'\n",
    "\n",
    "delete_residues(chains, cutoff_resid, True, input_filename, output_filename)\n",
    "\n",
    "# Delete c-term rsidues in light chain\n",
    "chains = [1] # Index(es) of chain(s) to split\n",
    "cutoff_resid =  109 # ID of last residue to include in chain before deleting\n",
    "input_filename = '../data/5ude/5udd_5ude_tail_variable.pdb'\n",
    "output_filename = '../data/5ude/5udd_5ude_tail_variable.pdb'\n",
    "\n",
    "delete_residues(chains, cutoff_resid, True, input_filename, output_filename)\n"
   ]
  },
  {
   "cell_type": "markdown",
   "metadata": {},
   "source": [
    "# Cut head and constant off -- 5udc/5ude overlay"
   ]
  },
  {
   "cell_type": "code",
   "execution_count": 32,
   "metadata": {},
   "outputs": [
    {
     "name": "stdout",
     "output_type": "stream",
     "text": [
      "missing residues:  {(0, 127): ['NME']}\n",
      "missing residues:  {(1, 109): ['NME']}\n"
     ]
    }
   ],
   "source": [
    "# Delete c-term residues in heavy chain\n",
    "chains = [0] # Index(es) of chain(s) to split\n",
    "# cutoff_resid =  127 # ID of last residue to include in chain before deleting\n",
    "cutoff_resid =  114 # ID of last residue to include in chain before deleting -- maintaining res numbers\n",
    "\n",
    "input_filename = '../data/5ude/5udc_5ude_tail.pdb'\n",
    "output_filename = '../data/5ude/5udc_5ude_tail_variable.pdb'\n",
    "\n",
    "delete_residues(chains, cutoff_resid, True, input_filename, output_filename)\n",
    "\n",
    "# Delete c-term rsidues in light chain\n",
    "chains = [1] # Index(es) of chain(s) to split\n",
    "cutoff_resid =  109 # ID of last residue to include in chain before deleting\n",
    "input_filename = '../data/5ude/5udc_5ude_tail_variable.pdb'\n",
    "output_filename = '../data/5ude/5udc_5ude_tail_variable.pdb'\n",
    "\n",
    "delete_residues(chains, cutoff_resid, True, input_filename, output_filename)\n"
   ]
  },
  {
   "cell_type": "markdown",
   "metadata": {},
   "source": [
    "# Cut head and constant off -- mutated 5udc"
   ]
  },
  {
   "cell_type": "code",
   "execution_count": 33,
   "metadata": {},
   "outputs": [
    {
     "name": "stdout",
     "output_type": "stream",
     "text": [
      "missing residues:  {(4, 127): ['NME']}\n",
      "missing residues:  {(5, 109): ['NME']}\n"
     ]
    }
   ],
   "source": [
    "# Delete c-term residues in heavy chain\n",
    "chains = [4] # Index(es) of chain(s) to split\n",
    "# cutoff_resid =  127 # ID of last residue to include in chain before deleting\n",
    "cutoff_resid =  114 # ID of last residue to include in chain before deleting -- maintaining res numbers\n",
    "\n",
    "input_filename = '../data/5udd/5udc_final_v2_refmac1_clean_mutated_EG_tail.pdb'\n",
    "output_filename = '../data/5udd/5udc_final_v2_refmac1_clean_mutated_EG_tail_variable.pdb'\n",
    "\n",
    "delete_residues(chains, cutoff_resid, True, input_filename, output_filename)\n",
    "\n",
    "# Delete c-term rsidues in light chain\n",
    "chains = [5] # Index(es) of chain(s) to split\n",
    "cutoff_resid =  109 # ID of last residue to include in chain before deleting\n",
    "input_filename = '../data/5udd/5udc_final_v2_refmac1_clean_mutated_EG_tail_variable.pdb'\n",
    "output_filename = '../data/5udd/5udc_final_v2_refmac1_clean_mutated_EG_tail_variable.pdb'\n",
    "\n",
    "delete_residues(chains, cutoff_resid, True, input_filename, output_filename)\n"
   ]
  },
  {
   "cell_type": "code",
   "execution_count": 4,
   "metadata": {},
   "outputs": [],
   "source": [
    "def delete_residues(chains, cutoff_resid, isCTerm, input_filename):    \n",
    "'''Use OpenMM's Topology object to create a new topology with desired residues not copied over. \n",
    "NOTE: THIS VERSION IS FOR MAINTAINING CHAIN IDS AND RES NUMBERS (INCLUDING INSERTION CODES)\n",
    "\n",
    "Parameters\n",
    "----------\n",
    "chains : list of ints\n",
    "    Index(es) of chain(s) to split\n",
    "cutoff_resid : int\n",
    "    For C-term, ID of last residue to include before deleting residues. \n",
    "    For N-term, ID of first residue after deleting residues\n",
    "isCTerm : boolean\n",
    "    Indicates whether the cutoff is for deleting N-term or C-term residues\n",
    "input_filename : string\n",
    "    Name of the input PDB \n",
    "'''\n",
    "\n",
    "    # Load topology\n",
    "    pdb = PDBFile(input_filename)\n",
    "    old_topology = pdb.getTopology()\n",
    "\n",
    "    # Create new topology\n",
    "    new_topology = Topology()\n",
    "\n",
    "    # Copy residues and atoms to new topology and create new chain for residues after split\n",
    "    # Renumber residues so that they are contiguous and maintain gaps\n",
    "    d_old_to_new = {} # Key: atom in old topology, Value: atom in new topology\n",
    "    for chain in old_topology.chains():\n",
    "        new_chain = new_topology.addChain(id=chain.id)\n",
    "        for res in chain.residues():   \n",
    "            # Skip addition of certain residues and add ACE or NME to the cutoff terminal\n",
    "            if chain.index in chains:\n",
    "                if isCTerm:\n",
    "                    if int(res.id) > cutoff_resid:\n",
    "                        continue\n",
    "                else:\n",
    "                    if int(res.id) < cutoff_resid:\n",
    "                        continue\n",
    "                    \n",
    "            # Copy residues and atoms\n",
    "            new_res = new_topology.addResidue(res.name, new_chain, id=res.id, insertionCode=res.insertionCode)\n",
    "            for atom in res.atoms():\n",
    "                new_atom = new_topology.addAtom(atom.name, atom.element, new_res)\n",
    "                d_old_to_new[atom] = new_atom\n",
    "\n",
    "    # Make list of atoms to delete\n",
    "    atoms_to_delete = []\n",
    "    for res in old_topology.residues():\n",
    "        if res.chain.index in chains:\n",
    "            if isCTerm:\n",
    "                if int(res.id) > cutoff_resid:\n",
    "                    for atom in res.atoms():\n",
    "                        atoms_to_delete.append(atom)\n",
    "            else:\n",
    "                if int(res.id) < cutoff_resid:\n",
    "                    for atom in res.atoms():\n",
    "                        atoms_to_delete.append(atom)\n",
    "            \n",
    "    # Copy bonds to new topology, except bonds involving atoms to delete    \n",
    "    for bond in old_topology.bonds():\n",
    "        atom_1 = bond[0]\n",
    "        atom_2 = bond[1]\n",
    "        if (atom_1 in atoms_to_delete) or (atom_2 in atoms_to_delete):\n",
    "            continue\n",
    "        atom_1_new = d_old_to_new[atom_1]\n",
    "        atom_2_new = d_old_to_new[atom_2]\n",
    "        new_topology.addBond(atom_1_new, atom_2_new)\n",
    "        \n",
    "    # Delete positions of atoms to be deleted\n",
    "    atoms_to_delete.reverse() # Reverse elements of list so that indices of atoms to be deleted are not affected by previous deletions\n",
    "    for atom in atoms_to_delete:\n",
    "        del[pdb.positions[atom.index]]\n",
    "        \n",
    "    # Write topology and positions to pdb\n",
    "    file = open(output_filename, 'w')\n",
    "    PDBFile.writeFile(new_topology, pdb.positions, file, keepIds=True)\n",
    "    file.close()\n",
    "    \n",
    "    # Read PDB into PDBFixer to add missing atoms\n",
    "    fixer = pdbfixer.PDBFixer(filename=output_filename)\n",
    "    fixer.findMissingResidues()\n",
    "    \n",
    "    # Add ACE or NME cap  \n",
    "    for chain in fixer.topology.chains():\n",
    "        last_indexInChain = [i for i, res in enumerate(chain.residues())][-1]\n",
    "        for res in chain.residues():\n",
    "            if chain.index in chains:\n",
    "                if isCTerm:\n",
    "                    fixer.missingResidues[(chain.index, last_indexInChain + 1)] = [\"NME\"]\n",
    "                else:\n",
    "                    fixer.missingResidues[(chain.index, 0)] = [\"ACE\"]\n",
    "\n",
    "    print(\"missing residues: \", fixer.missingResidues)\n",
    "    fixer.findMissingAtoms()\n",
    "    fixer.addMissingAtoms()\n",
    "#     fixer.removeHeterogens(False) # Do no remove heterogens -- this will remove ACE and NME\n",
    "    \n",
    "    # Write to PDB\n",
    "    file = open(output_filename, 'w')\n",
    "    PDBFile.writeFile(fixer.topology, fixer.positions, file, keepIds=True)\n",
    "    file.close()\n",
    "    \n"
   ]
  },
  {
   "cell_type": "code",
   "execution_count": null,
   "metadata": {},
   "outputs": [],
   "source": []
  }
 ],
 "metadata": {
  "kernelspec": {
   "display_name": "Python 3",
   "language": "python",
   "name": "python3"
  },
  "language_info": {
   "codemirror_mode": {
    "name": "ipython",
    "version": 3
   },
   "file_extension": ".py",
   "mimetype": "text/x-python",
   "name": "python",
   "nbconvert_exporter": "python",
   "pygments_lexer": "ipython3",
   "version": "3.6.7"
  }
 },
 "nbformat": 4,
 "nbformat_minor": 2
}
