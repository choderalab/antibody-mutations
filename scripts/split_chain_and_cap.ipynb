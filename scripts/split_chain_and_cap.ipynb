{
 "cells": [
  {
   "cell_type": "code",
   "execution_count": 148,
   "metadata": {},
   "outputs": [],
   "source": [
    "from simtk.openmm.app import PDBFile\n",
    "from simtk.openmm.app.topology import Topology\n",
    "import pdbfixer\n",
    "import string"
   ]
  },
  {
   "cell_type": "markdown",
   "metadata": {},
   "source": [
    "# 5UDC"
   ]
  },
  {
   "cell_type": "code",
   "execution_count": 82,
   "metadata": {},
   "outputs": [],
   "source": [
    "split_chains = [2, 5, 8] # Index(es) of chain(s) to split\n",
    "split_before_resid =  73 # ID of last residue to include in chain before split\n",
    "split_after_resid = 74 # ID of first residue to after the chain split\n",
    "input_filename = '../data/5udc/5udc_clean_nolongterms_noloop_noseqres_nogap.pdb'\n",
    "\n",
    "split_chain(split_chains, split_before_resid, split_after_resid, input_filename)\n",
    "cap_chain(input_filename)\n"
   ]
  },
  {
   "cell_type": "code",
   "execution_count": 149,
   "metadata": {},
   "outputs": [],
   "source": [
    "# Check if fragmented loop exists when directly splitting chain and capping on raw PDB\n",
    "# Note: chain 8 still needs to be split, but at 97/137 because Q is missing\n",
    "split_chains = [2, 5] # Index(es) of chain(s) to split\n",
    "split_before_resid =  98 # ID of last residue to include in chain before split\n",
    "split_after_resid = 137 # ID of first residue to after the chain split\n",
    "input_filename = '../data/5udc/5udc.pdb'\n",
    "\n",
    "new_top = split_chain(split_chains, split_before_resid, split_after_resid, input_filename)\n",
    "# cap_chain(input_filename)\n",
    "\n"
   ]
  },
  {
   "cell_type": "code",
   "execution_count": 151,
   "metadata": {},
   "outputs": [],
   "source": [
    "# Check if fragmented loop exists when directly splitting chain and capping on raw PDB\n",
    "# Split chain 8 (now chain 10) at 97/137, make sure to switch the appropriate read/write lines in the functions below\n",
    "split_chains = [10] # Index(es) of chain(s) to split\n",
    "split_before_resid =  97 # ID of last residue to include in chain before split\n",
    "split_after_resid = 137 # ID of first residue to after the chain split\n",
    "input_filename = '../data/5udc/5udc_splitchain.pdb'\n",
    "\n",
    "split_chain(split_chains, split_before_resid, split_after_resid, input_filename)\n",
    "cap_chain(input_filename)\n"
   ]
  },
  {
   "cell_type": "code",
   "execution_count": null,
   "metadata": {},
   "outputs": [],
   "source": []
  },
  {
   "cell_type": "code",
   "execution_count": 157,
   "metadata": {},
   "outputs": [],
   "source": [
    "# Split chain and capping on re-refined PDB\n",
    "\n",
    "# Note: chain 8 still needs to be split, but at 97/137 because Q is missing\n",
    "split_chains = [2, 5] # Index(es) of chain(s) to split\n",
    "split_before_resid =  98 # ID of last residue to include in chain before split\n",
    "split_after_resid = 137 # ID of first residue to after the chain split\n",
    "input_filename = '../data/rerefinement_gyorgy/5udc_final_v2_refmac1.pdb'\n",
    "\n",
    "new_top = split_chain(split_chains, split_before_resid, split_after_resid, input_filename)\n",
    "# cap_chain(input_filename)\n"
   ]
  },
  {
   "cell_type": "code",
   "execution_count": 161,
   "metadata": {},
   "outputs": [],
   "source": [
    "# Check if fragmented loop exists when directly splitting chain and capping on raw PDB\n",
    "# Split chain 8 (now chain 10) at 97/137, make sure to switch the appropriate read/write lines in the functions below\n",
    "split_chains = [10] # Index(es) of chain(s) to split\n",
    "split_before_resid =  97 # ID of last residue to include in chain before split\n",
    "split_after_resid = 137 # ID of first residue to after the chain split\n",
    "input_filename = '../data/rerefinement_gyorgy/5udc_final_v2_refmac1_splitchain.pdb'\n",
    "\n",
    "split_chain(split_chains, split_before_resid, split_after_resid, input_filename)\n",
    "cap_chain(input_filename)\n"
   ]
  },
  {
   "cell_type": "markdown",
   "metadata": {},
   "source": [
    "# 4JHW"
   ]
  },
  {
   "cell_type": "code",
   "execution_count": 42,
   "metadata": {},
   "outputs": [],
   "source": [
    "split_chains = [2] # Index(es) of chain(s) to split\n",
    "split_before_resid =  72 # ID of last residue to include in chain before split\n",
    "split_after_resid = 73 # ID of first residue to after the chain split\n",
    "input_filename = '../data/4jhw/4jhw_clean.pdb'\n",
    "\n",
    "split_chain(split_chains, split_before_resid, split_after_resid, input_filename)\n",
    "cap_chain(input_filename)"
   ]
  },
  {
   "cell_type": "code",
   "execution_count": 43,
   "metadata": {},
   "outputs": [],
   "source": [
    "# Check if fragmented loop exists when directly splitting chain and capping on raw PDB\n",
    "split_chains = [2] # Index(es) of chain(s) to split\n",
    "split_before_resid =  97 # ID of last residue to include in chain before split\n",
    "split_after_resid = 137 # ID of first residue to after the chain split\n",
    "input_filename = '../data/4jhw/4jhw.pdb'\n",
    "\n",
    "split_chain(split_chains, split_before_resid, split_after_resid, input_filename)\n",
    "cap_chain(input_filename)\n",
    "\n"
   ]
  },
  {
   "cell_type": "code",
   "execution_count": 156,
   "metadata": {},
   "outputs": [],
   "source": [
    "# Split chain and capping on re-refined PDB\n",
    "split_chains = [2] # Index(es) of chain(s) to split\n",
    "split_before_resid =  97 # ID of last residue to include in chain before split\n",
    "split_after_resid = 137 # ID of first residue to after the chain split\n",
    "input_filename = '../data/rerefinement_gyorgy/4jhw_final_v2_refmac1.pdb'\n",
    "\n",
    "split_chain(split_chains, split_before_resid, split_after_resid, input_filename)\n",
    "cap_chain(input_filename)\n",
    "\n"
   ]
  },
  {
   "cell_type": "markdown",
   "metadata": {},
   "source": [
    "# Functions"
   ]
  },
  {
   "cell_type": "code",
   "execution_count": 158,
   "metadata": {},
   "outputs": [],
   "source": [
    "# Use OpenMM's Topology object to create a new topology with chains, residues, and atoms copied over \n",
    "# and desired chains split \n",
    "\n",
    "def split_chain(split_chains, split_before_resid, split_after_resid, input_filename):\n",
    "    # Load topology\n",
    "    pdb = PDBFile(input_filename)\n",
    "    old_topology = pdb.getTopology()\n",
    "\n",
    "    # Create new topology\n",
    "    new_topology = Topology()\n",
    "\n",
    "    # Copy residues and atoms to new topology and create new chain for residues after split\n",
    "    # Renumber residues so that they are contiguous and maintain gaps\n",
    "    d_old_to_new = {} # Key: atom in old topology, Value: atom in new topology\n",
    "    for chain in old_topology.chains():\n",
    "        chain_id = string.ascii_lowercase[chain.index].upper()\n",
    "        new_chain = new_topology.addChain(id=chain_id)\n",
    "        \n",
    "        previous_res_cur = 0\n",
    "        previous_res_old = 0\n",
    "        \n",
    "        if chain.index in split_chains:\n",
    "            new_chain_id = string.ascii_lowercase[chain.index+1].upper()\n",
    "            new_chain_split = new_topology.addChain(id=new_chain_id)\n",
    "            for res in chain.residues(): \n",
    "                \n",
    "                res_old = int(res.id)\n",
    "                if int(res.id) == previous_res_cur:\n",
    "                    res.id = str(int(res.id) + 1)\n",
    "                elif int(res.id) == previous_res_old:\n",
    "                    res.id = str(previous_res_cur + 1)\n",
    "                elif int(res.id) < previous_res_cur:\n",
    "                    res.id = str(previous_res_cur + (res_old - previous_res_old))\n",
    "                \n",
    "                if int(res.id)  <= split_before_resid:\n",
    "                    new_res = new_topology.addResidue(res.name, new_chain, id=res.id)\n",
    "                    for atom in res.atoms():\n",
    "                        new_atom = new_topology.addAtom(atom.name, atom.element, new_res)\n",
    "                        d_old_to_new[atom] = new_atom\n",
    "                else:\n",
    "                    new_res = new_topology.addResidue(res.name, new_chain_split, id=res.id)\n",
    "                    for atom in res.atoms():\n",
    "                        new_atom = new_topology.addAtom(atom.name, atom.element, new_res)\n",
    "                        d_old_to_new[atom] = new_atom\n",
    "        \n",
    "                previous_res_cur = int(res.id)\n",
    "                previous_res_old = int(res_old)\n",
    "        else:\n",
    "            for res in chain.residues():\n",
    "                \n",
    "                res_old = int(res.id)\n",
    "                if int(res.id) == previous_res_cur:\n",
    "                    res.id = str(int(res.id) + 1)\n",
    "                elif int(res.id) == previous_res_old:\n",
    "                    res.id = str(previous_res_cur + 1)\n",
    "                elif int(res.id) < previous_res_cur:\n",
    "                    res.id = str(previous_res_cur + (res_old - previous_res_old))\n",
    "                \n",
    "                new_res = new_topology.addResidue(res.name, new_chain, id=res.id)\n",
    "                \n",
    "                for atom in res.atoms():\n",
    "                    new_atom = new_topology.addAtom(atom.name, atom.element, new_res)\n",
    "                    d_old_to_new[atom] = new_atom\n",
    "                    \n",
    "                previous_res_cur = int(res.id)\n",
    "                previous_res_old = int(res_old)\n",
    "    \n",
    "\n",
    "    # Copy bonds to new topology, except bond that connects chains to split\n",
    "    split_before_residue = [res for res in old_topology.residues() if int(res.id) == split_before_resid and res.chain.index in split_chains][0]\n",
    "    split_after_residue = [res for res in old_topology.residues() if int(res.id) == split_after_resid and res.chain.index in split_chains][0]\n",
    "    atoms_in_split_before_residue = [atom for atom in split_before_residue.atoms()]\n",
    "    for bond in old_topology.bonds():\n",
    "        atom_1 = bond[0]\n",
    "        atom_2 = bond[1]\n",
    "        if atom_1 in atoms_in_split_before_residue:\n",
    "            if atom_2.residue.name == split_after_residue.name:\n",
    "                continue\n",
    "        atom_1_new = d_old_to_new[atom_1]\n",
    "        atom_2_new = d_old_to_new[atom_2]\n",
    "        new_topology.addBond(atom_1_new, atom_2_new)\n",
    "\n",
    "    # Write topology and positions to pdb\n",
    "#     file = open(input_filename[:-4] + '_splitchain.pdb', 'w')\n",
    "    file = open(input_filename, 'w')\n",
    "\n",
    "    PDBFile.writeFile(new_topology, pdb.positions, file, keepIds=True)\n",
    "    return new_topology"
   ]
  },
  {
   "cell_type": "code",
   "execution_count": 159,
   "metadata": {},
   "outputs": [],
   "source": [
    "# Use PDBFixer to cap the chains (add missing terminal atoms)\n",
    "\n",
    "def cap_chain(input_filename):\n",
    "    # Use PDBFixer to cap chains\n",
    "#     fixer = pdbfixer.PDBFixer(filename=input_filename[:-4] + '_splitchain.pdb')\n",
    "    fixer = pdbfixer.PDBFixer(filename=input_filename)\n",
    "\n",
    "\n",
    "    fixer.findMissingResidues()\n",
    "    fixer.findMissingAtoms()\n",
    "    fixer.addMissingAtoms()\n",
    "\n",
    "    # Write to PDB\n",
    "#     file = open(input_filename[:-4] + '_splitchain_capped.pdb', 'w')\n",
    "    file = open(input_filename[:-4] + '_capped.pdb', 'w')\n",
    "    PDBFile.writeFile(fixer.topology, fixer.positions, file, keepIds=True)\n",
    "\n"
   ]
  },
  {
   "cell_type": "code",
   "execution_count": null,
   "metadata": {},
   "outputs": [],
   "source": []
  }
 ],
 "metadata": {
  "kernelspec": {
   "display_name": "Python 3",
   "language": "python",
   "name": "python3"
  },
  "language_info": {
   "codemirror_mode": {
    "name": "ipython",
    "version": 3
   },
   "file_extension": ".py",
   "mimetype": "text/x-python",
   "name": "python",
   "nbconvert_exporter": "python",
   "pygments_lexer": "ipython3",
   "version": "3.5.5"
  }
 },
 "nbformat": 4,
 "nbformat_minor": 2
}
