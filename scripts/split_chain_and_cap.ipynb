{
 "cells": [
  {
   "cell_type": "code",
   "execution_count": 5,
   "metadata": {},
   "outputs": [],
   "source": [
    "from simtk.openmm.app import PDBFile\n",
    "from simtk.openmm.app.topology import Topology\n",
    "import pdbfixer\n",
    "import string\n",
    "import pickle"
   ]
  },
  {
   "cell_type": "markdown",
   "metadata": {},
   "source": [
    "# 5UDC"
   ]
  },
  {
   "cell_type": "code",
   "execution_count": 14,
   "metadata": {},
   "outputs": [],
   "source": [
    "# Split chain and cap on re-refined PDB (after removing part of FP and c-term not present in 5k6f)\n",
    "split_chains = [2, 5] # Index(es) of chain(s) to split\n",
    "split_before_resid =  98 # ID of last residue to include in chain before split\n",
    "split_after_resid = 145 # ID of first residue after the chain split\n",
    "input_filename = '../data/renumbered/test/5udc_final_v2_refmac1.pdb'\n",
    "cterm_before_resid = 509 # ID of last residue to include before cutting off rest of the the c-terminal residues\n",
    "\n",
    "split_chain(split_chains, split_before_resid, split_after_resid, input_filename, cterm_before_resid)"
   ]
  },
  {
   "cell_type": "code",
   "execution_count": 15,
   "metadata": {},
   "outputs": [],
   "source": [
    "# Split chain and cap on re-refined PDB (after removing part of FP and c-term not present in 5k6f)\n",
    "# Split chain 8 (now chain 10) at 97/137, make sure to switch the appropriate read/write lines in the functions below\n",
    "split_chains = [10] # Index(es) of chain(s) to split\n",
    "split_before_resid =  97 # ID of last residue to include in chain before split\n",
    "split_after_resid = 145 # ID of first residue after the chain split\n",
    "input_filename = '../data/renumbered/test/5udc_final_v2_refmac1_splitchain.pdb'\n",
    "cterm_before_resid = 509 # ID of last residue to include before cutting off rest of the the c-terminal residues\n",
    "\n",
    "split_chain(split_chains, split_before_resid, split_after_resid, input_filename, cterm_before_resid, first_split=False)\n",
    "cap_chain(input_filename, first_split=False)"
   ]
  },
  {
   "cell_type": "markdown",
   "metadata": {},
   "source": [
    "# 4JHW"
   ]
  },
  {
   "cell_type": "code",
   "execution_count": 11,
   "metadata": {},
   "outputs": [],
   "source": [
    "# Split chain and cap on re-refined PDB (after removing part of FP and c-term not present in 5k6f)\n",
    "split_chains = [2] # Index(es) of chain(s) to split\n",
    "split_before_resid =  97 # ID of last residue to include in chain before split\n",
    "split_after_resid = 145 # ID of first residue after the chain split\n",
    "input_filename = '../data/renumbered/test/4jhw_final_v2_refmac1.pdb'\n",
    "cterm_before_resid = 509 # ID of last residue to include before cutting off rest of the the c-terminal residues\n",
    "\n",
    "split_chain(split_chains, split_before_resid, split_after_resid, input_filename, cterm_before_resid)\n",
    "cap_chain(input_filename)"
   ]
  },
  {
   "cell_type": "markdown",
   "metadata": {},
   "source": [
    "# 5k6f"
   ]
  },
  {
   "cell_type": "code",
   "execution_count": 20,
   "metadata": {},
   "outputs": [
    {
     "name": "stdout",
     "output_type": "stream",
     "text": [
      "Warning: cterm_before_resid not set\n"
     ]
    }
   ],
   "source": [
    "# Split chain and capping on re-refined PDB\n",
    "split_chains = [0] # Index(es) of chain(s) to split\n",
    "split_before_resid =  98 # ID of last residue to include in chain before split\n",
    "split_after_resid = 145 # ID of first residue after the chain split\n",
    "input_filename = '../data/renumbered/keep_chain_id_res_num/5k6f.pdb'\n",
    "\n",
    "split_chain(split_chains, split_before_resid, split_after_resid, input_filename)\n",
    "cap_chain(input_filename)"
   ]
  },
  {
   "cell_type": "markdown",
   "metadata": {},
   "source": [
    "# 4jhw trimer + single antibody"
   ]
  },
  {
   "cell_type": "code",
   "execution_count": 8,
   "metadata": {},
   "outputs": [],
   "source": [
    "# Split chain and cap on re-refined PDB (after removing part of FP and c-term not present in 5k6f)\n",
    "split_chains = [2, 5, 8] # Index(es) of chain(s) to split\n",
    "split_before_resid =  97 # ID of last residue to include in chain before split\n",
    "split_after_resid = 145 # ID of first residue after the chain split\n",
    "input_filename = '../data/renumbered/keep_chain_id_res_num/4jhw_trimer.pdb'\n",
    "cterm_before_resid = 509 # ID of last residue to include before cutting off rest of the the c-terminal residues\n",
    "\n",
    "split_chain(split_chains, split_before_resid, split_after_resid, input_filename, cterm_before_resid)\n",
    "cap_chain(input_filename)"
   ]
  },
  {
   "cell_type": "markdown",
   "metadata": {},
   "source": [
    "# Functions"
   ]
  },
  {
   "cell_type": "code",
   "execution_count": 2,
   "metadata": {},
   "outputs": [],
   "source": [
    "# Use OpenMM's Topology object to create a new topology with chains, residues, and atoms copied over \n",
    "# and desired chains split. Also allows optional deletion of c-terminal residues in the chains to be split.\n",
    "# NOTE: THIS FUNCTION MAINTAINS INSERTION CODES\n",
    "# split_chains : Index(es) of chain(s) to split\n",
    "# split_before_resid : ID of last residue to include before the chain split\n",
    "# split_after_resid : ID of first residue after the chain split\n",
    "# input_filename : name of input PDB file\n",
    "# cterm_before_resid : (optional) ID of last residue to include before cutting off rest of the the c-terminal residues\n",
    "\n",
    "def split_chain(split_chains, split_before_resid, split_after_resid, input_filename, cterm_before_resid=10000, first_split=True):\n",
    "    d_chains = {\"F\": \"X\", \"A\": \"Y\", \"D\": \"Z\"}\n",
    "    \n",
    "    if cterm_before_resid==10000:\n",
    "        print(\"Warning: cterm_before_resid not set\")\n",
    "    \n",
    "    # Load topology\n",
    "    pdb = PDBFile(input_filename)\n",
    "    old_topology = pdb.getTopology()\n",
    "\n",
    "    # Create new topology\n",
    "    new_topology = Topology()\n",
    "    new_topology.setPeriodicBoxVectors(old_topology.getPeriodicBoxVectors())\n",
    "\n",
    "    # Copy residues and atoms to new topology and create new chain for residues after split\n",
    "    # Renumber residues so that they are contiguous and maintain gaps\n",
    "    d_old_to_new = {} # Key: atom in old topology, Value: atom in new topology\n",
    "    d_new_to_old_res = {} # Key: residue in old topology, Value: residue in new topology\n",
    "    n_split_chains = 0\n",
    "    for chain in old_topology.chains():\n",
    "        old_chain_id = chain.id\n",
    "        new_chain = new_topology.addChain(id=old_chain_id)\n",
    "        \n",
    "        previous_res_cur = 0\n",
    "        previous_res_old = 0\n",
    "        \n",
    "        if chain.index in split_chains:\n",
    "            new_chain_split = new_topology.addChain(id=d_chains[old_chain_id])\n",
    "            for res in chain.residues(): \n",
    "                \n",
    "                # Copy residues and atoms\n",
    "                if int(res.id) <= split_before_resid:\n",
    "                    new_res = new_topology.addResidue(res.name, new_chain, id=res.id, insertionCode=res.insertionCode)\n",
    "                    for atom in res.atoms():\n",
    "                        new_atom = new_topology.addAtom(atom.name, atom.element, new_res)\n",
    "                        d_old_to_new[atom] = new_atom\n",
    "                elif int(res.id) >= split_after_resid:\n",
    "                    if int(res.id) > cterm_before_resid: # Do not add residues after specified last cterm residue\n",
    "                        continue\n",
    "                    new_res = new_topology.addResidue(res.name, new_chain_split, id=res.id, insertionCode=res.insertionCode)\n",
    "                    for atom in res.atoms():\n",
    "                        new_atom = new_topology.addAtom(atom.name, atom.element, new_res)\n",
    "                        d_old_to_new[atom] = new_atom\n",
    "\n",
    "            n_split_chains += 1\n",
    "        else:\n",
    "            for res in chain.residues():\n",
    "                # Copy residues and atoms\n",
    "                new_res = new_topology.addResidue(res.name, new_chain, id=res.id, insertionCode=res.insertionCode)\n",
    "                \n",
    "                for atom in res.atoms():\n",
    "                    new_atom = new_topology.addAtom(atom.name, atom.element, new_res)\n",
    "                    d_old_to_new[atom] = new_atom\n",
    "    \n",
    "\n",
    "    # Copy bonds to new topology, except bonds that connects chains to split\n",
    "    atoms_to_delete = []\n",
    "    for res in old_topology.residues():\n",
    "        if res.chain.index in split_chains:\n",
    "            if ((int(res.id) > split_before_resid) and (int(res.id) < split_after_resid)) or (int(res.id) > cterm_before_resid):\n",
    "                for atom in res.atoms():\n",
    "                    atoms_to_delete.append(atom)\n",
    "    for bond in old_topology.bonds():\n",
    "        atom_1 = bond[0]\n",
    "        atom_2 = bond[1]\n",
    "        if (atom_1.residue.chain.index in split_chains) and (atom_2.residue.chain.index in split_chains):\n",
    "            if (int(atom_1.residue.id) == split_before_resid) and (int(atom_2.residue.id) == split_after_resid):\n",
    "                continue\n",
    "            elif (atom_1 in atoms_to_delete) or (atom_2 in atoms_to_delete):\n",
    "                continue\n",
    "        atom_1_new = d_old_to_new[atom_1]\n",
    "        atom_2_new = d_old_to_new[atom_2]\n",
    "        new_topology.addBond(atom_1_new, atom_2_new)\n",
    "        \n",
    "    # Delete positions of atoms to be deleted\n",
    "    atoms_to_delete.reverse() # Reverse elements of list so that indices of atoms to be deleted are not affected by previous deletions\n",
    "    for atom in atoms_to_delete:\n",
    "        del[pdb.positions[atom.index]]\n",
    " \n",
    "    # Write topology and positions to pdb\n",
    "    if first_split:\n",
    "        filename = input_filename[:-4] + '_splitchain.pdb'\n",
    "    else:\n",
    "        filename = input_filename\n",
    "    \n",
    "    pdb_file = open(filename, 'w')\n",
    "    PDBFile.writeFile(new_topology, pdb.positions, pdb_file, keepIds=True)\n",
    "    "
   ]
  },
  {
   "cell_type": "code",
   "execution_count": 3,
   "metadata": {},
   "outputs": [],
   "source": [
    "# Use PDBFixer to cap the chains (add missing terminal atoms)\n",
    "\n",
    "def cap_chain(input_filename, first_split=True):\n",
    "    # Use PDBFixer to cap chains\n",
    "    if first_split:\n",
    "        filename = input_filename[:-4] + '_splitchain.pdb'\n",
    "    else:\n",
    "        filename = input_filename\n",
    "    fixer = pdbfixer.PDBFixer(filename=filename)\n",
    "    \n",
    "    fixer.findMissingResidues()\n",
    "    fixer.findMissingAtoms()\n",
    "    fixer.addMissingAtoms()\n",
    "    fixer.removeHeterogens(False)\n",
    "\n",
    "    # Write to PDB\n",
    "    file = open(filename[:-4] + '_capped.pdb', 'w')\n",
    "    \n",
    "    PDBFile.writeFile(fixer.topology, fixer.positions, file, keepIds=True)\n",
    "\n",
    "\n"
   ]
  }
 ],
 "metadata": {
  "kernelspec": {
   "display_name": "Python 3",
   "language": "python",
   "name": "python3"
  },
  "language_info": {
   "codemirror_mode": {
    "name": "ipython",
    "version": 3
   },
   "file_extension": ".py",
   "mimetype": "text/x-python",
   "name": "python",
   "nbconvert_exporter": "python",
   "pygments_lexer": "ipython3",
   "version": "3.6.7"
  }
 },
 "nbformat": 4,
 "nbformat_minor": 2
}
