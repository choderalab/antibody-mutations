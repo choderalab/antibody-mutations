{
 "cells": [
  {
   "cell_type": "code",
   "execution_count": 139,
   "metadata": {},
   "outputs": [],
   "source": [
    "import csv\n",
    "from simtk.openmm.app import PDBFile\n",
    "from simtk.openmm.app.topology import Topology\n",
    "import pdbfixer"
   ]
  },
  {
   "cell_type": "markdown",
   "metadata": {},
   "source": [
    "# 5UDC"
   ]
  },
  {
   "cell_type": "code",
   "execution_count": 174,
   "metadata": {},
   "outputs": [],
   "source": [
    "# Split chains 2 and 5 at 72/73\n",
    "split_chains = [2, 5] # Index(es) of chain(s) to split\n",
    "split_before_resid =  72 # ID of last residue to include in chain before split\n",
    "split_after_resid = 73 # ID of first residue to after the chain split\n",
    "input_filename = '../data/5udc/5udc_clean_nolongterms_noloop_noseqres_nogap.pdb'\n",
    "\n",
    "split_chain(split_chains, split_before_resid, split_after_resid, input_filename)\n",
    "cap_chain(input_filename)\n"
   ]
  },
  {
   "cell_type": "code",
   "execution_count": 177,
   "metadata": {},
   "outputs": [],
   "source": [
    "# Note: make sure the filename lines are set correctly in functions below before runnning this cell\n",
    "# Split chain 8 at 73/74 -- but since this takes in the file that has already split chains 2 and 5, \n",
    "# the chain index here is really 10\n",
    "split_chains = [10] # Index(es) of chain(s) to split\n",
    "split_before_resid =  73 # ID of last residue to include in chain before split\n",
    "split_after_resid = 74 # ID of first residue to after the chain split\n",
    "input_filename = '../data/5udc/5udc_clean_nolongterms_noloop_noseqres_nogap_splitchain_capped.pdb'\n",
    "\n",
    "split_chain(split_chains, split_before_resid, split_after_resid, input_filename)\n",
    "cap_chain(input_filename)"
   ]
  },
  {
   "cell_type": "markdown",
   "metadata": {},
   "source": [
    "# 4JHW"
   ]
  },
  {
   "cell_type": "code",
   "execution_count": 158,
   "metadata": {},
   "outputs": [
    {
     "name": "stdout",
     "output_type": "stream",
     "text": [
      "\n"
     ]
    }
   ],
   "source": [
    "split_chains = [2] # Index(es) of chain(s) to split\n",
    "split_before_resid =  72 # ID of last residue to include in chain before split\n",
    "split_after_resid = 73 # ID of first residue to after the chain split\n",
    "input_filename = '../data/4jhw/4jhw_clean.pdb'\n",
    "\n",
    "split_chain(split_chains, split_before_resid, split_after_resid, input_filename)\n",
    "cap_chain(input_filename)"
   ]
  },
  {
   "cell_type": "code",
   "execution_count": 176,
   "metadata": {},
   "outputs": [],
   "source": [
    "# Use OpenMM's Topology object to create a new topology with chains, residues, and atoms copied over \n",
    "# and desired chains split \n",
    "\n",
    "def split_chain(split_chains, split_before_resid, split_after_resid, input_filename):\n",
    "    # Load topology\n",
    "    pdb = PDBFile(input_filename)\n",
    "    old_topology = pdb.getTopology()\n",
    "\n",
    "    # Create new topology\n",
    "    new_topology = Topology()\n",
    "\n",
    "    # Copy residues and atoms to new topology and create new chain for residues after split\n",
    "    d_old_to_new = {} # Key: atom in old topology, Value: atom in new topology\n",
    "    for chain in old_topology.chains():\n",
    "        new_chain = new_topology.addChain()\n",
    "        if chain.index in split_chains:\n",
    "            new_chain_split = new_topology.addChain()\n",
    "            for res in chain.residues(): \n",
    "                if int(res.id)  <= split_before_resid:\n",
    "                    new_res = new_topology.addResidue(res.name, new_chain, int(res.id))\n",
    "                    for atom in res.atoms():\n",
    "                        new_atom = new_topology.addAtom(atom.name, atom.element, new_res)\n",
    "                        d_old_to_new[atom] = new_atom\n",
    "                else:\n",
    "                    new_res = new_topology.addResidue(res.name, new_chain_split, int(res.id))\n",
    "                    for atom in res.atoms():\n",
    "                        new_atom = new_topology.addAtom(atom.name, atom.element, new_res)\n",
    "                        d_old_to_new[atom] = new_atom\n",
    "        else:\n",
    "            for res in chain.residues():\n",
    "                new_res = new_topology.addResidue(res.name, new_chain, int(res.id))\n",
    "                for atom in res.atoms():\n",
    "                    new_atom = new_topology.addAtom(atom.name, atom.element, new_res)\n",
    "                    d_old_to_new[atom] = new_atom\n",
    "\n",
    "\n",
    "    # Copy bonds to new topology, except bond that connects chains to split\n",
    "    split_before_residue = [res for res in old_topology.residues() if int(res.id) == split_before_resid and res.chain.index in split_chains][0]\n",
    "    split_after_residue = [res for res in old_topology.residues() if int(res.id) == split_after_resid and res.chain.index in split_chains][0]\n",
    "    atoms_in_split_before_residue = [atom for atom in split_before_residue.atoms()]\n",
    "    for bond in old_topology.bonds():\n",
    "        atom_1 = bond[0]\n",
    "        atom_2 = bond[1]\n",
    "        if atom_1 in atoms_in_split_before_residue:\n",
    "            if atom_2.residue.name == split_after_residue.name:\n",
    "                continue\n",
    "        atom_1_new = d_old_to_new[atom_1]\n",
    "        atom_2_new = d_old_to_new[atom_2]\n",
    "        new_topology.addBond(atom_1_new, atom_2_new)\n",
    "\n",
    "    # Write topology and positions to pdb\n",
    "#     file = open(input_filename[:-11] + '.pdb', 'w')\n",
    "    file = open(input_filename[:-4] + '_splitchain.pdb', 'w')\n",
    "\n",
    "    PDBFile.writeFile(new_topology, pdb.positions, file)"
   ]
  },
  {
   "cell_type": "code",
   "execution_count": 175,
   "metadata": {},
   "outputs": [],
   "source": [
    "# Use PDBFixer to cap the chains (add missing terminal atoms)\n",
    "\n",
    "def cap_chain(input_filename):\n",
    "    # Use PDBFixer to cap chains\n",
    "#     fixer = pdbfixer.PDBFixer(filename=input_filename[:-11] + '.pdb')\n",
    "    fixer = pdbfixer.PDBFixer(filename=input_filename[:-4] + '_splitchain.pdb')\n",
    "\n",
    "    fixer.findMissingResidues()\n",
    "    fixer.findMissingAtoms()\n",
    "    fixer.addMissingAtoms()\n",
    "\n",
    "    # Write to PDB\n",
    "#     PDBFile.writeFile(fixer.topology, fixer.positions, open(input_filename, 'w'))\n",
    "    PDBFile.writeFile(fixer.topology, fixer.positions, open(input_filename[:-4] + '_splitchain_capped.pdb', 'w'))\n"
   ]
  },
  {
   "cell_type": "code",
   "execution_count": null,
   "metadata": {},
   "outputs": [],
   "source": []
  }
 ],
 "metadata": {
  "kernelspec": {
   "display_name": "Python 3",
   "language": "python",
   "name": "python3"
  },
  "language_info": {
   "codemirror_mode": {
    "name": "ipython",
    "version": 3
   },
   "file_extension": ".py",
   "mimetype": "text/x-python",
   "name": "python",
   "nbconvert_exporter": "python",
   "pygments_lexer": "ipython3",
   "version": "3.5.5"
  }
 },
 "nbformat": 4,
 "nbformat_minor": 2
}
