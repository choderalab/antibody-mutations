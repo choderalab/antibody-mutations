{
 "cells": [
  {
   "cell_type": "code",
   "execution_count": null,
   "metadata": {},
   "outputs": [],
   "source": [
    "import pdbfixer\n",
    "import mdtraj as md\n",
    "from simtk.openmm.app import PDBFile"
   ]
  },
  {
   "cell_type": "code",
   "execution_count": null,
   "metadata": {},
   "outputs": [],
   "source": [
    "# Load the file into PDBFixer\n",
    "fixer = pdbfixer.PDBFixer(filename='../data/renumbered/4jha.pdb')"
   ]
  },
  {
   "cell_type": "code",
   "execution_count": null,
   "metadata": {},
   "outputs": [],
   "source": [
    "# Identify missing residues\n",
    "fixer.findMissingResidues()\n",
    "fixer.missingResidues"
   ]
  },
  {
   "cell_type": "code",
   "execution_count": null,
   "metadata": {},
   "outputs": [],
   "source": [
    "# Remove missing residues if they are > than 10 residues long\n",
    "chains = list(fixer.topology.chains())\n",
    "keys = fixer.missingResidues.keys()\n",
    "for key in list(keys): # Declare as list because makes a copy of the dict keys\n",
    "    chain = chains[key[0]]\n",
    "    if chain.index == 0: # Do not add back KS at the c-term of chain 0\n",
    "        fixer.missingResidues[key] = ['LYS', 'SER']\n"
   ]
  },
  {
   "cell_type": "code",
   "execution_count": null,
   "metadata": {},
   "outputs": [],
   "source": [
    "fixer.missingResidues"
   ]
  },
  {
   "cell_type": "code",
   "execution_count": null,
   "metadata": {},
   "outputs": [],
   "source": [
    "# Identify nonstandard residues\n",
    "fixer.findNonstandardResidues()\n",
    "fixer.nonstandardResidues\n",
    "# fixer.replaceNonstandardResidues()"
   ]
  },
  {
   "cell_type": "code",
   "execution_count": null,
   "metadata": {},
   "outputs": [],
   "source": [
    "# Remove heterogens\n",
    "\n",
    "# The argument specifies whether to keep water molecules. \n",
    "# False removes all heterogens including water. \n",
    "# True keeps water molecules while removing all other heterogens.\n",
    "\n",
    "fixer.removeHeterogens(False)\n"
   ]
  },
  {
   "cell_type": "code",
   "execution_count": null,
   "metadata": {},
   "outputs": [],
   "source": [
    "# findMissingAtoms() identifies all missing heavy atoms \n",
    "# and stores them into two fields called missingAtoms and missingTerminals. \n",
    "# Each of these is a dictionary whose keys are Residue objects and whose values are lists of atom names. \n",
    "# missingAtoms contains standard atoms that should be present in any residue of that type, \n",
    "# while missingTerminals contains missing terminal atoms that should be present at the start or end of a chain. \n",
    "# You are free to remove atoms from these dictionaries before continuing, if you want to prevent certain atoms \n",
    "# from being added.\n",
    "\n",
    "fixer.findMissingAtoms()\n"
   ]
  },
  {
   "cell_type": "code",
   "execution_count": null,
   "metadata": {},
   "outputs": [],
   "source": [
    "# addMissingAtoms() is the point at which all heavy atoms get added. \n",
    "# This includes the ones identified by findMissingAtoms() as well \n",
    "# as the missing residues identified by findMissingResidues(). \n",
    "# Also, if you used replaceNonstandardResidues() to modify any residues, \n",
    "# that will have removed any atoms that do not belong in the replacement residue, \n",
    "# but it will not have added ones that are missing from the original residue. \n",
    "# addMissingAtoms() is the point when those get added.\n",
    "\n",
    "fixer.addMissingAtoms()"
   ]
  },
  {
   "cell_type": "code",
   "execution_count": null,
   "metadata": {},
   "outputs": [],
   "source": [
    "PDBFile.writeFile(fixer.topology, fixer.positions, open('../data/renumbered/4jha_clean.pdb', 'w'), keepIds=True)\n"
   ]
  }
 ],
 "metadata": {
  "kernelspec": {
   "display_name": "Python 3",
   "language": "python",
   "name": "python3"
  },
  "language_info": {
   "codemirror_mode": {
    "name": "ipython",
    "version": 3
   },
   "file_extension": ".py",
   "mimetype": "text/x-python",
   "name": "python",
   "nbconvert_exporter": "python",
   "pygments_lexer": "ipython3",
   "version": "3.5.5"
  }
 },
 "nbformat": 4,
 "nbformat_minor": 2
}
