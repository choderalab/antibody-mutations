{
 "cells": [
  {
   "cell_type": "code",
   "execution_count": 3,
   "metadata": {},
   "outputs": [],
   "source": [
    "from simtk.openmm.app import PDBFile\n",
    "from simtk.openmm.app.topology import Topology\n",
    "import pdbfixer\n",
    "import string"
   ]
  },
  {
   "cell_type": "markdown",
   "metadata": {},
   "source": [
    "# Cut head off - 5udc"
   ]
  },
  {
   "cell_type": "code",
   "execution_count": 197,
   "metadata": {},
   "outputs": [
    {
     "name": "stdout",
     "output_type": "stream",
     "text": [
      "missing residues:  {(2, 0): ['ACE'], (6, 0): ['ACE'], (10, 0): ['ACE']}\n",
      "missing residues:  {(3, 167): ['NME'], (7, 167): ['NME'], (11, 167): ['NME']}\n"
     ]
    }
   ],
   "source": [
    "# Delete n-term residues in first half of F protein\n",
    "chains = [2, 6, 10] # Index(es) of chain(s) to split\n",
    "cutoff_resid =  18 # ID of last residue to include in chain before deleting\n",
    "input_filename = '../data/rerefinement_gyorgy/5udc_final_v2_refmac1_clean.pdb'\n",
    "output_filename = '../data/rerefinement_gyorgy/5udc_final_v2_refmac1_clean_tail.pdb'\n",
    "\n",
    "delete_residues(chains, cutoff_resid, False, input_filename, output_filename)\n",
    "\n",
    "# Delete c-term rsidues in second half of F protein\n",
    "chains = [3, 7, 11] # Index(es) of chain(s) to split\n",
    "cutoff_resid =  167 # ID of last residue to include in chain before deleting\n",
    "input_filename = '../data/rerefinement_gyorgy/5udc_final_v2_refmac1_clean_tail.pdb'\n",
    "output_filename = '../data/rerefinement_gyorgy/5udc_final_v2_refmac1_clean_tail.pdb'\n",
    "\n",
    "delete_residues(chains, cutoff_resid, True, input_filename, output_filename)\n"
   ]
  },
  {
   "cell_type": "markdown",
   "metadata": {},
   "source": [
    "# Cut head off -- 4jhw"
   ]
  },
  {
   "cell_type": "code",
   "execution_count": 198,
   "metadata": {},
   "outputs": [
    {
     "name": "stdout",
     "output_type": "stream",
     "text": [
      "missing residues:  {(2, 0): ['ACE']}\n",
      "missing residues:  {(3, 167): ['NME']}\n"
     ]
    }
   ],
   "source": [
    "# Delete n-term residues in first half of F protein\n",
    "chains = [2] # Index(es) of chain(s) to split\n",
    "cutoff_resid =  18 # ID of last residue to include in chain before deleting\n",
    "input_filename = '../data/rerefinement_gyorgy/4jhw_final_v2_refmac1_clean.pdb'\n",
    "output_filename = '../data/rerefinement_gyorgy/4jhw_final_v2_refmac1_clean_tail.pdb'\n",
    "\n",
    "delete_residues(chains, cutoff_resid, False, input_filename, output_filename)\n",
    "\n",
    "# Delete c-term rsidues in second half of F protein\n",
    "chains = [3] # Index(es) of chain(s) to split\n",
    "cutoff_resid =  167 # ID of last residue to include in chain before deleting\n",
    "input_filename = '../data/rerefinement_gyorgy/4jhw_final_v2_refmac1_clean_tail.pdb'\n",
    "output_filename = '../data/rerefinement_gyorgy/4jhw_final_v2_refmac1_clean_tail.pdb'\n",
    "\n",
    "delete_residues(chains, cutoff_resid, True, input_filename, output_filename)\n"
   ]
  },
  {
   "cell_type": "markdown",
   "metadata": {},
   "source": [
    "# Cut head off -- 5k6f"
   ]
  },
  {
   "cell_type": "code",
   "execution_count": 199,
   "metadata": {},
   "outputs": [
    {
     "name": "stdout",
     "output_type": "stream",
     "text": [
      "missing residues:  {(0, 0): ['ACE']}\n",
      "missing residues:  {(1, 167): ['NME']}\n"
     ]
    }
   ],
   "source": [
    "# Delete n-term residues in first half of F protein\n",
    "chains = [0] # Index(es) of chain(s) to split\n",
    "cutoff_resid =  18 # ID of last residue to include in chain before deleting\n",
    "input_filename = '../data/5k6f/5k6f_splitchain_capped.pdb'\n",
    "output_filename = '../data/5k6f/5k6f_splitchain_capped_tail.pdb'\n",
    "\n",
    "delete_residues(chains, cutoff_resid, False, input_filename, output_filename)\n",
    "\n",
    "# Delete c-term rsidues in second half of F protein\n",
    "chains = [1] # Index(es) of chain(s) to split\n",
    "cutoff_resid =  167 # ID of last residue to include in chain before deleting\n",
    "input_filename = '../data/5k6f/5k6f_splitchain_capped_tail.pdb'\n",
    "output_filename = '../data/5k6f/5k6f_splitchain_capped_tail.pdb'\n",
    "\n",
    "delete_residues(chains, cutoff_resid, True, input_filename, output_filename)\n"
   ]
  },
  {
   "cell_type": "markdown",
   "metadata": {},
   "source": [
    "# Cut constant off -- 5udc"
   ]
  },
  {
   "cell_type": "code",
   "execution_count": 200,
   "metadata": {},
   "outputs": [
    {
     "name": "stdout",
     "output_type": "stream",
     "text": [
      "missing residues:  {(4, 127): ['NME'], (8, 127): ['NME'], (0, 127): ['NME']}\n",
      "missing residues:  {(1, 109): ['NME'], (5, 109): ['NME'], (9, 109): ['NME']}\n"
     ]
    }
   ],
   "source": [
    "# Delete c-term residues in heavy chain\n",
    "chains = [0, 4, 8] # Index(es) of chain(s) to split\n",
    "cutoff_resid =  127 # ID of last residue to include in chain before deleting\n",
    "input_filename = '../data/rerefinement_gyorgy/5udc_final_v2_refmac1_clean.pdb'\n",
    "output_filename = '../data/rerefinement_gyorgy/5udc_final_v2_refmac1_clean_variable.pdb'\n",
    "\n",
    "delete_residues(chains, cutoff_resid, True, input_filename, output_filename)\n",
    "\n",
    "# Delete c-term rsidues in light chain\n",
    "chains = [1, 5, 9] # Index(es) of chain(s) to split\n",
    "cutoff_resid =  109 # ID of last residue to include in chain before deleting\n",
    "input_filename = '../data/rerefinement_gyorgy/5udc_final_v2_refmac1_clean_variable.pdb'\n",
    "output_filename = '../data/rerefinement_gyorgy/5udc_final_v2_refmac1_clean_variable.pdb'\n",
    "\n",
    "delete_residues(chains, cutoff_resid, True, input_filename, output_filename)\n"
   ]
  },
  {
   "cell_type": "markdown",
   "metadata": {},
   "source": [
    "# Cut constant off -- 4jhw"
   ]
  },
  {
   "cell_type": "code",
   "execution_count": 201,
   "metadata": {},
   "outputs": [
    {
     "name": "stdout",
     "output_type": "stream",
     "text": [
      "missing residues:  {(0, 127): ['NME']}\n",
      "missing residues:  {(1, 109): ['NME']}\n"
     ]
    }
   ],
   "source": [
    "# Delete c-term residues in heavy chain\n",
    "chains = [0] # Index(es) of chain(s) to split\n",
    "cutoff_resid =  127 # ID of last residue to include in chain before deleting\n",
    "input_filename = '../data/rerefinement_gyorgy/4jhw_final_v2_refmac1_clean.pdb'\n",
    "output_filename = '../data/rerefinement_gyorgy/4jhw_final_v2_refmac1_clean_variable.pdb'\n",
    "\n",
    "delete_residues(chains, cutoff_resid, True, input_filename, output_filename)\n",
    "\n",
    "# Delete c-term rsidues in light chain\n",
    "chains = [1] # Index(es) of chain(s) to split\n",
    "cutoff_resid =  109 # ID of last residue to include in chain before deleting\n",
    "input_filename = '../data/rerefinement_gyorgy/4jhw_final_v2_refmac1_clean_variable.pdb'\n",
    "output_filename = '../data/rerefinement_gyorgy/4jhw_final_v2_refmac1_clean_variable.pdb'\n",
    "\n",
    "delete_residues(chains, cutoff_resid, True, input_filename, output_filename)\n"
   ]
  },
  {
   "cell_type": "markdown",
   "metadata": {},
   "source": [
    "# Cut constant off -- 4jha"
   ]
  },
  {
   "cell_type": "code",
   "execution_count": 202,
   "metadata": {},
   "outputs": [
    {
     "name": "stdout",
     "output_type": "stream",
     "text": [
      "missing residues:  {(0, 127): ['NME']}\n",
      "missing residues:  {(1, 109): ['NME']}\n"
     ]
    }
   ],
   "source": [
    "# Delete c-term residues in heavy chain\n",
    "chains = [0] # Index(es) of chain(s) to split\n",
    "cutoff_resid =  127 # ID of last residue to include in chain before deleting\n",
    "input_filename = '../data/4jha/4jha_clean.pdb'\n",
    "output_filename = '../data/4jha/4jha_clean_variable.pdb'\n",
    "\n",
    "delete_residues(chains, cutoff_resid, True, input_filename, output_filename)\n",
    "\n",
    "# Delete c-term rsidues in light chain\n",
    "chains = [1] # Index(es) of chain(s) to split\n",
    "cutoff_resid =  109 # ID of last residue to include in chain before deleting\n",
    "input_filename = '../data/4jha/4jha_clean_variable.pdb'\n",
    "output_filename = '../data/4jha/4jha_clean_variable.pdb'\n",
    "\n",
    "delete_residues(chains, cutoff_resid, True, input_filename, output_filename)\n"
   ]
  },
  {
   "cell_type": "markdown",
   "metadata": {},
   "source": [
    "# Cut head and constant off - 5udc"
   ]
  },
  {
   "cell_type": "code",
   "execution_count": 203,
   "metadata": {},
   "outputs": [
    {
     "name": "stdout",
     "output_type": "stream",
     "text": [
      "missing residues:  {(4, 127): ['NME'], (8, 127): ['NME'], (0, 127): ['NME']}\n",
      "missing residues:  {(1, 109): ['NME'], (5, 109): ['NME'], (9, 109): ['NME']}\n"
     ]
    }
   ],
   "source": [
    "# Delete c-term residues in heavy chain\n",
    "chains = [0, 4, 8] # Index(es) of chain(s) to split\n",
    "cutoff_resid =  127 # ID of last residue to include in chain before deleting\n",
    "input_filename = '../data/rerefinement_gyorgy/5udc_final_v2_refmac1_clean_tail.pdb'\n",
    "output_filename = '../data/rerefinement_gyorgy/5udc_final_v2_refmac1_clean_tail_variable.pdb'\n",
    "\n",
    "delete_residues(chains, cutoff_resid, True, input_filename, output_filename)\n",
    "\n",
    "# Delete c-term rsidues in light chain\n",
    "chains = [1, 5, 9] # Index(es) of chain(s) to split\n",
    "cutoff_resid =  109 # ID of last residue to include in chain before deleting\n",
    "input_filename = '../data/rerefinement_gyorgy/5udc_final_v2_refmac1_clean_tail_variable.pdb'\n",
    "output_filename = '../data/rerefinement_gyorgy/5udc_final_v2_refmac1_clean_tail_variable.pdb'\n",
    "\n",
    "delete_residues(chains, cutoff_resid, True, input_filename, output_filename)\n"
   ]
  },
  {
   "cell_type": "markdown",
   "metadata": {},
   "source": [
    "# Cut head and constant off - 4jhw"
   ]
  },
  {
   "cell_type": "code",
   "execution_count": 204,
   "metadata": {},
   "outputs": [
    {
     "name": "stdout",
     "output_type": "stream",
     "text": [
      "missing residues:  {(0, 127): ['NME']}\n",
      "missing residues:  {(1, 109): ['NME']}\n"
     ]
    }
   ],
   "source": [
    "# Delete c-term residues in heavy chain\n",
    "chains = [0] # Index(es) of chain(s) to split\n",
    "cutoff_resid =  127 # ID of last residue to include in chain before deleting\n",
    "input_filename = '../data/rerefinement_gyorgy/4jhw_final_v2_refmac1_clean_tail.pdb'\n",
    "output_filename = '../data/rerefinement_gyorgy/4jhw_final_v2_refmac1_clean_tail_variable.pdb'\n",
    "\n",
    "delete_residues(chains, cutoff_resid, True, input_filename, output_filename)\n",
    "\n",
    "# Delete c-term rsidues in light chain\n",
    "chains = [1] # Index(es) of chain(s) to split\n",
    "cutoff_resid =  109 # ID of last residue to include in chain before deleting\n",
    "input_filename = '../data/rerefinement_gyorgy/4jhw_final_v2_refmac1_clean_tail_variable.pdb'\n",
    "output_filename = '../data/rerefinement_gyorgy/4jhw_final_v2_refmac1_clean_tail_variable.pdb'\n",
    "\n",
    "delete_residues(chains, cutoff_resid, True, input_filename, output_filename)\n"
   ]
  },
  {
   "cell_type": "code",
   "execution_count": null,
   "metadata": {},
   "outputs": [],
   "source": []
  },
  {
   "cell_type": "code",
   "execution_count": 196,
   "metadata": {},
   "outputs": [],
   "source": [
    "# Use OpenMM's Topology object to create a new topology with chains, residues, and atoms copied over \n",
    "# and desired chains split. Also allows optional deletion of c-terminal residues in the chains to be split.\n",
    "# chains : Index(es) of chain(s) to split\n",
    "# cutoff_resid : For C-term, ID of last residue to include before deleting residues. \n",
    "## For N-term, ID of first residue after deleting residues\n",
    "# isCTerm : (boolean) indicates whether the cutoff is for deleting N-term or C-term residues\n",
    "# input_filename : name of input PDB file\n",
    "\n",
    "def delete_residues(chains, cutoff_resid, isCTerm, input_filename, ending):    \n",
    "    # Load topology\n",
    "    pdb = PDBFile(input_filename)\n",
    "    old_topology = pdb.getTopology()\n",
    "\n",
    "    # Create new topology\n",
    "    new_topology = Topology()\n",
    "\n",
    "    # Copy residues and atoms to new topology and create new chain for residues after split\n",
    "    # Renumber residues so that they are contiguous and maintain gaps\n",
    "    d_old_to_new = {} # Key: atom in old topology, Value: atom in new topology\n",
    "    for chain in old_topology.chains():\n",
    "        chain_id = string.ascii_lowercase[chain.index].upper()\n",
    "        new_chain = new_topology.addChain(id=chain_id)\n",
    "        for res in chain.residues():   \n",
    "            # Skip addition of certain residues and add ACE or NME to the cutoff terminal\n",
    "            if chain.index in chains:\n",
    "                if isCTerm:\n",
    "                    if int(res.id) > cutoff_resid:\n",
    "                        continue\n",
    "                else:\n",
    "                    if int(res.id) < cutoff_resid:\n",
    "                        continue\n",
    "                    \n",
    "            # Copy residues and atoms\n",
    "            new_res = new_topology.addResidue(res.name, new_chain, id=res.id)\n",
    "            for atom in res.atoms():\n",
    "                new_atom = new_topology.addAtom(atom.name, atom.element, new_res)\n",
    "                d_old_to_new[atom] = new_atom\n",
    "\n",
    "    # Make list of atoms to delete\n",
    "    atoms_to_delete = []\n",
    "    for res in old_topology.residues():\n",
    "        if res.chain.index in chains:\n",
    "            if isCTerm:\n",
    "                if int(res.id) > cutoff_resid:\n",
    "                    for atom in res.atoms():\n",
    "                        atoms_to_delete.append(atom)\n",
    "            else:\n",
    "                if int(res.id) < cutoff_resid:\n",
    "                    for atom in res.atoms():\n",
    "                        atoms_to_delete.append(atom)\n",
    "            \n",
    "    # Copy bonds to new topology, except bonds involving atoms to delete    \n",
    "    for bond in old_topology.bonds():\n",
    "        atom_1 = bond[0]\n",
    "        atom_2 = bond[1]\n",
    "        if (atom_1 in atoms_to_delete) or (atom_2 in atoms_to_delete):\n",
    "            continue\n",
    "        atom_1_new = d_old_to_new[atom_1]\n",
    "        atom_2_new = d_old_to_new[atom_2]\n",
    "        new_topology.addBond(atom_1_new, atom_2_new)\n",
    "        \n",
    "    # Delete positions of atoms to be deleted\n",
    "    atoms_to_delete.reverse() # Reverse elements of list so that indices of atoms to be deleted are not affected by previous deletions\n",
    "    for atom in atoms_to_delete:\n",
    "        del[pdb.positions[atom.index]]\n",
    " \n",
    "    # Write topology and positions to pdb\n",
    "    file = open(output_filename, 'w')\n",
    "    PDBFile.writeFile(new_topology, pdb.positions, file, keepIds=True)\n",
    "    file.close()\n",
    "    \n",
    "    # Use PDBFixer to add missing atoms\n",
    "    fixer = pdbfixer.PDBFixer(filename=output_filename)\n",
    "    fixer.findMissingResidues()\n",
    "    \n",
    "    # Add ACE or NME cap  \n",
    "    for chain in fixer.topology.chains():\n",
    "        last_indexInChain = [i for i, res in enumerate(chain.residues())][-1]\n",
    "        for res in chain.residues():\n",
    "            if chain.index in chains:\n",
    "                if isCTerm:\n",
    "                    fixer.missingResidues[(chain.index, last_indexInChain + 1)] = [\"NME\"]\n",
    "                else:\n",
    "                    fixer.missingResidues[(chain.index, 0)] = [\"ACE\"]\n",
    "\n",
    "    print(\"missing residues: \", fixer.missingResidues)\n",
    "    fixer.findMissingAtoms()\n",
    "    fixer.addMissingAtoms()\n",
    "#     fixer.removeHeterogens(False) # Do no remove heterogens -- this will remove ACE and NME\n",
    "    \n",
    "    # Write to PDB\n",
    "    file = open(output_filename, 'w')\n",
    "    PDBFile.writeFile(fixer.topology, fixer.positions, file, keepIds=True)\n",
    "    file.close()\n",
    "    \n"
   ]
  },
  {
   "cell_type": "markdown",
   "metadata": {},
   "source": [
    "# Look at 5udc/4jhw bonds between nonconsecutive residue or across chains"
   ]
  },
  {
   "cell_type": "code",
   "execution_count": 37,
   "metadata": {},
   "outputs": [
    {
     "name": "stdout",
     "output_type": "stream",
     "text": [
      "Bond(<Atom 723 (SG) of chain 0 residue 95 (CYS)>, <Atom 152 (SG) of chain 0 residue 21 (CYS)>) 96 22\n",
      "Bond(<Atom 1541 (SG) of chain 0 residue 208 (CYS)>, <Atom 1127 (SG) of chain 0 residue 152 (CYS)>) 209 153\n",
      "Bond(<Atom 2358 (SG) of chain 1 residue 315 (CYS)>, <Atom 1857 (SG) of chain 1 residue 250 (CYS)>) 88 23\n",
      "Bond(<Atom 3181 (SG) of chain 1 residue 421 (CYS)>, <Atom 2702 (SG) of chain 1 residue 361 (CYS)>) 194 134\n",
      "Bond(<Atom 4416 (SG) of chain 3 residue 582 (CYS)>, <Atom 3681 (SG) of chain 2 residue 485 (CYS)>) 68 44\n",
      "Bond(<Atom 5035 (SG) of chain 3 residue 660 (CYS)>, <Atom 3977 (SG) of chain 3 residue 525 (CYS)>) 146 11\n",
      "Bond(<Atom 5369 (SG) of chain 3 residue 703 (CYS)>, <Atom 5290 (SG) of chain 3 residue 692 (CYS)>) 189 178\n",
      "Bond(<Atom 5457 (SG) of chain 3 residue 713 (CYS)>, <Atom 5215 (SG) of chain 3 residue 683 (CYS)>) 199 169\n",
      "Bond(<Atom 5640 (SG) of chain 3 residue 737 (CYS)>, <Atom 5566 (SG) of chain 3 residue 728 (CYS)>) 223 214\n",
      "Bond(<Atom 5843 (SG) of chain 3 residue 763 (CYS)>, <Atom 5751 (SG) of chain 3 residue 752 (CYS)>) 249 238\n",
      "Bond(<Atom 6049 (SG) of chain 3 residue 792 (CYS)>, <Atom 6002 (SG) of chain 3 residue 786 (CYS)>) 278 272\n",
      "Bond(<Atom 6174 (SG) of chain 3 residue 809 (CYS)>, <Atom 3434 (SG) of chain 2 residue 453 (CYS)>) 295 12\n",
      "Bond(<Atom 7458 (SG) of chain 4 residue 975 (CYS)>, <Atom 6887 (SG) of chain 4 residue 901 (CYS)>) 96 22\n",
      "Bond(<Atom 8276 (SG) of chain 4 residue 1088 (CYS)>, <Atom 7862 (SG) of chain 4 residue 1032 (CYS)>) 209 153\n",
      "Bond(<Atom 9093 (SG) of chain 5 residue 1195 (CYS)>, <Atom 8592 (SG) of chain 5 residue 1130 (CYS)>) 88 23\n",
      "Bond(<Atom 9916 (SG) of chain 5 residue 1301 (CYS)>, <Atom 9437 (SG) of chain 5 residue 1241 (CYS)>) 194 134\n",
      "Bond(<Atom 11151 (SG) of chain 7 residue 1462 (CYS)>, <Atom 10416 (SG) of chain 6 residue 1365 (CYS)>) 68 44\n",
      "Bond(<Atom 11770 (SG) of chain 7 residue 1540 (CYS)>, <Atom 10712 (SG) of chain 7 residue 1405 (CYS)>) 146 11\n",
      "Bond(<Atom 12104 (SG) of chain 7 residue 1583 (CYS)>, <Atom 12025 (SG) of chain 7 residue 1572 (CYS)>) 189 178\n",
      "Bond(<Atom 12192 (SG) of chain 7 residue 1593 (CYS)>, <Atom 11950 (SG) of chain 7 residue 1563 (CYS)>) 199 169\n",
      "Bond(<Atom 12375 (SG) of chain 7 residue 1617 (CYS)>, <Atom 12301 (SG) of chain 7 residue 1608 (CYS)>) 223 214\n",
      "Bond(<Atom 12578 (SG) of chain 7 residue 1643 (CYS)>, <Atom 12486 (SG) of chain 7 residue 1632 (CYS)>) 249 238\n",
      "Bond(<Atom 12784 (SG) of chain 7 residue 1672 (CYS)>, <Atom 12737 (SG) of chain 7 residue 1666 (CYS)>) 278 272\n",
      "Bond(<Atom 12909 (SG) of chain 7 residue 1689 (CYS)>, <Atom 10169 (SG) of chain 6 residue 1333 (CYS)>) 295 12\n",
      "Bond(<Atom 14193 (SG) of chain 8 residue 1855 (CYS)>, <Atom 13622 (SG) of chain 8 residue 1781 (CYS)>) 96 22\n",
      "Bond(<Atom 15011 (SG) of chain 8 residue 1968 (CYS)>, <Atom 14597 (SG) of chain 8 residue 1912 (CYS)>) 209 153\n",
      "Bond(<Atom 15828 (SG) of chain 9 residue 2075 (CYS)>, <Atom 15327 (SG) of chain 9 residue 2010 (CYS)>) 88 23\n",
      "Bond(<Atom 16651 (SG) of chain 9 residue 2181 (CYS)>, <Atom 16172 (SG) of chain 9 residue 2121 (CYS)>) 194 134\n",
      "Bond(<Atom 17886 (SG) of chain 11 residue 2342 (CYS)>, <Atom 17151 (SG) of chain 10 residue 2245 (CYS)>) 68 44\n",
      "Bond(<Atom 18505 (SG) of chain 11 residue 2420 (CYS)>, <Atom 17447 (SG) of chain 11 residue 2285 (CYS)>) 146 11\n",
      "Bond(<Atom 18839 (SG) of chain 11 residue 2463 (CYS)>, <Atom 18760 (SG) of chain 11 residue 2452 (CYS)>) 189 178\n",
      "Bond(<Atom 18927 (SG) of chain 11 residue 2473 (CYS)>, <Atom 18685 (SG) of chain 11 residue 2443 (CYS)>) 199 169\n",
      "Bond(<Atom 19110 (SG) of chain 11 residue 2497 (CYS)>, <Atom 19036 (SG) of chain 11 residue 2488 (CYS)>) 223 214\n",
      "Bond(<Atom 19313 (SG) of chain 11 residue 2523 (CYS)>, <Atom 19221 (SG) of chain 11 residue 2512 (CYS)>) 249 238\n",
      "Bond(<Atom 19519 (SG) of chain 11 residue 2552 (CYS)>, <Atom 19472 (SG) of chain 11 residue 2546 (CYS)>) 278 272\n",
      "Bond(<Atom 19644 (SG) of chain 11 residue 2569 (CYS)>, <Atom 16904 (SG) of chain 10 residue 2213 (CYS)>) 295 12\n"
     ]
    }
   ],
   "source": [
    "input_filename = '../data/rerefinement_gyorgy/5udc_final_v2_refmac1_clean.pdb'\n",
    "pdb = PDBFile(input_filename)\n",
    "old_topology = pdb.getTopology()\n",
    "for bond in old_topology.bonds():\n",
    "    if (bond[0].residue.chain.index != bond[1].residue.chain.index) or (abs(int(bond[0].residue.id) - int(bond[1].residue.id)) > 1):\n",
    "        print(bond, bond[0].residue.id, bond[1].residue.id)\n"
   ]
  },
  {
   "cell_type": "code",
   "execution_count": 40,
   "metadata": {},
   "outputs": [
    {
     "name": "stdout",
     "output_type": "stream",
     "text": [
      "Bond(<Atom 1040 (C) of chain 0 residue 138 (SER)>, <Atom 1044 (N) of chain 0 residue 139 (GLY)>) 127 134\n",
      "Bond(<Atom 3801 (C) of chain 2 residue 499 (GLN)>, <Atom 3808 (N) of chain 2 residue 500 (PHE)>) 98 137\n",
      "Bond(<Atom 7759 (C) of chain 3 residue 1015 (SER)>, <Atom 7763 (N) of chain 3 residue 1016 (THR)>) 127 135\n",
      "Bond(<Atom 10532 (C) of chain 5 residue 1377 (GLN)>, <Atom 10539 (N) of chain 5 residue 1378 (PHE)>) 98 137\n",
      "Bond(<Atom 14484 (C) of chain 6 residue 1892 (PRO)>, <Atom 14489 (N) of chain 6 residue 1893 (THR)>) 126 135\n",
      "Bond(<Atom 17278 (C) of chain 8 residue 2257 (MET)>, <Atom 17284 (N) of chain 8 residue 2258 (PHE)>) 97 137\n",
      "Bond(<Atom 716 (SG) of chain 0 residue 94 (CYS)>, <Atom 145 (SG) of chain 0 residue 20 (CYS)>) 92 22\n",
      "Bond(<Atom 1496 (SG) of chain 0 residue 201 (CYS)>, <Atom 1082 (SG) of chain 0 residue 145 (CYS)>) 196 140\n",
      "Bond(<Atom 2281 (SG) of chain 1 residue 304 (CYS)>, <Atom 1780 (SG) of chain 1 residue 239 (CYS)>) 88 23\n",
      "Bond(<Atom 3104 (SG) of chain 1 residue 410 (CYS)>, <Atom 2625 (SG) of chain 1 residue 350 (CYS)>) 194 134\n",
      "Bond(<Atom 4370 (SG) of chain 2 residue 575 (CYS)>, <Atom 3575 (SG) of chain 2 residue 470 (CYS)>) 212 69\n",
      "Bond(<Atom 4989 (SG) of chain 2 residue 653 (CYS)>, <Atom 3931 (SG) of chain 2 residue 518 (CYS)>) 290 155\n",
      "Bond(<Atom 5323 (SG) of chain 2 residue 696 (CYS)>, <Atom 5244 (SG) of chain 2 residue 685 (CYS)>) 333 322\n",
      "Bond(<Atom 5411 (SG) of chain 2 residue 706 (CYS)>, <Atom 5169 (SG) of chain 2 residue 676 (CYS)>) 343 313\n",
      "Bond(<Atom 5594 (SG) of chain 2 residue 730 (CYS)>, <Atom 5520 (SG) of chain 2 residue 721 (CYS)>) 367 358\n",
      "Bond(<Atom 5797 (SG) of chain 2 residue 756 (CYS)>, <Atom 5705 (SG) of chain 2 residue 745 (CYS)>) 393 382\n",
      "Bond(<Atom 6003 (SG) of chain 2 residue 785 (CYS)>, <Atom 5956 (SG) of chain 2 residue 779 (CYS)>) 422 416\n",
      "Bond(<Atom 6128 (SG) of chain 2 residue 802 (CYS)>, <Atom 3328 (SG) of chain 2 residue 438 (CYS)>) 439 37\n",
      "Bond(<Atom 7435 (SG) of chain 3 residue 971 (CYS)>, <Atom 6864 (SG) of chain 3 residue 897 (CYS)>) 92 22\n",
      "Bond(<Atom 8211 (SG) of chain 3 residue 1077 (CYS)>, <Atom 7797 (SG) of chain 3 residue 1021 (CYS)>) 196 140\n",
      "Bond(<Atom 9012 (SG) of chain 4 residue 1182 (CYS)>, <Atom 8511 (SG) of chain 4 residue 1117 (CYS)>) 88 23\n",
      "Bond(<Atom 9835 (SG) of chain 4 residue 1288 (CYS)>, <Atom 9356 (SG) of chain 4 residue 1228 (CYS)>) 194 134\n",
      "Bond(<Atom 11101 (SG) of chain 5 residue 1453 (CYS)>, <Atom 10306 (SG) of chain 5 residue 1348 (CYS)>) 212 69\n",
      "Bond(<Atom 11720 (SG) of chain 5 residue 1531 (CYS)>, <Atom 10662 (SG) of chain 5 residue 1396 (CYS)>) 290 155\n",
      "Bond(<Atom 12054 (SG) of chain 5 residue 1574 (CYS)>, <Atom 11975 (SG) of chain 5 residue 1563 (CYS)>) 333 322\n",
      "Bond(<Atom 12142 (SG) of chain 5 residue 1584 (CYS)>, <Atom 11900 (SG) of chain 5 residue 1554 (CYS)>) 343 313\n",
      "Bond(<Atom 12325 (SG) of chain 5 residue 1608 (CYS)>, <Atom 12251 (SG) of chain 5 residue 1599 (CYS)>) 367 358\n",
      "Bond(<Atom 12528 (SG) of chain 5 residue 1634 (CYS)>, <Atom 12436 (SG) of chain 5 residue 1623 (CYS)>) 393 382\n",
      "Bond(<Atom 12734 (SG) of chain 5 residue 1663 (CYS)>, <Atom 12687 (SG) of chain 5 residue 1657 (CYS)>) 422 416\n",
      "Bond(<Atom 12859 (SG) of chain 5 residue 1680 (CYS)>, <Atom 10059 (SG) of chain 5 residue 1316 (CYS)>) 439 37\n",
      "Bond(<Atom 14167 (SG) of chain 6 residue 1849 (CYS)>, <Atom 13596 (SG) of chain 6 residue 1775 (CYS)>) 92 22\n",
      "Bond(<Atom 14937 (SG) of chain 6 residue 1954 (CYS)>, <Atom 14523 (SG) of chain 6 residue 1898 (CYS)>) 196 140\n",
      "Bond(<Atom 15753 (SG) of chain 7 residue 2061 (CYS)>, <Atom 15252 (SG) of chain 7 residue 1996 (CYS)>) 88 23\n",
      "Bond(<Atom 16576 (SG) of chain 7 residue 2167 (CYS)>, <Atom 16097 (SG) of chain 7 residue 2107 (CYS)>) 194 134\n",
      "Bond(<Atom 17846 (SG) of chain 8 residue 2333 (CYS)>, <Atom 17060 (SG) of chain 8 residue 2229 (CYS)>) 212 69\n",
      "Bond(<Atom 18465 (SG) of chain 8 residue 2411 (CYS)>, <Atom 17407 (SG) of chain 8 residue 2276 (CYS)>) 290 155\n",
      "Bond(<Atom 18799 (SG) of chain 8 residue 2454 (CYS)>, <Atom 18720 (SG) of chain 8 residue 2443 (CYS)>) 333 322\n",
      "Bond(<Atom 18887 (SG) of chain 8 residue 2464 (CYS)>, <Atom 18645 (SG) of chain 8 residue 2434 (CYS)>) 343 313\n",
      "Bond(<Atom 19070 (SG) of chain 8 residue 2488 (CYS)>, <Atom 18996 (SG) of chain 8 residue 2479 (CYS)>) 367 358\n",
      "Bond(<Atom 19273 (SG) of chain 8 residue 2514 (CYS)>, <Atom 19181 (SG) of chain 8 residue 2503 (CYS)>) 393 382\n",
      "Bond(<Atom 19479 (SG) of chain 8 residue 2543 (CYS)>, <Atom 19432 (SG) of chain 8 residue 2537 (CYS)>) 422 416\n",
      "Bond(<Atom 19604 (SG) of chain 8 residue 2560 (CYS)>, <Atom 16813 (SG) of chain 8 residue 2197 (CYS)>) 439 37\n",
      "Bond(<Atom 3583 (ND2) of chain 2 residue 471 (ASN)>, <Atom 20195 (C1) of chain 9 residue 2635 (NAG)>) 70 601\n",
      "Bond(<Atom 20233 (O6) of chain 9 residue 2637 (BMA)>, <Atom 20267 (C1) of chain 9 residue 2641 (MAN)>) 603 607\n",
      "Bond(<Atom 20277 (O6) of chain 9 residue 2641 (MAN)>, <Atom 20300 (C1) of chain 9 residue 2644 (MAN)>) 607 610\n"
     ]
    }
   ],
   "source": [
    "input_filename = '../data/5udc/5udc.pdb'\n",
    "pdb = PDBFile(input_filename)\n",
    "old_topology = pdb.getTopology()\n",
    "for bond in old_topology.bonds():\n",
    "    if (bond[0].residue.chain.index != bond[1].residue.chain.index) or (abs(int(bond[0].residue.id) - int(bond[1].residue.id)) > 1):\n",
    "        print(bond, bond[0].residue.id, bond[1].residue.id)"
   ]
  },
  {
   "cell_type": "code",
   "execution_count": 41,
   "metadata": {},
   "outputs": [
    {
     "name": "stdout",
     "output_type": "stream",
     "text": [
      "Bond(<Atom 729 (SG) of chain 0 residue 95 (CYS)>, <Atom 152 (SG) of chain 0 residue 21 (CYS)>) 96 22\n",
      "Bond(<Atom 1545 (SG) of chain 0 residue 208 (CYS)>, <Atom 1131 (SG) of chain 0 residue 152 (CYS)>) 209 153\n",
      "Bond(<Atom 2344 (SG) of chain 1 residue 313 (CYS)>, <Atom 1843 (SG) of chain 1 residue 248 (CYS)>) 88 23\n",
      "Bond(<Atom 3167 (SG) of chain 1 residue 419 (CYS)>, <Atom 2688 (SG) of chain 1 residue 359 (CYS)>) 194 134\n",
      "Bond(<Atom 4396 (SG) of chain 3 residue 580 (CYS)>, <Atom 3667 (SG) of chain 2 residue 483 (CYS)>) 68 44\n",
      "Bond(<Atom 5349 (SG) of chain 3 residue 701 (CYS)>, <Atom 5270 (SG) of chain 3 residue 690 (CYS)>) 189 178\n",
      "Bond(<Atom 5437 (SG) of chain 3 residue 711 (CYS)>, <Atom 5195 (SG) of chain 3 residue 681 (CYS)>) 199 169\n",
      "Bond(<Atom 5620 (SG) of chain 3 residue 735 (CYS)>, <Atom 5546 (SG) of chain 3 residue 726 (CYS)>) 223 214\n",
      "Bond(<Atom 5823 (SG) of chain 3 residue 761 (CYS)>, <Atom 5731 (SG) of chain 3 residue 750 (CYS)>) 249 238\n",
      "Bond(<Atom 6029 (SG) of chain 3 residue 790 (CYS)>, <Atom 5982 (SG) of chain 3 residue 784 (CYS)>) 278 272\n",
      "Bond(<Atom 6154 (SG) of chain 3 residue 807 (CYS)>, <Atom 3420 (SG) of chain 2 residue 451 (CYS)>) 295 12\n"
     ]
    }
   ],
   "source": [
    "input_filename = '../data/rerefinement_gyorgy/4jhw_final_v2_refmac1_clean.pdb'\n",
    "pdb = PDBFile(input_filename)\n",
    "old_topology = pdb.getTopology()\n",
    "for bond in old_topology.bonds():\n",
    "    if (bond[0].residue.chain.index != bond[1].residue.chain.index) or (abs(int(bond[0].residue.id) - int(bond[1].residue.id)) > 1):\n",
    "        print(bond, bond[0].residue.id, bond[1].residue.id)"
   ]
  },
  {
   "cell_type": "code",
   "execution_count": 39,
   "metadata": {
    "scrolled": false
   },
   "outputs": [
    {
     "name": "stdout",
     "output_type": "stream",
     "text": [
      "Bond(<Atom 3867 (C) of chain 2 residue 508 (MET)>, <Atom 3873 (N) of chain 2 residue 509 (PHE)>) 97 137\n",
      "Bond(<Atom 731 (SG) of chain 0 residue 95 (CYS)>, <Atom 154 (SG) of chain 0 residue 21 (CYS)>) 92 22\n",
      "Bond(<Atom 1547 (SG) of chain 0 residue 208 (CYS)>, <Atom 1133 (SG) of chain 0 residue 152 (CYS)>) 196 140\n",
      "Bond(<Atom 2346 (SG) of chain 1 residue 313 (CYS)>, <Atom 1845 (SG) of chain 1 residue 248 (CYS)>) 88 23\n",
      "Bond(<Atom 3169 (SG) of chain 1 residue 419 (CYS)>, <Atom 2690 (SG) of chain 1 residue 359 (CYS)>) 194 134\n",
      "Bond(<Atom 4429 (SG) of chain 2 residue 584 (CYS)>, <Atom 3649 (SG) of chain 2 residue 480 (CYS)>) 212 69\n",
      "Bond(<Atom 5382 (SG) of chain 2 residue 705 (CYS)>, <Atom 5303 (SG) of chain 2 residue 694 (CYS)>) 333 322\n",
      "Bond(<Atom 5470 (SG) of chain 2 residue 715 (CYS)>, <Atom 5228 (SG) of chain 2 residue 685 (CYS)>) 343 313\n",
      "Bond(<Atom 5653 (SG) of chain 2 residue 739 (CYS)>, <Atom 5579 (SG) of chain 2 residue 730 (CYS)>) 367 358\n",
      "Bond(<Atom 5856 (SG) of chain 2 residue 765 (CYS)>, <Atom 5764 (SG) of chain 2 residue 754 (CYS)>) 393 382\n",
      "Bond(<Atom 6062 (SG) of chain 2 residue 794 (CYS)>, <Atom 6015 (SG) of chain 2 residue 788 (CYS)>) 422 416\n",
      "Bond(<Atom 6187 (SG) of chain 2 residue 811 (CYS)>, <Atom 3402 (SG) of chain 2 residue 448 (CYS)>) 439 37\n"
     ]
    }
   ],
   "source": [
    "input_filename = '../data/4jhw/4jhw.pdb'\n",
    "pdb = PDBFile(input_filename)\n",
    "old_topology = pdb.getTopology()\n",
    "for bond in old_topology.bonds():\n",
    "    if (bond[0].residue.chain.index != bond[1].residue.chain.index) or (abs(int(bond[0].residue.id) - int(bond[1].residue.id)) > 1):\n",
    "        print(bond, bond[0].residue.id, bond[1].residue.id)"
   ]
  },
  {
   "cell_type": "code",
   "execution_count": null,
   "metadata": {},
   "outputs": [],
   "source": []
  }
 ],
 "metadata": {
  "kernelspec": {
   "display_name": "Python 3",
   "language": "python",
   "name": "python3"
  },
  "language_info": {
   "codemirror_mode": {
    "name": "ipython",
    "version": 3
   },
   "file_extension": ".py",
   "mimetype": "text/x-python",
   "name": "python",
   "nbconvert_exporter": "python",
   "pygments_lexer": "ipython3",
   "version": "3.5.5"
  }
 },
 "nbformat": 4,
 "nbformat_minor": 2
}
