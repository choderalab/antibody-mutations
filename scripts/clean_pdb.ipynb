{
 "cells": [
  {
   "cell_type": "code",
   "execution_count": 2,
   "metadata": {},
   "outputs": [],
   "source": [
    "import pdbfixer\n",
    "import mdtraj as md\n",
    "from simtk.openmm.app import PDBFile"
   ]
  },
  {
   "cell_type": "markdown",
   "metadata": {},
   "source": [
    "# 5UDC"
   ]
  },
  {
   "cell_type": "code",
   "execution_count": null,
   "metadata": {},
   "outputs": [],
   "source": [
    "# Index in mdtraj/PDBFixer, ID in input PDB, ID in output PDB\n",
    "\n",
    "# Chain 0 : H : A\n",
    "# Chain 1 : L : B\n",
    "# Chain 2 : F : C\n",
    "# Chain 3 : B : D\n",
    "# Chain 4 : C : E\n",
    "# Chain 5 : A : F\n",
    "# Chain 6 : E : G\n",
    "# Chain 7 : G : H\n",
    "# Chain 8 : D : I"
   ]
  },
  {
   "cell_type": "code",
   "execution_count": 54,
   "metadata": {},
   "outputs": [],
   "source": [
    "# Load the file into PDBFixer\n",
    "fixer = pdbfixer.PDBFixer(filename='../data/5udc/5udc_splitchain_capped.pdb')\n"
   ]
  },
  {
   "cell_type": "code",
   "execution_count": 68,
   "metadata": {},
   "outputs": [],
   "source": [
    "# Remove unwanted chains\n",
    "# fixer.removeChains(indices)\n"
   ]
  },
  {
   "cell_type": "code",
   "execution_count": 55,
   "metadata": {},
   "outputs": [
    {
     "data": {
      "text/plain": [
       "{(0, 0): ['GLN'],\n",
       " (0, 139): ['SER', 'LYS', 'SER', 'THR', 'SER', 'GLY'],\n",
       " (0, 217): ['GLU', 'PRO', 'LYS', 'SER'],\n",
       " (1, 211): ['GLY', 'GLU', 'CYS'],\n",
       " (2, 0): ['MET',\n",
       "  'GLU',\n",
       "  'LEU',\n",
       "  'LEU',\n",
       "  'ILE',\n",
       "  'LEU',\n",
       "  'LYS',\n",
       "  'ALA',\n",
       "  'ASN',\n",
       "  'ALA',\n",
       "  'ILE',\n",
       "  'THR',\n",
       "  'THR',\n",
       "  'ILE',\n",
       "  'LEU',\n",
       "  'THR',\n",
       "  'ALA',\n",
       "  'VAL',\n",
       "  'THR',\n",
       "  'PHE',\n",
       "  'CYS',\n",
       "  'PHE',\n",
       "  'ALA',\n",
       "  'SER',\n",
       "  'GLY',\n",
       "  'GLN'],\n",
       " (4, 0): ['GLN'],\n",
       " (4, 139): ['SER', 'LYS', 'SER', 'THR', 'SER', 'GLY', 'GLY'],\n",
       " (4, 218): ['LYS', 'SER'],\n",
       " (5, 211): ['GLY', 'GLU', 'CYS'],\n",
       " (6, 0): ['MET',\n",
       "  'GLU',\n",
       "  'LEU',\n",
       "  'LEU',\n",
       "  'ILE',\n",
       "  'LEU',\n",
       "  'LYS',\n",
       "  'ALA',\n",
       "  'ASN',\n",
       "  'ALA',\n",
       "  'ILE',\n",
       "  'THR',\n",
       "  'THR',\n",
       "  'ILE',\n",
       "  'LEU',\n",
       "  'THR',\n",
       "  'ALA',\n",
       "  'VAL',\n",
       "  'THR',\n",
       "  'PHE',\n",
       "  'CYS',\n",
       "  'PHE',\n",
       "  'ALA',\n",
       "  'SER',\n",
       "  'GLY',\n",
       "  'GLN'],\n",
       " (8, 139): ['SER', 'SER', 'LYS', 'SER', 'THR', 'SER', 'GLY', 'GLY'],\n",
       " (9, 213): ['CYS'],\n",
       " (10, 0): ['MET',\n",
       "  'GLU',\n",
       "  'LEU',\n",
       "  'LEU',\n",
       "  'ILE',\n",
       "  'LEU',\n",
       "  'LYS',\n",
       "  'ALA',\n",
       "  'ASN',\n",
       "  'ALA',\n",
       "  'ILE',\n",
       "  'THR',\n",
       "  'THR',\n",
       "  'ILE',\n",
       "  'LEU',\n",
       "  'THR',\n",
       "  'ALA',\n",
       "  'VAL',\n",
       "  'THR',\n",
       "  'PHE',\n",
       "  'CYS',\n",
       "  'PHE',\n",
       "  'ALA',\n",
       "  'SER',\n",
       "  'GLY',\n",
       "  'GLN'],\n",
       " (10, 71): ['GLN']}"
      ]
     },
     "execution_count": 55,
     "metadata": {},
     "output_type": "execute_result"
    }
   ],
   "source": [
    "# Identify missing residues\n",
    "fixer.findMissingResidues()\n",
    "fixer.missingResidues\n"
   ]
  },
  {
   "cell_type": "code",
   "execution_count": 56,
   "metadata": {
    "scrolled": true
   },
   "outputs": [],
   "source": [
    "# Remove missing residues if they are part of terminal fragments \n",
    "chains = list(fixer.topology.chains())\n",
    "keys = fixer.missingResidues.keys()\n",
    "for key in list(keys): # Declare as list because makes a copy of the dict keys\n",
    "    chain = chains[key[0]]\n",
    "    if key[1] == 0 or key[1] == len(list(chain.residues())):\n",
    "        if len(fixer.missingResidues[key]) > 10: # Do not add back terminal fragment if its longer than 10 residues\n",
    "            if fixer.missingResidues[key][0] == 'LEU':\n",
    "                fixer.missingResidues[key] = ['LEU'] # Add LEU back in even though loop will not be added back in\n",
    "            elif fixer.missingResidues[key][-1] == 'GLN':\n",
    "                fixer.missingResidues[key] = ['GLN'] # Add GLN back in even though loop will not be added back in\n",
    "            else:\n",
    "                print(key, chain, fixer.missingResidues[key])\n",
    "                del fixer.missingResidues[key]\n",
    "#         print(key, chain)\n",
    "#         del fixer.missingResidues[key]\n"
   ]
  },
  {
   "cell_type": "code",
   "execution_count": 57,
   "metadata": {},
   "outputs": [
    {
     "data": {
      "text/plain": [
       "{(0, 0): ['GLN'],\n",
       " (0, 139): ['SER', 'LYS', 'SER', 'THR', 'SER', 'GLY'],\n",
       " (0, 217): ['GLU', 'PRO', 'LYS', 'SER'],\n",
       " (1, 211): ['GLY', 'GLU', 'CYS'],\n",
       " (2, 0): ['GLN'],\n",
       " (4, 0): ['GLN'],\n",
       " (4, 139): ['SER', 'LYS', 'SER', 'THR', 'SER', 'GLY', 'GLY'],\n",
       " (4, 218): ['LYS', 'SER'],\n",
       " (5, 211): ['GLY', 'GLU', 'CYS'],\n",
       " (6, 0): ['GLN'],\n",
       " (8, 139): ['SER', 'SER', 'LYS', 'SER', 'THR', 'SER', 'GLY', 'GLY'],\n",
       " (9, 213): ['CYS'],\n",
       " (10, 0): ['GLN'],\n",
       " (10, 71): ['GLN']}"
      ]
     },
     "execution_count": 57,
     "metadata": {},
     "output_type": "execute_result"
    }
   ],
   "source": [
    "fixer.missingResidues"
   ]
  },
  {
   "cell_type": "code",
   "execution_count": 58,
   "metadata": {},
   "outputs": [
    {
     "data": {
      "text/plain": [
       "[]"
      ]
     },
     "execution_count": 58,
     "metadata": {},
     "output_type": "execute_result"
    }
   ],
   "source": [
    "# Identify nonstandard residues\n",
    "fixer.findNonstandardResidues()\n",
    "fixer.nonstandardResidues\n",
    "# fixer.replaceNonstandardResidues()"
   ]
  },
  {
   "cell_type": "code",
   "execution_count": 59,
   "metadata": {},
   "outputs": [],
   "source": [
    "# Remove heterogens\n",
    "\n",
    "# The argument specifies whether to keep water molecules. \n",
    "# False removes all heterogens including water. \n",
    "# True keeps water molecules while removing all other heterogens.\n",
    "\n",
    "fixer.removeHeterogens(False)\n"
   ]
  },
  {
   "cell_type": "code",
   "execution_count": 60,
   "metadata": {},
   "outputs": [],
   "source": [
    "# findMissingAtoms() identifies all missing heavy atoms \n",
    "# and stores them into two fields called missingAtoms and missingTerminals. \n",
    "# Each of these is a dictionary whose keys are Residue objects and whose values are lists of atom names. \n",
    "# missingAtoms contains standard atoms that should be present in any residue of that type, \n",
    "# while missingTerminals contains missing terminal atoms that should be present at the start or end of a chain. \n",
    "# You are free to remove atoms from these dictionaries before continuing, if you want to prevent certain atoms \n",
    "# from being added.\n",
    "\n",
    "fixer.findMissingAtoms()\n"
   ]
  },
  {
   "cell_type": "code",
   "execution_count": 61,
   "metadata": {},
   "outputs": [
    {
     "data": {
      "text/plain": [
       "{}"
      ]
     },
     "execution_count": 61,
     "metadata": {},
     "output_type": "execute_result"
    }
   ],
   "source": [
    "fixer.missingAtoms\n"
   ]
  },
  {
   "cell_type": "code",
   "execution_count": 62,
   "metadata": {},
   "outputs": [
    {
     "data": {
      "text/plain": [
       "{}"
      ]
     },
     "execution_count": 62,
     "metadata": {},
     "output_type": "execute_result"
    }
   ],
   "source": [
    "fixer.missingTerminals\n"
   ]
  },
  {
   "cell_type": "code",
   "execution_count": 63,
   "metadata": {},
   "outputs": [],
   "source": [
    "# addMissingAtoms() is the point at which all heavy atoms get added. \n",
    "# This includes the ones identified by findMissingAtoms() as well \n",
    "# as the missing residues identified by findMissingResidues(). \n",
    "# Also, if you used replaceNonstandardResidues() to modify any residues, \n",
    "# that will have removed any atoms that do not belong in the replacement residue, \n",
    "# but it will not have added ones that are missing from the original residue. \n",
    "# addMissingAtoms() is the point when those get added.\n",
    "\n",
    "fixer.addMissingAtoms()"
   ]
  },
  {
   "cell_type": "code",
   "execution_count": 78,
   "metadata": {},
   "outputs": [],
   "source": [
    "# Add missing hydrogens\n",
    "# fixer.addMissingHydrogens(7.0)\n"
   ]
  },
  {
   "cell_type": "code",
   "execution_count": 64,
   "metadata": {},
   "outputs": [],
   "source": [
    "# PDBFile.writeFile(fixer.topology, fixer.positions, open('../data/5udc/5udc_clean_nolongterms.pdb', 'w'))\n",
    "# PDBFile.writeFile(fixer.topology, fixer.positions, open('../data/5udc/5udc_clean_nolongterms_noloop.pdb', 'w'))\n",
    "# PDBFile.writeFile(fixer.topology, fixer.positions, open('../data/5udc/5udc_clean_nolongterms_noloop_noseqres.pdb', 'w'))\n",
    "PDBFile.writeFile(fixer.topology, fixer.positions, open('../data/5udc/5udc_clean.pdb', 'w'))\n",
    "\n"
   ]
  },
  {
   "cell_type": "markdown",
   "metadata": {},
   "source": [
    "# 4JHW"
   ]
  },
  {
   "cell_type": "code",
   "execution_count": null,
   "metadata": {},
   "outputs": [],
   "source": [
    "# Chain 0 : H\n",
    "## Missing 214-217\n",
    "\n",
    "# Chain 1 : L\n",
    "## Missing 212-214\n",
    "\n",
    "# Chain 2 : F\n",
    "## Missing 125-136 and 514-550"
   ]
  },
  {
   "cell_type": "code",
   "execution_count": 41,
   "metadata": {},
   "outputs": [],
   "source": [
    "# Load the file into PDBFixer\n",
    "fixer = pdbfixer.PDBFixer(filename='../data/4jhw/4jhw_splitchain_capped.pdb')\n"
   ]
  },
  {
   "cell_type": "code",
   "execution_count": 42,
   "metadata": {},
   "outputs": [],
   "source": [
    "# Remove unwanted chains\n",
    "# fixer.removeChains([2])"
   ]
  },
  {
   "cell_type": "code",
   "execution_count": 43,
   "metadata": {},
   "outputs": [
    {
     "data": {
      "text/plain": [
       "{(0, 226): ['LYS', 'SER', 'CYS', 'ASP'],\n",
       " (1, 211): ['GLY', 'GLU', 'CYS'],\n",
       " (2, 72): ['GLN']}"
      ]
     },
     "execution_count": 43,
     "metadata": {},
     "output_type": "execute_result"
    }
   ],
   "source": [
    "# Identify missing residues\n",
    "fixer.findMissingResidues()\n",
    "fixer.missingResidues"
   ]
  },
  {
   "cell_type": "code",
   "execution_count": 44,
   "metadata": {},
   "outputs": [],
   "source": [
    "# Remove missing residues if they are > than 10 residues long\n",
    "chains = list(fixer.topology.chains())\n",
    "keys = fixer.missingResidues.keys()\n",
    "for key in list(keys): # Declare as list because makes a copy of the dict keys\n",
    "    chain = chains[key[0]]\n",
    "    if chain.index == 0: # Do not add back KS at the c-term of chain 0\n",
    "        fixer.missingResidues[key] = ['LYS', 'SER']\n",
    "    if len(fixer.missingResidues[key]) > 10:\n",
    "        if fixer.missingResidues[key][0] == 'LEU':\n",
    "            fixer.missingResidues[key] = ['LEU'] # Add LEU back in even though loop will not be added back in\n",
    "        elif fixer.missingResidues[key][-1] == 'GLN':\n",
    "            fixer.missingResidues[key] = ['GLN'] # Add GLN back in even though loop will not be added back in\n",
    "#             elif fixer.missingResidues[key][0] == 'GLN':\n",
    "#                 fixer.missingResidues[key] = ['GLN'] # Add GLN back in even though loop will not be added back in\n",
    "        else:\n",
    "            print(key, chain, fixer.missingResidues[key])\n",
    "            del fixer.missingResidues[key]\n",
    "#         print(key, chain)\n",
    "#         del fixer.missingResidues[key]\n"
   ]
  },
  {
   "cell_type": "code",
   "execution_count": 45,
   "metadata": {},
   "outputs": [
    {
     "data": {
      "text/plain": [
       "{(0, 226): ['LYS', 'SER'], (1, 211): ['GLY', 'GLU', 'CYS'], (2, 72): ['GLN']}"
      ]
     },
     "execution_count": 45,
     "metadata": {},
     "output_type": "execute_result"
    }
   ],
   "source": [
    "fixer.missingResidues"
   ]
  },
  {
   "cell_type": "code",
   "execution_count": 46,
   "metadata": {},
   "outputs": [
    {
     "data": {
      "text/plain": [
       "[]"
      ]
     },
     "execution_count": 46,
     "metadata": {},
     "output_type": "execute_result"
    }
   ],
   "source": [
    "# Identify nonstandard residues\n",
    "fixer.findNonstandardResidues()\n",
    "fixer.nonstandardResidues\n",
    "# fixer.replaceNonstandardResidues()"
   ]
  },
  {
   "cell_type": "code",
   "execution_count": 47,
   "metadata": {},
   "outputs": [],
   "source": [
    "# Remove heterogens\n",
    "\n",
    "# The argument specifies whether to keep water molecules. \n",
    "# False removes all heterogens including water. \n",
    "# True keeps water molecules while removing all other heterogens.\n",
    "\n",
    "fixer.removeHeterogens(False)\n"
   ]
  },
  {
   "cell_type": "code",
   "execution_count": 48,
   "metadata": {},
   "outputs": [],
   "source": [
    "# findMissingAtoms() identifies all missing heavy atoms \n",
    "# and stores them into two fields called missingAtoms and missingTerminals. \n",
    "# Each of these is a dictionary whose keys are Residue objects and whose values are lists of atom names. \n",
    "# missingAtoms contains standard atoms that should be present in any residue of that type, \n",
    "# while missingTerminals contains missing terminal atoms that should be present at the start or end of a chain. \n",
    "# You are free to remove atoms from these dictionaries before continuing, if you want to prevent certain atoms \n",
    "# from being added.\n",
    "\n",
    "fixer.findMissingAtoms()\n"
   ]
  },
  {
   "cell_type": "code",
   "execution_count": 49,
   "metadata": {},
   "outputs": [
    {
     "data": {
      "text/plain": [
       "{}"
      ]
     },
     "execution_count": 49,
     "metadata": {},
     "output_type": "execute_result"
    }
   ],
   "source": [
    "fixer.missingAtoms"
   ]
  },
  {
   "cell_type": "code",
   "execution_count": 50,
   "metadata": {},
   "outputs": [
    {
     "data": {
      "text/plain": [
       "{}"
      ]
     },
     "execution_count": 50,
     "metadata": {},
     "output_type": "execute_result"
    }
   ],
   "source": [
    "fixer.missingTerminals"
   ]
  },
  {
   "cell_type": "code",
   "execution_count": 51,
   "metadata": {},
   "outputs": [],
   "source": [
    "# addMissingAtoms() is the point at which all heavy atoms get added. \n",
    "# This includes the ones identified by findMissingAtoms() as well \n",
    "# as the missing residues identified by findMissingResidues(). \n",
    "# Also, if you used replaceNonstandardResidues() to modify any residues, \n",
    "# that will have removed any atoms that do not belong in the replacement residue, \n",
    "# but it will not have added ones that are missing from the original residue. \n",
    "# addMissingAtoms() is the point when those get added.\n",
    "\n",
    "fixer.addMissingAtoms()"
   ]
  },
  {
   "cell_type": "code",
   "execution_count": 52,
   "metadata": {},
   "outputs": [],
   "source": [
    "# Add missing hydrogens\n",
    "# fixer.addMissingHydrogens(7.0)"
   ]
  },
  {
   "cell_type": "code",
   "execution_count": 53,
   "metadata": {},
   "outputs": [],
   "source": [
    "PDBFile.writeFile(fixer.topology, fixer.positions, open('../data/4jhw/4jhw_clean.pdb', 'w'))\n"
   ]
  },
  {
   "cell_type": "markdown",
   "metadata": {},
   "source": [
    "# 4jha"
   ]
  },
  {
   "cell_type": "code",
   "execution_count": 2,
   "metadata": {},
   "outputs": [],
   "source": [
    "# Load the file into PDBFixer\n",
    "fixer = pdbfixer.PDBFixer(filename='../data/renumbered/4jha.pdb')"
   ]
  },
  {
   "cell_type": "code",
   "execution_count": 3,
   "metadata": {},
   "outputs": [],
   "source": [
    "# Remove unwanted chains\n",
    "# fixer.removeChains([2])"
   ]
  },
  {
   "cell_type": "code",
   "execution_count": 4,
   "metadata": {},
   "outputs": [
    {
     "data": {
      "text/plain": [
       "{(0, 226): ['LYS', 'SER', 'CYS', 'ASP', 'LYS'],\n",
       " (1, 211): ['GLY', 'GLU', 'CYS']}"
      ]
     },
     "execution_count": 4,
     "metadata": {},
     "output_type": "execute_result"
    }
   ],
   "source": [
    "# Identify missing residues\n",
    "fixer.findMissingResidues()\n",
    "fixer.missingResidues"
   ]
  },
  {
   "cell_type": "code",
   "execution_count": 5,
   "metadata": {},
   "outputs": [],
   "source": [
    "# Remove missing residues if they are > than 10 residues long\n",
    "chains = list(fixer.topology.chains())\n",
    "keys = fixer.missingResidues.keys()\n",
    "for key in list(keys): # Declare as list because makes a copy of the dict keys\n",
    "    chain = chains[key[0]]\n",
    "    if chain.index == 0: # Do not add back KS at the c-term of chain 0\n",
    "        fixer.missingResidues[key] = ['LYS', 'SER']\n"
   ]
  },
  {
   "cell_type": "code",
   "execution_count": 6,
   "metadata": {},
   "outputs": [
    {
     "data": {
      "text/plain": [
       "{(0, 226): ['LYS', 'SER'], (1, 211): ['GLY', 'GLU', 'CYS']}"
      ]
     },
     "execution_count": 6,
     "metadata": {},
     "output_type": "execute_result"
    }
   ],
   "source": [
    "fixer.missingResidues"
   ]
  },
  {
   "cell_type": "code",
   "execution_count": 7,
   "metadata": {},
   "outputs": [
    {
     "data": {
      "text/plain": [
       "[]"
      ]
     },
     "execution_count": 7,
     "metadata": {},
     "output_type": "execute_result"
    }
   ],
   "source": [
    "# Identify nonstandard residues\n",
    "fixer.findNonstandardResidues()\n",
    "fixer.nonstandardResidues\n",
    "# fixer.replaceNonstandardResidues()"
   ]
  },
  {
   "cell_type": "code",
   "execution_count": 8,
   "metadata": {},
   "outputs": [],
   "source": [
    "# Remove heterogens\n",
    "\n",
    "# The argument specifies whether to keep water molecules. \n",
    "# False removes all heterogens including water. \n",
    "# True keeps water molecules while removing all other heterogens.\n",
    "\n",
    "fixer.removeHeterogens(False)\n"
   ]
  },
  {
   "cell_type": "code",
   "execution_count": 9,
   "metadata": {},
   "outputs": [],
   "source": [
    "# findMissingAtoms() identifies all missing heavy atoms \n",
    "# and stores them into two fields called missingAtoms and missingTerminals. \n",
    "# Each of these is a dictionary whose keys are Residue objects and whose values are lists of atom names. \n",
    "# missingAtoms contains standard atoms that should be present in any residue of that type, \n",
    "# while missingTerminals contains missing terminal atoms that should be present at the start or end of a chain. \n",
    "# You are free to remove atoms from these dictionaries before continuing, if you want to prevent certain atoms \n",
    "# from being added.\n",
    "\n",
    "fixer.findMissingAtoms()\n"
   ]
  },
  {
   "cell_type": "code",
   "execution_count": 11,
   "metadata": {},
   "outputs": [],
   "source": [
    "# addMissingAtoms() is the point at which all heavy atoms get added. \n",
    "# This includes the ones identified by findMissingAtoms() as well \n",
    "# as the missing residues identified by findMissingResidues(). \n",
    "# Also, if you used replaceNonstandardResidues() to modify any residues, \n",
    "# that will have removed any atoms that do not belong in the replacement residue, \n",
    "# but it will not have added ones that are missing from the original residue. \n",
    "# addMissingAtoms() is the point when those get added.\n",
    "\n",
    "fixer.addMissingAtoms()"
   ]
  },
  {
   "cell_type": "code",
   "execution_count": null,
   "metadata": {},
   "outputs": [],
   "source": [
    "# Add missing hydrogens\n",
    "# fixer.addMissingHydrogens(7.0)"
   ]
  },
  {
   "cell_type": "code",
   "execution_count": 13,
   "metadata": {},
   "outputs": [],
   "source": [
    "PDBFile.writeFile(fixer.topology, fixer.positions, open('../data/renumbered/4jha_clean.pdb', 'w'), keepIds=True)\n"
   ]
  },
  {
   "cell_type": "code",
   "execution_count": 12,
   "metadata": {},
   "outputs": [
    {
     "name": "stdout",
     "output_type": "stream",
     "text": [
      "<Residue 0 (GLN) of chain 0> 1  \n",
      "<Residue 1 (VAL) of chain 0> 2  \n",
      "<Residue 2 (GLN) of chain 0> 3  \n",
      "<Residue 3 (LEU) of chain 0> 4  \n",
      "<Residue 4 (VAL) of chain 0> 5  \n",
      "<Residue 5 (GLN) of chain 0> 6  \n",
      "<Residue 6 (SER) of chain 0> 7  \n",
      "<Residue 7 (GLY) of chain 0> 8  \n",
      "<Residue 8 (ALA) of chain 0> 9  \n",
      "<Residue 9 (GLU) of chain 0> 10  \n",
      "<Residue 10 (VAL) of chain 0> 11  \n",
      "<Residue 11 (LYS) of chain 0> 12  \n",
      "<Residue 12 (LYS) of chain 0> 13  \n",
      "<Residue 13 (PRO) of chain 0> 14  \n",
      "<Residue 14 (GLY) of chain 0> 15  \n",
      "<Residue 15 (SER) of chain 0> 16  \n",
      "<Residue 16 (SER) of chain 0> 17  \n",
      "<Residue 17 (VAL) of chain 0> 18  \n",
      "<Residue 18 (MET) of chain 0> 19  \n",
      "<Residue 19 (VAL) of chain 0> 20  \n",
      "<Residue 20 (SER) of chain 0> 21  \n",
      "<Residue 21 (CYS) of chain 0> 22  \n",
      "<Residue 22 (GLN) of chain 0> 23  \n",
      "<Residue 23 (ALA) of chain 0> 24  \n",
      "<Residue 24 (SER) of chain 0> 25  \n",
      "<Residue 25 (GLY) of chain 0> 26  \n",
      "<Residue 26 (GLY) of chain 0> 27  \n",
      "<Residue 27 (PRO) of chain 0> 28  \n",
      "<Residue 28 (LEU) of chain 0> 29  \n",
      "<Residue 29 (ARG) of chain 0> 30  \n",
      "<Residue 30 (ASN) of chain 0> 31  \n",
      "<Residue 31 (TYR) of chain 0> 32  \n",
      "<Residue 32 (ILE) of chain 0> 33  \n",
      "<Residue 33 (ILE) of chain 0> 34  \n",
      "<Residue 34 (ASN) of chain 0> 35  \n",
      "<Residue 35 (TRP) of chain 0> 36  \n",
      "<Residue 36 (LEU) of chain 0> 37  \n",
      "<Residue 37 (ARG) of chain 0> 38  \n",
      "<Residue 38 (GLN) of chain 0> 39  \n",
      "<Residue 39 (ALA) of chain 0> 40  \n",
      "<Residue 40 (PRO) of chain 0> 41  \n",
      "<Residue 41 (GLY) of chain 0> 42  \n",
      "<Residue 42 (GLN) of chain 0> 43  \n",
      "<Residue 43 (GLY) of chain 0> 44  \n",
      "<Residue 44 (PRO) of chain 0> 45  \n",
      "<Residue 45 (GLU) of chain 0> 46  \n",
      "<Residue 46 (TRP) of chain 0> 47  \n",
      "<Residue 47 (MET) of chain 0> 48  \n",
      "<Residue 48 (GLY) of chain 0> 49  \n",
      "<Residue 49 (GLY) of chain 0> 50  \n",
      "<Residue 50 (ILE) of chain 0> 51  \n",
      "<Residue 51 (ILE) of chain 0> 52  \n",
      "<Residue 52 (PRO) of chain 0> 52 A\n",
      "<Residue 53 (VAL) of chain 0> 53  \n",
      "<Residue 54 (LEU) of chain 0> 54  \n",
      "<Residue 55 (GLY) of chain 0> 55  \n",
      "<Residue 56 (THR) of chain 0> 56  \n",
      "<Residue 57 (VAL) of chain 0> 57  \n",
      "<Residue 58 (HIS) of chain 0> 58  \n",
      "<Residue 59 (TYR) of chain 0> 59  \n",
      "<Residue 60 (ALA) of chain 0> 60  \n",
      "<Residue 61 (PRO) of chain 0> 61  \n",
      "<Residue 62 (LYS) of chain 0> 62  \n",
      "<Residue 63 (PHE) of chain 0> 63  \n",
      "<Residue 64 (GLN) of chain 0> 64  \n",
      "<Residue 65 (GLY) of chain 0> 65  \n",
      "<Residue 66 (ARG) of chain 0> 66  \n",
      "<Residue 67 (VAL) of chain 0> 67  \n",
      "<Residue 68 (THR) of chain 0> 68  \n",
      "<Residue 69 (ILE) of chain 0> 69  \n",
      "<Residue 70 (THR) of chain 0> 70  \n",
      "<Residue 71 (ALA) of chain 0> 71  \n",
      "<Residue 72 (ASP) of chain 0> 72  \n",
      "<Residue 73 (GLU) of chain 0> 73  \n",
      "<Residue 74 (SER) of chain 0> 74  \n",
      "<Residue 75 (THR) of chain 0> 75  \n",
      "<Residue 76 (ASP) of chain 0> 76  \n",
      "<Residue 77 (THR) of chain 0> 77  \n",
      "<Residue 78 (ALA) of chain 0> 78  \n",
      "<Residue 79 (TYR) of chain 0> 79  \n",
      "<Residue 80 (ILE) of chain 0> 80  \n",
      "<Residue 81 (HIS) of chain 0> 81  \n",
      "<Residue 82 (LEU) of chain 0> 82  \n",
      "<Residue 83 (ILE) of chain 0> 82 A\n",
      "<Residue 84 (SER) of chain 0> 82 B\n",
      "<Residue 85 (LEU) of chain 0> 82 C\n",
      "<Residue 86 (ARG) of chain 0> 83  \n",
      "<Residue 87 (SER) of chain 0> 84  \n",
      "<Residue 88 (GLU) of chain 0> 85  \n",
      "<Residue 89 (ASP) of chain 0> 86  \n",
      "<Residue 90 (THR) of chain 0> 87  \n",
      "<Residue 91 (ALA) of chain 0> 88  \n",
      "<Residue 92 (MET) of chain 0> 89  \n",
      "<Residue 93 (TYR) of chain 0> 90  \n",
      "<Residue 94 (TYR) of chain 0> 91  \n",
      "<Residue 95 (CYS) of chain 0> 92  \n",
      "<Residue 96 (ALA) of chain 0> 93  \n",
      "<Residue 97 (THR) of chain 0> 94  \n",
      "<Residue 98 (GLU) of chain 0> 95  \n",
      "<Residue 99 (THR) of chain 0> 96  \n",
      "<Residue 100 (ALA) of chain 0> 97  \n",
      "<Residue 101 (LEU) of chain 0> 98  \n",
      "<Residue 102 (VAL) of chain 0> 99  \n",
      "<Residue 103 (VAL) of chain 0> 100  \n",
      "<Residue 104 (SER) of chain 0> 100 A\n",
      "<Residue 105 (THR) of chain 0> 100 B\n",
      "<Residue 106 (THR) of chain 0> 100 C\n",
      "<Residue 107 (TYR) of chain 0> 100 D\n",
      "<Residue 108 (LEU) of chain 0> 100 E\n",
      "<Residue 109 (PRO) of chain 0> 100 F\n",
      "<Residue 110 (HIS) of chain 0> 100 G\n",
      "<Residue 111 (TYR) of chain 0> 100 H\n",
      "<Residue 112 (PHE) of chain 0> 100 I\n",
      "<Residue 113 (ASP) of chain 0> 101  \n",
      "<Residue 114 (ASN) of chain 0> 102  \n",
      "<Residue 115 (TRP) of chain 0> 103  \n",
      "<Residue 116 (GLY) of chain 0> 104  \n",
      "<Residue 117 (GLN) of chain 0> 105  \n",
      "<Residue 118 (GLY) of chain 0> 106  \n",
      "<Residue 119 (THR) of chain 0> 107  \n",
      "<Residue 120 (LEU) of chain 0> 108  \n",
      "<Residue 121 (VAL) of chain 0> 109  \n",
      "<Residue 122 (THR) of chain 0> 110  \n",
      "<Residue 123 (VAL) of chain 0> 111  \n",
      "<Residue 124 (SER) of chain 0> 112  \n",
      "<Residue 125 (SER) of chain 0> 113  \n",
      "<Residue 126 (ALA) of chain 0> 114  \n",
      "<Residue 127 (SER) of chain 0> 115  \n",
      "<Residue 128 (THR) of chain 0> 116  \n",
      "<Residue 129 (LYS) of chain 0> 117  \n",
      "<Residue 130 (GLY) of chain 0> 118  \n",
      "<Residue 131 (PRO) of chain 0> 119  \n",
      "<Residue 132 (SER) of chain 0> 120  \n",
      "<Residue 133 (VAL) of chain 0> 121  \n",
      "<Residue 134 (PHE) of chain 0> 122  \n",
      "<Residue 135 (PRO) of chain 0> 123  \n",
      "<Residue 136 (LEU) of chain 0> 124  \n",
      "<Residue 137 (ALA) of chain 0> 125  \n",
      "<Residue 138 (PRO) of chain 0> 126  \n",
      "<Residue 139 (SER) of chain 0> 127  \n",
      "<Residue 140 (SER) of chain 0> 128  \n",
      "<Residue 141 (LYS) of chain 0> 129  \n",
      "<Residue 142 (SER) of chain 0> 130  \n",
      "<Residue 143 (THR) of chain 0> 131  \n",
      "<Residue 144 (SER) of chain 0> 132  \n",
      "<Residue 145 (GLY) of chain 0> 133  \n",
      "<Residue 146 (GLY) of chain 0> 134  \n",
      "<Residue 147 (THR) of chain 0> 135  \n",
      "<Residue 148 (ALA) of chain 0> 136  \n",
      "<Residue 149 (ALA) of chain 0> 137  \n",
      "<Residue 150 (LEU) of chain 0> 138  \n",
      "<Residue 151 (GLY) of chain 0> 139  \n",
      "<Residue 152 (CYS) of chain 0> 140  \n",
      "<Residue 153 (LEU) of chain 0> 141  \n",
      "<Residue 154 (VAL) of chain 0> 142  \n",
      "<Residue 155 (LYS) of chain 0> 143  \n",
      "<Residue 156 (ASP) of chain 0> 144  \n",
      "<Residue 157 (TYR) of chain 0> 145  \n",
      "<Residue 158 (PHE) of chain 0> 146  \n",
      "<Residue 159 (PRO) of chain 0> 147  \n",
      "<Residue 160 (GLU) of chain 0> 148  \n",
      "<Residue 161 (PRO) of chain 0> 149  \n",
      "<Residue 162 (VAL) of chain 0> 150  \n",
      "<Residue 163 (THR) of chain 0> 151  \n",
      "<Residue 164 (VAL) of chain 0> 152  \n",
      "<Residue 165 (SER) of chain 0> 153  \n",
      "<Residue 166 (TRP) of chain 0> 154  \n",
      "<Residue 167 (ASN) of chain 0> 155  \n",
      "<Residue 168 (SER) of chain 0> 156  \n",
      "<Residue 169 (GLY) of chain 0> 157  \n",
      "<Residue 170 (ALA) of chain 0> 158  \n",
      "<Residue 171 (LEU) of chain 0> 159  \n",
      "<Residue 172 (THR) of chain 0> 160  \n",
      "<Residue 173 (SER) of chain 0> 161  \n",
      "<Residue 174 (GLY) of chain 0> 162  \n",
      "<Residue 175 (VAL) of chain 0> 163  \n",
      "<Residue 176 (HIS) of chain 0> 164  \n",
      "<Residue 177 (THR) of chain 0> 165  \n",
      "<Residue 178 (PHE) of chain 0> 166  \n",
      "<Residue 179 (PRO) of chain 0> 167  \n",
      "<Residue 180 (ALA) of chain 0> 168  \n",
      "<Residue 181 (VAL) of chain 0> 169  \n",
      "<Residue 182 (LEU) of chain 0> 170  \n",
      "<Residue 183 (GLN) of chain 0> 171  \n",
      "<Residue 184 (SER) of chain 0> 172  \n",
      "<Residue 185 (SER) of chain 0> 173  \n",
      "<Residue 186 (GLY) of chain 0> 174  \n",
      "<Residue 187 (LEU) of chain 0> 175  \n",
      "<Residue 188 (TYR) of chain 0> 176  \n",
      "<Residue 189 (SER) of chain 0> 177  \n",
      "<Residue 190 (LEU) of chain 0> 178  \n",
      "<Residue 191 (SER) of chain 0> 179  \n",
      "<Residue 192 (SER) of chain 0> 180  \n",
      "<Residue 193 (VAL) of chain 0> 181  \n",
      "<Residue 194 (VAL) of chain 0> 182  \n",
      "<Residue 195 (THR) of chain 0> 183  \n",
      "<Residue 196 (VAL) of chain 0> 184  \n",
      "<Residue 197 (PRO) of chain 0> 185  \n",
      "<Residue 198 (SER) of chain 0> 186  \n",
      "<Residue 199 (SER) of chain 0> 187  \n",
      "<Residue 200 (SER) of chain 0> 188  \n",
      "<Residue 201 (LEU) of chain 0> 189  \n",
      "<Residue 202 (GLY) of chain 0> 190  \n",
      "<Residue 203 (THR) of chain 0> 191  \n",
      "<Residue 204 (GLN) of chain 0> 192  \n",
      "<Residue 205 (THR) of chain 0> 193  \n",
      "<Residue 206 (TYR) of chain 0> 194  \n",
      "<Residue 207 (ILE) of chain 0> 195  \n",
      "<Residue 208 (CYS) of chain 0> 196  \n",
      "<Residue 209 (ASN) of chain 0> 197  \n",
      "<Residue 210 (VAL) of chain 0> 198  \n",
      "<Residue 211 (ASN) of chain 0> 199  \n",
      "<Residue 212 (HIS) of chain 0> 200  \n",
      "<Residue 213 (LYS) of chain 0> 201  \n",
      "<Residue 214 (PRO) of chain 0> 202  \n",
      "<Residue 215 (SER) of chain 0> 203  \n",
      "<Residue 216 (ASN) of chain 0> 204  \n",
      "<Residue 217 (THR) of chain 0> 205  \n",
      "<Residue 218 (LYS) of chain 0> 206  \n",
      "<Residue 219 (VAL) of chain 0> 207  \n",
      "<Residue 220 (ASP) of chain 0> 208  \n",
      "<Residue 221 (LYS) of chain 0> 209  \n",
      "<Residue 222 (LYS) of chain 0> 210  \n",
      "<Residue 223 (VAL) of chain 0> 211  \n",
      "<Residue 224 (GLU) of chain 0> 212  \n",
      "<Residue 225 (PRO) of chain 0> 213  \n",
      "<Residue 226 (LYS) of chain 0> 214 \n",
      "<Residue 227 (SER) of chain 0> 215 \n",
      "<Residue 228 (ASP) of chain 1> 1  \n",
      "<Residue 229 (ILE) of chain 1> 2  \n",
      "<Residue 230 (GLN) of chain 1> 3  \n",
      "<Residue 231 (MET) of chain 1> 4  \n",
      "<Residue 232 (THR) of chain 1> 5  \n",
      "<Residue 233 (GLN) of chain 1> 6  \n",
      "<Residue 234 (SER) of chain 1> 7  \n",
      "<Residue 235 (PRO) of chain 1> 8  \n",
      "<Residue 236 (SER) of chain 1> 9  \n",
      "<Residue 237 (SER) of chain 1> 10  \n",
      "<Residue 238 (LEU) of chain 1> 11  \n",
      "<Residue 239 (SER) of chain 1> 12  \n",
      "<Residue 240 (ALA) of chain 1> 13  \n",
      "<Residue 241 (ALA) of chain 1> 14  \n",
      "<Residue 242 (VAL) of chain 1> 15  \n",
      "<Residue 243 (GLY) of chain 1> 16  \n",
      "<Residue 244 (ASP) of chain 1> 17  \n",
      "<Residue 245 (ARG) of chain 1> 18  \n",
      "<Residue 246 (VAL) of chain 1> 19  \n",
      "<Residue 247 (THR) of chain 1> 20  \n",
      "<Residue 248 (ILE) of chain 1> 21  \n",
      "<Residue 249 (THR) of chain 1> 22  \n",
      "<Residue 250 (CYS) of chain 1> 23  \n",
      "<Residue 251 (GLN) of chain 1> 24  \n",
      "<Residue 252 (ALA) of chain 1> 25  \n",
      "<Residue 253 (SER) of chain 1> 26  \n",
      "<Residue 254 (GLN) of chain 1> 27  \n",
      "<Residue 255 (ASP) of chain 1> 28  \n",
      "<Residue 256 (ILE) of chain 1> 29  \n",
      "<Residue 257 (VAL) of chain 1> 30  \n",
      "<Residue 258 (ASN) of chain 1> 31  \n",
      "<Residue 259 (TYR) of chain 1> 32  \n",
      "<Residue 260 (LEU) of chain 1> 33  \n",
      "<Residue 261 (ASN) of chain 1> 34  \n",
      "<Residue 262 (TRP) of chain 1> 35  \n",
      "<Residue 263 (TYR) of chain 1> 36  \n",
      "<Residue 264 (GLN) of chain 1> 37  \n",
      "<Residue 265 (GLN) of chain 1> 38  \n",
      "<Residue 266 (LYS) of chain 1> 39  \n",
      "<Residue 267 (PRO) of chain 1> 40  \n",
      "<Residue 268 (GLY) of chain 1> 41  \n",
      "<Residue 269 (LYS) of chain 1> 42  \n",
      "<Residue 270 (ALA) of chain 1> 43  \n",
      "<Residue 271 (PRO) of chain 1> 44  \n",
      "<Residue 272 (LYS) of chain 1> 45  \n",
      "<Residue 273 (LEU) of chain 1> 46  \n",
      "<Residue 274 (LEU) of chain 1> 47  \n",
      "<Residue 275 (ILE) of chain 1> 48  \n",
      "<Residue 276 (TYR) of chain 1> 49  \n",
      "<Residue 277 (VAL) of chain 1> 50  \n",
      "<Residue 278 (ALA) of chain 1> 51  \n",
      "<Residue 279 (SER) of chain 1> 52  \n",
      "<Residue 280 (ASN) of chain 1> 53  \n",
      "<Residue 281 (LEU) of chain 1> 54  \n",
      "<Residue 282 (GLU) of chain 1> 55  \n",
      "<Residue 283 (THR) of chain 1> 56  \n",
      "<Residue 284 (GLY) of chain 1> 57  \n",
      "<Residue 285 (VAL) of chain 1> 58  \n",
      "<Residue 286 (PRO) of chain 1> 59  \n",
      "<Residue 287 (SER) of chain 1> 60  \n",
      "<Residue 288 (ARG) of chain 1> 61  \n",
      "<Residue 289 (PHE) of chain 1> 62  \n",
      "<Residue 290 (SER) of chain 1> 63  \n",
      "<Residue 291 (GLY) of chain 1> 64  \n",
      "<Residue 292 (SER) of chain 1> 65  \n",
      "<Residue 293 (GLY) of chain 1> 66  \n",
      "<Residue 294 (SER) of chain 1> 67  \n",
      "<Residue 295 (GLY) of chain 1> 68  \n",
      "<Residue 296 (THR) of chain 1> 69  \n",
      "<Residue 297 (ASP) of chain 1> 70  \n",
      "<Residue 298 (PHE) of chain 1> 71  \n",
      "<Residue 299 (SER) of chain 1> 72  \n",
      "<Residue 300 (LEU) of chain 1> 73  \n",
      "<Residue 301 (THR) of chain 1> 74  \n",
      "<Residue 302 (ILE) of chain 1> 75  \n",
      "<Residue 303 (SER) of chain 1> 76  \n",
      "<Residue 304 (SER) of chain 1> 77  \n",
      "<Residue 305 (LEU) of chain 1> 78  \n",
      "<Residue 306 (GLN) of chain 1> 79  \n",
      "<Residue 307 (PRO) of chain 1> 80  \n",
      "<Residue 308 (GLU) of chain 1> 81  \n",
      "<Residue 309 (ASP) of chain 1> 82  \n",
      "<Residue 310 (VAL) of chain 1> 83  \n",
      "<Residue 311 (ALA) of chain 1> 84  \n",
      "<Residue 312 (THR) of chain 1> 85  \n",
      "<Residue 313 (TYR) of chain 1> 86  \n",
      "<Residue 314 (TYR) of chain 1> 87  \n",
      "<Residue 315 (CYS) of chain 1> 88  \n",
      "<Residue 316 (GLN) of chain 1> 89  \n",
      "<Residue 317 (GLN) of chain 1> 90  \n",
      "<Residue 318 (TYR) of chain 1> 91  \n",
      "<Residue 319 (ASP) of chain 1> 92  \n",
      "<Residue 320 (ASN) of chain 1> 93  \n",
      "<Residue 321 (LEU) of chain 1> 94  \n",
      "<Residue 322 (PRO) of chain 1> 95  \n",
      "<Residue 323 (LEU) of chain 1> 96  \n",
      "<Residue 324 (THR) of chain 1> 97  \n",
      "<Residue 325 (PHE) of chain 1> 98  \n",
      "<Residue 326 (GLY) of chain 1> 99  \n",
      "<Residue 327 (GLY) of chain 1> 100  \n",
      "<Residue 328 (GLY) of chain 1> 101  \n",
      "<Residue 329 (THR) of chain 1> 102  \n",
      "<Residue 330 (LYS) of chain 1> 103  \n",
      "<Residue 331 (VAL) of chain 1> 104  \n",
      "<Residue 332 (GLU) of chain 1> 105  \n",
      "<Residue 333 (ILE) of chain 1> 106  \n",
      "<Residue 334 (LYS) of chain 1> 107  \n",
      "<Residue 335 (ARG) of chain 1> 108  \n",
      "<Residue 336 (THR) of chain 1> 109  \n",
      "<Residue 337 (VAL) of chain 1> 110  \n",
      "<Residue 338 (ALA) of chain 1> 111  \n",
      "<Residue 339 (ALA) of chain 1> 112  \n",
      "<Residue 340 (PRO) of chain 1> 113  \n",
      "<Residue 341 (SER) of chain 1> 114  \n",
      "<Residue 342 (VAL) of chain 1> 115  \n",
      "<Residue 343 (PHE) of chain 1> 116  \n",
      "<Residue 344 (ILE) of chain 1> 117  \n",
      "<Residue 345 (PHE) of chain 1> 118  \n",
      "<Residue 346 (PRO) of chain 1> 119  \n",
      "<Residue 347 (PRO) of chain 1> 120  \n",
      "<Residue 348 (SER) of chain 1> 121  \n",
      "<Residue 349 (ASP) of chain 1> 122  \n",
      "<Residue 350 (GLU) of chain 1> 123  \n",
      "<Residue 351 (GLN) of chain 1> 124  \n",
      "<Residue 352 (LEU) of chain 1> 125  \n",
      "<Residue 353 (LYS) of chain 1> 126  \n",
      "<Residue 354 (SER) of chain 1> 127  \n",
      "<Residue 355 (GLY) of chain 1> 128  \n",
      "<Residue 356 (THR) of chain 1> 129  \n",
      "<Residue 357 (ALA) of chain 1> 130  \n",
      "<Residue 358 (SER) of chain 1> 131  \n",
      "<Residue 359 (VAL) of chain 1> 132  \n",
      "<Residue 360 (VAL) of chain 1> 133  \n",
      "<Residue 361 (CYS) of chain 1> 134  \n",
      "<Residue 362 (LEU) of chain 1> 135  \n",
      "<Residue 363 (LEU) of chain 1> 136  \n",
      "<Residue 364 (ASN) of chain 1> 137  \n",
      "<Residue 365 (ASN) of chain 1> 138  \n",
      "<Residue 366 (PHE) of chain 1> 139  \n",
      "<Residue 367 (TYR) of chain 1> 140  \n",
      "<Residue 368 (PRO) of chain 1> 141  \n",
      "<Residue 369 (ARG) of chain 1> 142  \n",
      "<Residue 370 (GLU) of chain 1> 143  \n",
      "<Residue 371 (ALA) of chain 1> 144  \n",
      "<Residue 372 (LYS) of chain 1> 145  \n",
      "<Residue 373 (VAL) of chain 1> 146  \n",
      "<Residue 374 (GLN) of chain 1> 147  \n",
      "<Residue 375 (TRP) of chain 1> 148  \n",
      "<Residue 376 (LYS) of chain 1> 149  \n",
      "<Residue 377 (VAL) of chain 1> 150  \n",
      "<Residue 378 (ASP) of chain 1> 151  \n",
      "<Residue 379 (ASN) of chain 1> 152  \n",
      "<Residue 380 (ALA) of chain 1> 153  \n",
      "<Residue 381 (LEU) of chain 1> 154  \n",
      "<Residue 382 (GLN) of chain 1> 155  \n",
      "<Residue 383 (SER) of chain 1> 156  \n",
      "<Residue 384 (GLY) of chain 1> 157  \n",
      "<Residue 385 (ASN) of chain 1> 158  \n",
      "<Residue 386 (SER) of chain 1> 159  \n",
      "<Residue 387 (GLN) of chain 1> 160  \n",
      "<Residue 388 (GLU) of chain 1> 161  \n",
      "<Residue 389 (SER) of chain 1> 162  \n",
      "<Residue 390 (VAL) of chain 1> 163  \n",
      "<Residue 391 (THR) of chain 1> 164  \n",
      "<Residue 392 (GLU) of chain 1> 165  \n",
      "<Residue 393 (GLN) of chain 1> 166  \n",
      "<Residue 394 (ASP) of chain 1> 167  \n",
      "<Residue 395 (SER) of chain 1> 168  \n",
      "<Residue 396 (LYS) of chain 1> 169  \n",
      "<Residue 397 (ASP) of chain 1> 170  \n",
      "<Residue 398 (SER) of chain 1> 171  \n",
      "<Residue 399 (THR) of chain 1> 172  \n",
      "<Residue 400 (TYR) of chain 1> 173  \n",
      "<Residue 401 (SER) of chain 1> 174  \n",
      "<Residue 402 (LEU) of chain 1> 175  \n",
      "<Residue 403 (SER) of chain 1> 176  \n",
      "<Residue 404 (SER) of chain 1> 177  \n",
      "<Residue 405 (THR) of chain 1> 178  \n",
      "<Residue 406 (LEU) of chain 1> 179  \n",
      "<Residue 407 (THR) of chain 1> 180  \n",
      "<Residue 408 (LEU) of chain 1> 181  \n",
      "<Residue 409 (SER) of chain 1> 182  \n",
      "<Residue 410 (LYS) of chain 1> 183  \n",
      "<Residue 411 (ALA) of chain 1> 184  \n",
      "<Residue 412 (ASP) of chain 1> 185  \n",
      "<Residue 413 (TYR) of chain 1> 186  \n",
      "<Residue 414 (GLU) of chain 1> 187  \n",
      "<Residue 415 (LYS) of chain 1> 188  \n",
      "<Residue 416 (HIS) of chain 1> 189  \n",
      "<Residue 417 (LYS) of chain 1> 190  \n",
      "<Residue 418 (VAL) of chain 1> 191  \n",
      "<Residue 419 (TYR) of chain 1> 192  \n",
      "<Residue 420 (ALA) of chain 1> 193  \n",
      "<Residue 421 (CYS) of chain 1> 194  \n",
      "<Residue 422 (GLU) of chain 1> 195  \n",
      "<Residue 423 (VAL) of chain 1> 196  \n",
      "<Residue 424 (THR) of chain 1> 197  \n",
      "<Residue 425 (HIS) of chain 1> 198  \n",
      "<Residue 426 (GLN) of chain 1> 199  \n",
      "<Residue 427 (GLY) of chain 1> 200  \n",
      "<Residue 428 (LEU) of chain 1> 201  \n",
      "<Residue 429 (SER) of chain 1> 202  \n",
      "<Residue 430 (SER) of chain 1> 203  \n",
      "<Residue 431 (PRO) of chain 1> 204  \n",
      "<Residue 432 (VAL) of chain 1> 205  \n",
      "<Residue 433 (THR) of chain 1> 206  \n",
      "<Residue 434 (LYS) of chain 1> 207  \n",
      "<Residue 435 (SER) of chain 1> 208  \n",
      "<Residue 436 (PHE) of chain 1> 209  \n",
      "<Residue 437 (ASN) of chain 1> 210  \n",
      "<Residue 438 (ARG) of chain 1> 211  \n",
      "<Residue 439 (GLY) of chain 1> 212 \n",
      "<Residue 440 (GLU) of chain 1> 213 \n",
      "<Residue 441 (CYS) of chain 1> 214 \n"
     ]
    }
   ],
   "source": [
    "for chain in fixer.topology.chains():\n",
    "    for res in chain.residues():\n",
    "        print(res, res.id, res.insertionCode)"
   ]
  },
  {
   "cell_type": "code",
   "execution_count": null,
   "metadata": {},
   "outputs": [],
   "source": []
  }
 ],
 "metadata": {
  "kernelspec": {
   "display_name": "Python 3",
   "language": "python",
   "name": "python3"
  },
  "language_info": {
   "codemirror_mode": {
    "name": "ipython",
    "version": 3
   },
   "file_extension": ".py",
   "mimetype": "text/x-python",
   "name": "python",
   "nbconvert_exporter": "python",
   "pygments_lexer": "ipython3",
   "version": "3.6.7"
  }
 },
 "nbformat": 4,
 "nbformat_minor": 2
}
