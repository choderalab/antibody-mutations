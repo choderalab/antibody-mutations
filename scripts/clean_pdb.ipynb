{
 "cells": [
  {
   "cell_type": "code",
   "execution_count": 31,
   "metadata": {},
   "outputs": [],
   "source": [
    "import pdbfixer\n",
    "import mdtraj as md\n",
    "from simtk.openmm.app import PDBFile"
   ]
  },
  {
   "cell_type": "markdown",
   "metadata": {},
   "source": [
    "# 5UDC"
   ]
  },
  {
   "cell_type": "code",
   "execution_count": null,
   "metadata": {},
   "outputs": [],
   "source": [
    "# Chain 0 : H\n",
    "# Chain 1 : L\n",
    "# Chain 2 : F \n",
    "# Chain 3 : B\n",
    "# Chain 4 : C\n",
    "# Chain 5 : A\n",
    "# Chain 6 : E\n",
    "# Chain 7 : G \n",
    "# Chain 8 : D "
   ]
  },
  {
   "cell_type": "code",
   "execution_count": 87,
   "metadata": {},
   "outputs": [],
   "source": [
    "# Load 5udc into MDTraj as a PDBTrajectoryFile\n",
    "traj = md.formats.PDBTrajectoryFile('../data/5udc/5udc.pdb')"
   ]
  },
  {
   "cell_type": "code",
   "execution_count": 88,
   "metadata": {},
   "outputs": [],
   "source": [
    "# Renumber residue numbers in each chain such that \n",
    "## inserted residues (e.g. 100, 100A, 100B, 100C) are incremented properly (i.e. 100, 101, 102, 103)\n",
    "## the residues after inserted residues are adjusted properly (e.g. 101 --> 104)\n",
    "## gaps for missing residues are maintained \n",
    "\n",
    "for chain in traj.topology.chains:\n",
    "    previous_res_cur = 0\n",
    "    previous_res_old = 0\n",
    "    for res in chain.residues:\n",
    "        res_old = res.resSeq\n",
    "        if res.resSeq == previous_res_cur:\n",
    "            res.resSeq += 1\n",
    "        elif res.resSeq == previous_res_old:\n",
    "            res.resSeq = previous_res_cur + 1\n",
    "        elif res.resSeq < previous_res_cur:\n",
    "            res.resSeq = previous_res_cur + (res_old - previous_res_old)\n",
    "        previous_res_cur = res.resSeq\n",
    "        previous_res_old = res_old\n",
    "#         print(res, res_old, res.resSeq)"
   ]
  },
  {
   "cell_type": "code",
   "execution_count": 34,
   "metadata": {},
   "outputs": [],
   "source": [
    "# Since MDTraj renames chains A, B, C, etc., rename them to match those in 5udc\n",
    "traj.set_chain_names(['H', 'L', 'F', 'B', 'C', 'A', 'E', 'G', 'D'])"
   ]
  },
  {
   "cell_type": "code",
   "execution_count": 35,
   "metadata": {},
   "outputs": [],
   "source": [
    "# Save to pdb file\n",
    "out_file = md.formats.PDBTrajectoryFile(\"../data/5udc/5udc_mdtraj.pdb\", mode='w')\n",
    "out_file.write(traj.positions[0], traj.topology) # 0th frame \n",
    "out_file.close()"
   ]
  },
  {
   "cell_type": "code",
   "execution_count": 89,
   "metadata": {},
   "outputs": [],
   "source": [
    "# Add SEQRES lines to 5udc_mdtraj.pdb manually\n",
    "\n",
    "# Now, load the file into PDBFixer\n",
    "fixer = pdbfixer.PDBFixer(filename='../data/5udc/5udc_mdtraj.pdb')"
   ]
  },
  {
   "cell_type": "code",
   "execution_count": null,
   "metadata": {},
   "outputs": [],
   "source": [
    "# Remove unwanted chains\n",
    "# fixer.removeChains(indices)"
   ]
  },
  {
   "cell_type": "code",
   "execution_count": 91,
   "metadata": {},
   "outputs": [
    {
     "data": {
      "text/plain": [
       "{(0, 0): ['GLN'],\n",
       " (0, 139): ['SER', 'LYS', 'SER', 'THR', 'SER', 'GLY'],\n",
       " (0, 217): ['GLU', 'PRO', 'LYS', 'SER'],\n",
       " (1, 211): ['GLY', 'GLU', 'CYS'],\n",
       " (2, 0): ['MET',\n",
       "  'GLU',\n",
       "  'LEU',\n",
       "  'LEU',\n",
       "  'ILE',\n",
       "  'LEU',\n",
       "  'LYS',\n",
       "  'ALA',\n",
       "  'ASN',\n",
       "  'ALA',\n",
       "  'ILE',\n",
       "  'THR',\n",
       "  'THR',\n",
       "  'ILE',\n",
       "  'LEU',\n",
       "  'THR',\n",
       "  'ALA',\n",
       "  'VAL',\n",
       "  'THR',\n",
       "  'PHE',\n",
       "  'CYS',\n",
       "  'PHE',\n",
       "  'ALA',\n",
       "  'SER',\n",
       "  'GLY',\n",
       "  'GLN'],\n",
       " (2, 72): ['SER',\n",
       "  'THR',\n",
       "  'PRO',\n",
       "  'ALA',\n",
       "  'THR',\n",
       "  'ASN',\n",
       "  'ASN',\n",
       "  'ARG',\n",
       "  'ALA',\n",
       "  'ARG',\n",
       "  'ARG',\n",
       "  'GLU',\n",
       "  'LEU',\n",
       "  'PRO',\n",
       "  'ARG',\n",
       "  'PHE',\n",
       "  'MET',\n",
       "  'ASN',\n",
       "  'TYR',\n",
       "  'THR',\n",
       "  'LEU',\n",
       "  'ASN',\n",
       "  'ASN',\n",
       "  'ALA',\n",
       "  'LYS',\n",
       "  'LYS',\n",
       "  'THR',\n",
       "  'ASN',\n",
       "  'VAL',\n",
       "  'THR',\n",
       "  'LEU',\n",
       "  'SER',\n",
       "  'LYS',\n",
       "  'LYS',\n",
       "  'ARG',\n",
       "  'LYS',\n",
       "  'ARG',\n",
       "  'ARG'],\n",
       " (2, 449): ['SER',\n",
       "  'ALA',\n",
       "  'ILE',\n",
       "  'GLY',\n",
       "  'GLY',\n",
       "  'TYR',\n",
       "  'ILE',\n",
       "  'PRO',\n",
       "  'GLU',\n",
       "  'ALA',\n",
       "  'PRO',\n",
       "  'ARG',\n",
       "  'ASP',\n",
       "  'GLY',\n",
       "  'GLN',\n",
       "  'ALA',\n",
       "  'TYR',\n",
       "  'VAL',\n",
       "  'ARG',\n",
       "  'LYS',\n",
       "  'ASP',\n",
       "  'GLY',\n",
       "  'GLU',\n",
       "  'TRP',\n",
       "  'VAL',\n",
       "  'LEU',\n",
       "  'LEU',\n",
       "  'SER',\n",
       "  'THR',\n",
       "  'PHE',\n",
       "  'LEU',\n",
       "  'GLY',\n",
       "  'GLY',\n",
       "  'LEU',\n",
       "  'VAL',\n",
       "  'PRO',\n",
       "  'ARG',\n",
       "  'GLY',\n",
       "  'SER',\n",
       "  'HIS',\n",
       "  'HIS',\n",
       "  'HIS',\n",
       "  'HIS',\n",
       "  'HIS',\n",
       "  'HIS',\n",
       "  'SER',\n",
       "  'ALA',\n",
       "  'TRP',\n",
       "  'SER',\n",
       "  'HIS',\n",
       "  'PRO',\n",
       "  'GLN',\n",
       "  'PHE',\n",
       "  'GLU',\n",
       "  'LYS'],\n",
       " (3, 0): ['GLN'],\n",
       " (3, 139): ['SER', 'LYS', 'SER', 'THR', 'SER', 'GLY', 'GLY'],\n",
       " (3, 218): ['LYS', 'SER'],\n",
       " (4, 211): ['GLY', 'GLU', 'CYS'],\n",
       " (5, 0): ['MET',\n",
       "  'GLU',\n",
       "  'LEU',\n",
       "  'LEU',\n",
       "  'ILE',\n",
       "  'LEU',\n",
       "  'LYS',\n",
       "  'ALA',\n",
       "  'ASN',\n",
       "  'ALA',\n",
       "  'ILE',\n",
       "  'THR',\n",
       "  'THR',\n",
       "  'ILE',\n",
       "  'LEU',\n",
       "  'THR',\n",
       "  'ALA',\n",
       "  'VAL',\n",
       "  'THR',\n",
       "  'PHE',\n",
       "  'CYS',\n",
       "  'PHE',\n",
       "  'ALA',\n",
       "  'SER',\n",
       "  'GLY',\n",
       "  'GLN'],\n",
       " (5, 72): ['SER',\n",
       "  'THR',\n",
       "  'PRO',\n",
       "  'ALA',\n",
       "  'THR',\n",
       "  'ASN',\n",
       "  'ASN',\n",
       "  'ARG',\n",
       "  'ALA',\n",
       "  'ARG',\n",
       "  'ARG',\n",
       "  'GLU',\n",
       "  'LEU',\n",
       "  'PRO',\n",
       "  'ARG',\n",
       "  'PHE',\n",
       "  'MET',\n",
       "  'ASN',\n",
       "  'TYR',\n",
       "  'THR',\n",
       "  'LEU',\n",
       "  'ASN',\n",
       "  'ASN',\n",
       "  'ALA',\n",
       "  'LYS',\n",
       "  'LYS',\n",
       "  'THR',\n",
       "  'ASN',\n",
       "  'VAL',\n",
       "  'THR',\n",
       "  'LEU',\n",
       "  'SER',\n",
       "  'LYS',\n",
       "  'LYS',\n",
       "  'ARG',\n",
       "  'LYS',\n",
       "  'ARG',\n",
       "  'ARG'],\n",
       " (5, 448): ['LEU',\n",
       "  'SER',\n",
       "  'ALA',\n",
       "  'ILE',\n",
       "  'GLY',\n",
       "  'GLY',\n",
       "  'TYR',\n",
       "  'ILE',\n",
       "  'PRO',\n",
       "  'GLU',\n",
       "  'ALA',\n",
       "  'PRO',\n",
       "  'ARG',\n",
       "  'ASP',\n",
       "  'GLY',\n",
       "  'GLN',\n",
       "  'ALA',\n",
       "  'TYR',\n",
       "  'VAL',\n",
       "  'ARG',\n",
       "  'LYS',\n",
       "  'ASP',\n",
       "  'GLY',\n",
       "  'GLU',\n",
       "  'TRP',\n",
       "  'VAL',\n",
       "  'LEU',\n",
       "  'LEU',\n",
       "  'SER',\n",
       "  'THR',\n",
       "  'PHE',\n",
       "  'LEU',\n",
       "  'GLY',\n",
       "  'GLY',\n",
       "  'LEU',\n",
       "  'VAL',\n",
       "  'PRO',\n",
       "  'ARG',\n",
       "  'GLY',\n",
       "  'SER',\n",
       "  'HIS',\n",
       "  'HIS',\n",
       "  'HIS',\n",
       "  'HIS',\n",
       "  'HIS',\n",
       "  'HIS',\n",
       "  'SER',\n",
       "  'ALA',\n",
       "  'TRP',\n",
       "  'SER',\n",
       "  'HIS',\n",
       "  'PRO',\n",
       "  'GLN',\n",
       "  'PHE',\n",
       "  'GLU',\n",
       "  'LYS'],\n",
       " (6, 139): ['SER', 'SER', 'LYS', 'SER', 'THR', 'SER', 'GLY', 'GLY'],\n",
       " (7, 213): ['CYS'],\n",
       " (8, 0): ['MET',\n",
       "  'GLU',\n",
       "  'LEU',\n",
       "  'LEU',\n",
       "  'ILE',\n",
       "  'LEU',\n",
       "  'LYS',\n",
       "  'ALA',\n",
       "  'ASN',\n",
       "  'ALA',\n",
       "  'ILE',\n",
       "  'THR',\n",
       "  'THR',\n",
       "  'ILE',\n",
       "  'LEU',\n",
       "  'THR',\n",
       "  'ALA',\n",
       "  'VAL',\n",
       "  'THR',\n",
       "  'PHE',\n",
       "  'CYS',\n",
       "  'PHE',\n",
       "  'ALA',\n",
       "  'SER',\n",
       "  'GLY',\n",
       "  'GLN'],\n",
       " (8, 71): ['GLN',\n",
       "  'SER',\n",
       "  'THR',\n",
       "  'PRO',\n",
       "  'ALA',\n",
       "  'THR',\n",
       "  'ASN',\n",
       "  'ASN',\n",
       "  'ARG',\n",
       "  'ALA',\n",
       "  'ARG',\n",
       "  'ARG',\n",
       "  'GLU',\n",
       "  'LEU',\n",
       "  'PRO',\n",
       "  'ARG',\n",
       "  'PHE',\n",
       "  'MET',\n",
       "  'ASN',\n",
       "  'TYR',\n",
       "  'THR',\n",
       "  'LEU',\n",
       "  'ASN',\n",
       "  'ASN',\n",
       "  'ALA',\n",
       "  'LYS',\n",
       "  'LYS',\n",
       "  'THR',\n",
       "  'ASN',\n",
       "  'VAL',\n",
       "  'THR',\n",
       "  'LEU',\n",
       "  'SER',\n",
       "  'LYS',\n",
       "  'LYS',\n",
       "  'ARG',\n",
       "  'LYS',\n",
       "  'ARG',\n",
       "  'ARG'],\n",
       " (8, 448): ['SER',\n",
       "  'ALA',\n",
       "  'ILE',\n",
       "  'GLY',\n",
       "  'GLY',\n",
       "  'TYR',\n",
       "  'ILE',\n",
       "  'PRO',\n",
       "  'GLU',\n",
       "  'ALA',\n",
       "  'PRO',\n",
       "  'ARG',\n",
       "  'ASP',\n",
       "  'GLY',\n",
       "  'GLN',\n",
       "  'ALA',\n",
       "  'TYR',\n",
       "  'VAL',\n",
       "  'ARG',\n",
       "  'LYS',\n",
       "  'ASP',\n",
       "  'GLY',\n",
       "  'GLU',\n",
       "  'TRP',\n",
       "  'VAL',\n",
       "  'LEU',\n",
       "  'LEU',\n",
       "  'SER',\n",
       "  'THR',\n",
       "  'PHE',\n",
       "  'LEU',\n",
       "  'GLY',\n",
       "  'GLY',\n",
       "  'LEU',\n",
       "  'VAL',\n",
       "  'PRO',\n",
       "  'ARG',\n",
       "  'GLY',\n",
       "  'SER',\n",
       "  'HIS',\n",
       "  'HIS',\n",
       "  'HIS',\n",
       "  'HIS',\n",
       "  'HIS',\n",
       "  'HIS',\n",
       "  'SER',\n",
       "  'ALA',\n",
       "  'TRP',\n",
       "  'SER',\n",
       "  'HIS',\n",
       "  'PRO',\n",
       "  'GLN',\n",
       "  'PHE',\n",
       "  'GLU',\n",
       "  'LYS']}"
      ]
     },
     "execution_count": 91,
     "metadata": {},
     "output_type": "execute_result"
    }
   ],
   "source": [
    "# Identify missing residues\n",
    "fixer.findMissingResidues()\n",
    "fixer.missingResidues"
   ]
  },
  {
   "cell_type": "code",
   "execution_count": 64,
   "metadata": {
    "scrolled": true
   },
   "outputs": [
    {
     "name": "stdout",
     "output_type": "stream",
     "text": [
      "(8, 448) <Chain 8>\n",
      "(5, 448) <Chain 5>\n",
      "(8, 0) <Chain 8>\n",
      "(2, 0) <Chain 2>\n",
      "(2, 449) <Chain 2>\n",
      "(5, 0) <Chain 5>\n"
     ]
    }
   ],
   "source": [
    "# Remove missing residues if they are part of terminal fragments \n",
    "chains = list(fixer.topology.chains())\n",
    "keys = fixer.missingResidues.keys()\n",
    "for key in list(keys): # Declare as list because makes a copy of the dict keys\n",
    "    chain = chains[key[0]]\n",
    "    if key[1] == 0 or key[1] == len(list(chain.residues())):\n",
    "        if len(fixer.missingResidues[key]) > 10: # Do not add back terminal fragment if its longer than 10 residues\n",
    "            print(key, chain)\n",
    "            del fixer.missingResidues[key]\n"
   ]
  },
  {
   "cell_type": "code",
   "execution_count": 65,
   "metadata": {},
   "outputs": [
    {
     "data": {
      "text/plain": [
       "[]"
      ]
     },
     "execution_count": 65,
     "metadata": {},
     "output_type": "execute_result"
    }
   ],
   "source": [
    "# Identify nonstandard residues\n",
    "fixer.findNonstandardResidues()\n",
    "fixer.nonstandardResidues\n",
    "# fixer.replaceNonstandardResidues()"
   ]
  },
  {
   "cell_type": "code",
   "execution_count": 66,
   "metadata": {},
   "outputs": [],
   "source": [
    "# Remove heterogens\n",
    "\n",
    "# The argument specifies whether to keep water molecules. \n",
    "# False removes all heterogens including water. \n",
    "# True keeps water molecules while removing all other heterogens.\n",
    "\n",
    "fixer.removeHeterogens(False)\n"
   ]
  },
  {
   "cell_type": "code",
   "execution_count": 67,
   "metadata": {},
   "outputs": [],
   "source": [
    "# Add missing heavy atoms\n",
    "\n",
    "# findMissingAtoms() identifies all missing heavy atoms \n",
    "# and stores them into two fields called missingAtoms and missingTerminals. \n",
    "# Each of these is a dictionary whose keys are Residue objects and whose values are lists of atom names. \n",
    "# missingAtoms contains standard atoms that should be present in any residue of that type, \n",
    "# while missingTerminals contains missing terminal atoms that should be present at the start or end of a chain. \n",
    "# You are free to remove atoms from these dictionaries before continuing, if you want to prevent certain atoms \n",
    "# from being added.\n",
    "\n",
    "fixer.findMissingAtoms()\n"
   ]
  },
  {
   "cell_type": "code",
   "execution_count": 68,
   "metadata": {},
   "outputs": [
    {
     "data": {
      "text/plain": [
       "{}"
      ]
     },
     "execution_count": 68,
     "metadata": {},
     "output_type": "execute_result"
    }
   ],
   "source": [
    "fixer.missingAtoms"
   ]
  },
  {
   "cell_type": "code",
   "execution_count": 69,
   "metadata": {},
   "outputs": [
    {
     "data": {
      "text/plain": [
       "{<Residue 1753 (LEU) of chain 5>: ['OXT'],\n",
       " <Residue 1973 (SER) of chain 6>: ['OXT'],\n",
       " <Residue 2634 (LEU) of chain 8>: ['OXT'],\n",
       " <Residue 876 (LEU) of chain 2>: ['OXT']}"
      ]
     },
     "execution_count": 69,
     "metadata": {},
     "output_type": "execute_result"
    }
   ],
   "source": [
    "fixer.missingTerminals"
   ]
  },
  {
   "cell_type": "code",
   "execution_count": 70,
   "metadata": {},
   "outputs": [],
   "source": [
    "# addMissingAtoms() is the point at which all heavy atoms get added. \n",
    "# This includes the ones identified by findMissingAtoms() as well \n",
    "# as the missing residues identified by findMissingResidues(). \n",
    "# Also, if you used replaceNonstandardResidues() to modify any residues, \n",
    "# that will have removed any atoms that do not belong in the replacement residue, \n",
    "# but it will not have added ones that are missing from the original residue. \n",
    "# addMissingAtoms() is the point when those get added.\n",
    "\n",
    "fixer.addMissingAtoms()"
   ]
  },
  {
   "cell_type": "code",
   "execution_count": null,
   "metadata": {},
   "outputs": [],
   "source": [
    "# Add missing hydrogens\n",
    "# fixer.addMissingHydrogens(7.0)"
   ]
  },
  {
   "cell_type": "code",
   "execution_count": 72,
   "metadata": {},
   "outputs": [],
   "source": [
    "PDBFile.writeFile(fixer.topology, fixer.positions, open('../data/5udc/5udc_clean_nolongterms.pdb', 'w'))\n"
   ]
  },
  {
   "cell_type": "markdown",
   "metadata": {},
   "source": [
    "# 4JHW"
   ]
  },
  {
   "cell_type": "code",
   "execution_count": null,
   "metadata": {},
   "outputs": [],
   "source": [
    "# Chain 0 : H\n",
    "## Missing 214-217\n",
    "\n",
    "# Chain 1 : L\n",
    "## Missing 212-214\n",
    "\n",
    "# Chain 2 : F\n",
    "## Missing 125-136 and 514-550"
   ]
  },
  {
   "cell_type": "code",
   "execution_count": 147,
   "metadata": {},
   "outputs": [],
   "source": [
    "# Load 5udc into MDTraj as a PDBTrajectoryFile\n",
    "traj = md.formats.PDBTrajectoryFile('../data/4jhw/4jhw_add_missing.pdb')"
   ]
  },
  {
   "cell_type": "code",
   "execution_count": 148,
   "metadata": {},
   "outputs": [],
   "source": [
    "# Renumber residue numbers in each chain such that \n",
    "## inserted residues (e.g. 100, 100A, 100B, 100C) are incremented properly (i.e. 100, 101, 102, 103)\n",
    "## the residues after inserted residues are adjusted properly (e.g. 101 --> 104)\n",
    "## gaps for missing residues are maintained \n",
    "\n",
    "for chain in traj.topology.chains:\n",
    "    previous_res_cur = 0\n",
    "    previous_res_old = 0\n",
    "    for res in chain.residues:\n",
    "        res_old = res.resSeq\n",
    "        if res.resSeq == previous_res_cur:\n",
    "            res.resSeq += 1\n",
    "        elif res.resSeq == previous_res_old:\n",
    "            res.resSeq = previous_res_cur + 1\n",
    "        elif res.resSeq < previous_res_cur:\n",
    "            res.resSeq = previous_res_cur + (res_old - previous_res_old)\n",
    "        previous_res_cur = res.resSeq\n",
    "        previous_res_old = res_old\n",
    "#         print(res, res_old, res.resSeq)"
   ]
  },
  {
   "cell_type": "code",
   "execution_count": 150,
   "metadata": {},
   "outputs": [],
   "source": [
    "# Since MDTraj renames chains A, B, C, etc., rename them to match those in 5udc\n",
    "traj.set_chain_names(['H', 'L', 'F'])"
   ]
  },
  {
   "cell_type": "code",
   "execution_count": 165,
   "metadata": {},
   "outputs": [],
   "source": [
    "# Save to pdb file\n",
    "out_file = md.formats.PDBTrajectoryFile(\"../data/4jhw/4jhw_mdtraj_add_missing.pdb\", mode='w')\n",
    "out_file.write(traj.positions[0], traj.topology) # 0th frame \n",
    "out_file.close()"
   ]
  },
  {
   "cell_type": "code",
   "execution_count": 180,
   "metadata": {},
   "outputs": [],
   "source": [
    "# Add SEQRES lines to 5udc_mdtraj.pdb manually\n",
    "\n",
    "# Now, load the file into PDBFixer\n",
    "fixer = pdbfixer.PDBFixer(filename='../data/4jhw/4jhw_mdtraj_add_missing.pdb')"
   ]
  },
  {
   "cell_type": "code",
   "execution_count": 182,
   "metadata": {},
   "outputs": [],
   "source": [
    "# Remove unwanted chains\n",
    "# fixer.removeChains([2])"
   ]
  },
  {
   "cell_type": "code",
   "execution_count": 188,
   "metadata": {},
   "outputs": [
    {
     "data": {
      "text/plain": [
       "{(0, 226): ['LYS', 'SER', 'CYS', 'ASP'],\n",
       " (1, 211): ['GLY', 'GLU', 'CYS'],\n",
       " (2, 72): ['GLN',\n",
       "  'SER',\n",
       "  'THR',\n",
       "  'PRO',\n",
       "  'ALA',\n",
       "  'THR',\n",
       "  'ASN',\n",
       "  'ASN',\n",
       "  'ARG',\n",
       "  'ALA',\n",
       "  'ARG',\n",
       "  'ARG',\n",
       "  'GLU',\n",
       "  'LEU',\n",
       "  'PRO',\n",
       "  'ARG',\n",
       "  'PHE',\n",
       "  'MET',\n",
       "  'ASN',\n",
       "  'TYR',\n",
       "  'THR',\n",
       "  'LEU',\n",
       "  'ASN',\n",
       "  'ASN',\n",
       "  'ALA',\n",
       "  'LYS',\n",
       "  'LYS',\n",
       "  'THR',\n",
       "  'ASN',\n",
       "  'VAL',\n",
       "  'THR',\n",
       "  'LEU',\n",
       "  'SER',\n",
       "  'LYS',\n",
       "  'LYS',\n",
       "  'ARG',\n",
       "  'LYS',\n",
       "  'ARG',\n",
       "  'ARG'],\n",
       " (2, 449): ['SER',\n",
       "  'ALA',\n",
       "  'ILE',\n",
       "  'GLY',\n",
       "  'GLY',\n",
       "  'TYR',\n",
       "  'ILE',\n",
       "  'PRO',\n",
       "  'GLU',\n",
       "  'ALA',\n",
       "  'PRO',\n",
       "  'ARG',\n",
       "  'ASP',\n",
       "  'GLY',\n",
       "  'GLN',\n",
       "  'ALA',\n",
       "  'TYR',\n",
       "  'VAL',\n",
       "  'ARG',\n",
       "  'LYS',\n",
       "  'ASP',\n",
       "  'GLY',\n",
       "  'GLU',\n",
       "  'TRP',\n",
       "  'VAL',\n",
       "  'LEU',\n",
       "  'LEU',\n",
       "  'SER',\n",
       "  'THR',\n",
       "  'PHE',\n",
       "  'LEU',\n",
       "  'GLY',\n",
       "  'GLY',\n",
       "  'LEU',\n",
       "  'VAL',\n",
       "  'PRO',\n",
       "  'ARG']}"
      ]
     },
     "execution_count": 188,
     "metadata": {},
     "output_type": "execute_result"
    }
   ],
   "source": [
    "# Identify missing residues\n",
    "fixer.findMissingResidues()\n",
    "fixer.missingResidues"
   ]
  },
  {
   "cell_type": "code",
   "execution_count": 189,
   "metadata": {},
   "outputs": [
    {
     "name": "stdout",
     "output_type": "stream",
     "text": [
      "(2, 449) <Chain 2>\n"
     ]
    }
   ],
   "source": [
    "# Remove missing residues if they are part of terminal fragments \n",
    "chains = list(fixer.topology.chains())\n",
    "keys = fixer.missingResidues.keys()\n",
    "for key in list(keys): # Declare as list because makes a copy of the dict keys\n",
    "    chain = chains[key[0]]\n",
    "    if key[1] == 0 or key[1] == len(list(chain.residues())):\n",
    "        if len(fixer.missingResidues[key]) > 10: # Do not add back terminal fragment if its longer than 10 residues\n",
    "            print(key, chain)\n",
    "            del fixer.missingResidues[key]\n"
   ]
  },
  {
   "cell_type": "code",
   "execution_count": 190,
   "metadata": {},
   "outputs": [
    {
     "data": {
      "text/plain": [
       "[]"
      ]
     },
     "execution_count": 190,
     "metadata": {},
     "output_type": "execute_result"
    }
   ],
   "source": [
    "# Identify nonstandard residues\n",
    "fixer.findNonstandardResidues()\n",
    "fixer.nonstandardResidues\n",
    "# fixer.replaceNonstandardResidues()"
   ]
  },
  {
   "cell_type": "code",
   "execution_count": 191,
   "metadata": {},
   "outputs": [],
   "source": [
    "# Remove heterogens\n",
    "\n",
    "# The argument specifies whether to keep water molecules. \n",
    "# False removes all heterogens including water. \n",
    "# True keeps water molecules while removing all other heterogens.\n",
    "\n",
    "fixer.removeHeterogens(False)\n"
   ]
  },
  {
   "cell_type": "code",
   "execution_count": 192,
   "metadata": {},
   "outputs": [],
   "source": [
    "# Add missing heavy atoms\n",
    "\n",
    "# findMissingAtoms() identifies all missing heavy atoms \n",
    "# and stores them into two fields called missingAtoms and missingTerminals. \n",
    "# Each of these is a dictionary whose keys are Residue objects and whose values are lists of atom names. \n",
    "# missingAtoms contains standard atoms that should be present in any residue of that type, \n",
    "# while missingTerminals contains missing terminal atoms that should be present at the start or end of a chain. \n",
    "# You are free to remove atoms from these dictionaries before continuing, if you want to prevent certain atoms \n",
    "# from being added.\n",
    "\n",
    "fixer.findMissingAtoms()\n"
   ]
  },
  {
   "cell_type": "code",
   "execution_count": 193,
   "metadata": {},
   "outputs": [
    {
     "data": {
      "text/plain": [
       "{}"
      ]
     },
     "execution_count": 193,
     "metadata": {},
     "output_type": "execute_result"
    }
   ],
   "source": [
    "fixer.missingAtoms"
   ]
  },
  {
   "cell_type": "code",
   "execution_count": 194,
   "metadata": {},
   "outputs": [
    {
     "data": {
      "text/plain": [
       "{<Residue 885 (LEU) of chain 2>: ['OXT']}"
      ]
     },
     "execution_count": 194,
     "metadata": {},
     "output_type": "execute_result"
    }
   ],
   "source": [
    "fixer.missingTerminals"
   ]
  },
  {
   "cell_type": "code",
   "execution_count": 195,
   "metadata": {},
   "outputs": [],
   "source": [
    "# addMissingAtoms() is the point at which all heavy atoms get added. \n",
    "# This includes the ones identified by findMissingAtoms() as well \n",
    "# as the missing residues identified by findMissingResidues(). \n",
    "# Also, if you used replaceNonstandardResidues() to modify any residues, \n",
    "# that will have removed any atoms that do not belong in the replacement residue, \n",
    "# but it will not have added ones that are missing from the original residue. \n",
    "# addMissingAtoms() is the point when those get added.\n",
    "\n",
    "fixer.addMissingAtoms()"
   ]
  },
  {
   "cell_type": "code",
   "execution_count": null,
   "metadata": {},
   "outputs": [],
   "source": [
    "# Add missing hydrogens\n",
    "# fixer.addMissingHydrogens(7.0)"
   ]
  },
  {
   "cell_type": "code",
   "execution_count": 196,
   "metadata": {},
   "outputs": [],
   "source": [
    "PDBFile.writeFile(fixer.topology, fixer.positions, open('../data/4jhw/4jhw_clean.pdb', 'w'))\n"
   ]
  },
  {
   "cell_type": "code",
   "execution_count": null,
   "metadata": {},
   "outputs": [],
   "source": []
  }
 ],
 "metadata": {
  "kernelspec": {
   "display_name": "Python 3",
   "language": "python",
   "name": "python3"
  },
  "language_info": {
   "codemirror_mode": {
    "name": "ipython",
    "version": 3
   },
   "file_extension": ".py",
   "mimetype": "text/x-python",
   "name": "python",
   "nbconvert_exporter": "python",
   "pygments_lexer": "ipython3",
   "version": "3.5.5"
  }
 },
 "nbformat": 4,
 "nbformat_minor": 2
}
